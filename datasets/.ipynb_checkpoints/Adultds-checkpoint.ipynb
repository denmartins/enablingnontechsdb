{
 "cells": [
  {
   "cell_type": "code",
   "execution_count": 39,
   "metadata": {},
   "outputs": [],
   "source": [
    "import pandas as pd\n",
    "import os\n",
    "import numpy as np"
   ]
  },
  {
   "cell_type": "code",
   "execution_count": 40,
   "metadata": {},
   "outputs": [],
   "source": [
    "df = pd.read_csv(os.path.join('../datasets', 'adult_without_missing_data.data'), index_col=0)"
   ]
  },
  {
   "cell_type": "code",
   "execution_count": 41,
   "metadata": {},
   "outputs": [],
   "source": [
    "df.columns = [c.replace('-','') for c in df.columns]"
   ]
  },
  {
   "cell_type": "code",
   "execution_count": 42,
   "metadata": {},
   "outputs": [],
   "source": [
    "del df['class']\n",
    "#df['class'] = df.apply(lambda row: 1 if '>50K'in row['class'] else 0, axis=1)"
   ]
  },
  {
   "cell_type": "code",
   "execution_count": 43,
   "metadata": {},
   "outputs": [
    {
     "data": {
      "text/html": [
       "<div>\n",
       "<style scoped>\n",
       "    .dataframe tbody tr th:only-of-type {\n",
       "        vertical-align: middle;\n",
       "    }\n",
       "\n",
       "    .dataframe tbody tr th {\n",
       "        vertical-align: top;\n",
       "    }\n",
       "\n",
       "    .dataframe thead th {\n",
       "        text-align: right;\n",
       "    }\n",
       "</style>\n",
       "<table border=\"1\" class=\"dataframe\">\n",
       "  <thead>\n",
       "    <tr style=\"text-align: right;\">\n",
       "      <th></th>\n",
       "      <th>age</th>\n",
       "      <th>workclass</th>\n",
       "      <th>fnlwgt</th>\n",
       "      <th>education</th>\n",
       "      <th>educationnum</th>\n",
       "      <th>maritalstatus</th>\n",
       "      <th>occupation</th>\n",
       "      <th>relationship</th>\n",
       "      <th>race</th>\n",
       "      <th>sex</th>\n",
       "      <th>capitalgain</th>\n",
       "      <th>capitalloss</th>\n",
       "      <th>hoursperweek</th>\n",
       "      <th>nativecountry</th>\n",
       "    </tr>\n",
       "  </thead>\n",
       "  <tbody>\n",
       "    <tr>\n",
       "      <th>0</th>\n",
       "      <td>39</td>\n",
       "      <td>State-gov</td>\n",
       "      <td>77516</td>\n",
       "      <td>Bachelors</td>\n",
       "      <td>13</td>\n",
       "      <td>Never-married</td>\n",
       "      <td>Adm-clerical</td>\n",
       "      <td>Not-in-family</td>\n",
       "      <td>White</td>\n",
       "      <td>Male</td>\n",
       "      <td>2174</td>\n",
       "      <td>0</td>\n",
       "      <td>40</td>\n",
       "      <td>United-States</td>\n",
       "    </tr>\n",
       "    <tr>\n",
       "      <th>1</th>\n",
       "      <td>50</td>\n",
       "      <td>Self-emp-not-inc</td>\n",
       "      <td>83311</td>\n",
       "      <td>Bachelors</td>\n",
       "      <td>13</td>\n",
       "      <td>Married-civ-spouse</td>\n",
       "      <td>Exec-managerial</td>\n",
       "      <td>Husband</td>\n",
       "      <td>White</td>\n",
       "      <td>Male</td>\n",
       "      <td>0</td>\n",
       "      <td>0</td>\n",
       "      <td>13</td>\n",
       "      <td>United-States</td>\n",
       "    </tr>\n",
       "    <tr>\n",
       "      <th>2</th>\n",
       "      <td>38</td>\n",
       "      <td>Private</td>\n",
       "      <td>215646</td>\n",
       "      <td>HS-grad</td>\n",
       "      <td>9</td>\n",
       "      <td>Divorced</td>\n",
       "      <td>Handlers-cleaners</td>\n",
       "      <td>Not-in-family</td>\n",
       "      <td>White</td>\n",
       "      <td>Male</td>\n",
       "      <td>0</td>\n",
       "      <td>0</td>\n",
       "      <td>40</td>\n",
       "      <td>United-States</td>\n",
       "    </tr>\n",
       "    <tr>\n",
       "      <th>3</th>\n",
       "      <td>53</td>\n",
       "      <td>Private</td>\n",
       "      <td>234721</td>\n",
       "      <td>11th</td>\n",
       "      <td>7</td>\n",
       "      <td>Married-civ-spouse</td>\n",
       "      <td>Handlers-cleaners</td>\n",
       "      <td>Husband</td>\n",
       "      <td>Black</td>\n",
       "      <td>Male</td>\n",
       "      <td>0</td>\n",
       "      <td>0</td>\n",
       "      <td>40</td>\n",
       "      <td>United-States</td>\n",
       "    </tr>\n",
       "    <tr>\n",
       "      <th>4</th>\n",
       "      <td>28</td>\n",
       "      <td>Private</td>\n",
       "      <td>338409</td>\n",
       "      <td>Bachelors</td>\n",
       "      <td>13</td>\n",
       "      <td>Married-civ-spouse</td>\n",
       "      <td>Prof-specialty</td>\n",
       "      <td>Wife</td>\n",
       "      <td>Black</td>\n",
       "      <td>Female</td>\n",
       "      <td>0</td>\n",
       "      <td>0</td>\n",
       "      <td>40</td>\n",
       "      <td>Cuba</td>\n",
       "    </tr>\n",
       "  </tbody>\n",
       "</table>\n",
       "</div>"
      ],
      "text/plain": [
       "   age          workclass  fnlwgt   education  educationnum  \\\n",
       "0   39          State-gov   77516   Bachelors            13   \n",
       "1   50   Self-emp-not-inc   83311   Bachelors            13   \n",
       "2   38            Private  215646     HS-grad             9   \n",
       "3   53            Private  234721        11th             7   \n",
       "4   28            Private  338409   Bachelors            13   \n",
       "\n",
       "         maritalstatus          occupation    relationship    race      sex  \\\n",
       "0        Never-married        Adm-clerical   Not-in-family   White     Male   \n",
       "1   Married-civ-spouse     Exec-managerial         Husband   White     Male   \n",
       "2             Divorced   Handlers-cleaners   Not-in-family   White     Male   \n",
       "3   Married-civ-spouse   Handlers-cleaners         Husband   Black     Male   \n",
       "4   Married-civ-spouse      Prof-specialty            Wife   Black   Female   \n",
       "\n",
       "   capitalgain  capitalloss  hoursperweek   nativecountry  \n",
       "0         2174            0            40   United-States  \n",
       "1            0            0            13   United-States  \n",
       "2            0            0            40   United-States  \n",
       "3            0            0            40   United-States  \n",
       "4            0            0            40            Cuba  "
      ]
     },
     "execution_count": 43,
     "metadata": {},
     "output_type": "execute_result"
    }
   ],
   "source": [
    "df.head()"
   ]
  },
  {
   "cell_type": "code",
   "execution_count": 44,
   "metadata": {},
   "outputs": [],
   "source": [
    "cols = ['workclass', 'education', 'maritalstatus', 'occupation', 'relationship', 'race', 'sex', 'nativecountry']\n",
    "dummies = pd.get_dummies(df, columns=cols)"
   ]
  },
  {
   "cell_type": "code",
   "execution_count": 45,
   "metadata": {},
   "outputs": [
    {
     "name": "stderr",
     "output_type": "stream",
     "text": [
      "C:\\Users\\d_mart04\\Python\\lib\\site-packages\\sklearn\\utils\\validation.py:595: DataConversionWarning: Data with input dtype int64 was converted to float64 by MinMaxScaler.\n",
      "  warnings.warn(msg, DataConversionWarning)\n"
     ]
    }
   ],
   "source": [
    "from sklearn import preprocessing\n",
    "min_max_scaler = preprocessing.MinMaxScaler()\n",
    "data = dummies.values \n",
    "data = min_max_scaler.fit_transform(data)\n",
    "dummies = pd.DataFrame(data, columns=dummies.columns)"
   ]
  },
  {
   "cell_type": "code",
   "execution_count": 46,
   "metadata": {},
   "outputs": [
    {
     "data": {
      "text/html": [
       "<div>\n",
       "<style scoped>\n",
       "    .dataframe tbody tr th:only-of-type {\n",
       "        vertical-align: middle;\n",
       "    }\n",
       "\n",
       "    .dataframe tbody tr th {\n",
       "        vertical-align: top;\n",
       "    }\n",
       "\n",
       "    .dataframe thead th {\n",
       "        text-align: right;\n",
       "    }\n",
       "</style>\n",
       "<table border=\"1\" class=\"dataframe\">\n",
       "  <thead>\n",
       "    <tr style=\"text-align: right;\">\n",
       "      <th></th>\n",
       "      <th>age</th>\n",
       "      <th>fnlwgt</th>\n",
       "      <th>educationnum</th>\n",
       "      <th>capitalgain</th>\n",
       "      <th>capitalloss</th>\n",
       "      <th>hoursperweek</th>\n",
       "      <th>workclass_ Federal-gov</th>\n",
       "      <th>workclass_ Local-gov</th>\n",
       "      <th>workclass_ Private</th>\n",
       "      <th>workclass_ Self-emp-inc</th>\n",
       "      <th>...</th>\n",
       "      <th>nativecountry_ Portugal</th>\n",
       "      <th>nativecountry_ Puerto-Rico</th>\n",
       "      <th>nativecountry_ Scotland</th>\n",
       "      <th>nativecountry_ South</th>\n",
       "      <th>nativecountry_ Taiwan</th>\n",
       "      <th>nativecountry_ Thailand</th>\n",
       "      <th>nativecountry_ Trinadad&amp;Tobago</th>\n",
       "      <th>nativecountry_ United-States</th>\n",
       "      <th>nativecountry_ Vietnam</th>\n",
       "      <th>nativecountry_ Yugoslavia</th>\n",
       "    </tr>\n",
       "  </thead>\n",
       "  <tbody>\n",
       "    <tr>\n",
       "      <th>0</th>\n",
       "      <td>0.301370</td>\n",
       "      <td>0.043338</td>\n",
       "      <td>0.800000</td>\n",
       "      <td>0.02174</td>\n",
       "      <td>0.0</td>\n",
       "      <td>0.397959</td>\n",
       "      <td>0.0</td>\n",
       "      <td>0.0</td>\n",
       "      <td>0.0</td>\n",
       "      <td>0.0</td>\n",
       "      <td>...</td>\n",
       "      <td>0.0</td>\n",
       "      <td>0.0</td>\n",
       "      <td>0.0</td>\n",
       "      <td>0.0</td>\n",
       "      <td>0.0</td>\n",
       "      <td>0.0</td>\n",
       "      <td>0.0</td>\n",
       "      <td>1.0</td>\n",
       "      <td>0.0</td>\n",
       "      <td>0.0</td>\n",
       "    </tr>\n",
       "    <tr>\n",
       "      <th>1</th>\n",
       "      <td>0.452055</td>\n",
       "      <td>0.047277</td>\n",
       "      <td>0.800000</td>\n",
       "      <td>0.00000</td>\n",
       "      <td>0.0</td>\n",
       "      <td>0.122449</td>\n",
       "      <td>0.0</td>\n",
       "      <td>0.0</td>\n",
       "      <td>0.0</td>\n",
       "      <td>0.0</td>\n",
       "      <td>...</td>\n",
       "      <td>0.0</td>\n",
       "      <td>0.0</td>\n",
       "      <td>0.0</td>\n",
       "      <td>0.0</td>\n",
       "      <td>0.0</td>\n",
       "      <td>0.0</td>\n",
       "      <td>0.0</td>\n",
       "      <td>1.0</td>\n",
       "      <td>0.0</td>\n",
       "      <td>0.0</td>\n",
       "    </tr>\n",
       "    <tr>\n",
       "      <th>2</th>\n",
       "      <td>0.287671</td>\n",
       "      <td>0.137244</td>\n",
       "      <td>0.533333</td>\n",
       "      <td>0.00000</td>\n",
       "      <td>0.0</td>\n",
       "      <td>0.397959</td>\n",
       "      <td>0.0</td>\n",
       "      <td>0.0</td>\n",
       "      <td>1.0</td>\n",
       "      <td>0.0</td>\n",
       "      <td>...</td>\n",
       "      <td>0.0</td>\n",
       "      <td>0.0</td>\n",
       "      <td>0.0</td>\n",
       "      <td>0.0</td>\n",
       "      <td>0.0</td>\n",
       "      <td>0.0</td>\n",
       "      <td>0.0</td>\n",
       "      <td>1.0</td>\n",
       "      <td>0.0</td>\n",
       "      <td>0.0</td>\n",
       "    </tr>\n",
       "    <tr>\n",
       "      <th>3</th>\n",
       "      <td>0.493151</td>\n",
       "      <td>0.150212</td>\n",
       "      <td>0.400000</td>\n",
       "      <td>0.00000</td>\n",
       "      <td>0.0</td>\n",
       "      <td>0.397959</td>\n",
       "      <td>0.0</td>\n",
       "      <td>0.0</td>\n",
       "      <td>1.0</td>\n",
       "      <td>0.0</td>\n",
       "      <td>...</td>\n",
       "      <td>0.0</td>\n",
       "      <td>0.0</td>\n",
       "      <td>0.0</td>\n",
       "      <td>0.0</td>\n",
       "      <td>0.0</td>\n",
       "      <td>0.0</td>\n",
       "      <td>0.0</td>\n",
       "      <td>1.0</td>\n",
       "      <td>0.0</td>\n",
       "      <td>0.0</td>\n",
       "    </tr>\n",
       "    <tr>\n",
       "      <th>4</th>\n",
       "      <td>0.150685</td>\n",
       "      <td>0.220703</td>\n",
       "      <td>0.800000</td>\n",
       "      <td>0.00000</td>\n",
       "      <td>0.0</td>\n",
       "      <td>0.397959</td>\n",
       "      <td>0.0</td>\n",
       "      <td>0.0</td>\n",
       "      <td>1.0</td>\n",
       "      <td>0.0</td>\n",
       "      <td>...</td>\n",
       "      <td>0.0</td>\n",
       "      <td>0.0</td>\n",
       "      <td>0.0</td>\n",
       "      <td>0.0</td>\n",
       "      <td>0.0</td>\n",
       "      <td>0.0</td>\n",
       "      <td>0.0</td>\n",
       "      <td>0.0</td>\n",
       "      <td>0.0</td>\n",
       "      <td>0.0</td>\n",
       "    </tr>\n",
       "  </tbody>\n",
       "</table>\n",
       "<p>5 rows × 104 columns</p>\n",
       "</div>"
      ],
      "text/plain": [
       "        age    fnlwgt  educationnum  capitalgain  capitalloss  hoursperweek  \\\n",
       "0  0.301370  0.043338      0.800000      0.02174          0.0      0.397959   \n",
       "1  0.452055  0.047277      0.800000      0.00000          0.0      0.122449   \n",
       "2  0.287671  0.137244      0.533333      0.00000          0.0      0.397959   \n",
       "3  0.493151  0.150212      0.400000      0.00000          0.0      0.397959   \n",
       "4  0.150685  0.220703      0.800000      0.00000          0.0      0.397959   \n",
       "\n",
       "   workclass_ Federal-gov  workclass_ Local-gov  workclass_ Private  \\\n",
       "0                     0.0                   0.0                 0.0   \n",
       "1                     0.0                   0.0                 0.0   \n",
       "2                     0.0                   0.0                 1.0   \n",
       "3                     0.0                   0.0                 1.0   \n",
       "4                     0.0                   0.0                 1.0   \n",
       "\n",
       "   workclass_ Self-emp-inc  ...  nativecountry_ Portugal  \\\n",
       "0                      0.0  ...                      0.0   \n",
       "1                      0.0  ...                      0.0   \n",
       "2                      0.0  ...                      0.0   \n",
       "3                      0.0  ...                      0.0   \n",
       "4                      0.0  ...                      0.0   \n",
       "\n",
       "   nativecountry_ Puerto-Rico  nativecountry_ Scotland  nativecountry_ South  \\\n",
       "0                         0.0                      0.0                   0.0   \n",
       "1                         0.0                      0.0                   0.0   \n",
       "2                         0.0                      0.0                   0.0   \n",
       "3                         0.0                      0.0                   0.0   \n",
       "4                         0.0                      0.0                   0.0   \n",
       "\n",
       "   nativecountry_ Taiwan  nativecountry_ Thailand  \\\n",
       "0                    0.0                      0.0   \n",
       "1                    0.0                      0.0   \n",
       "2                    0.0                      0.0   \n",
       "3                    0.0                      0.0   \n",
       "4                    0.0                      0.0   \n",
       "\n",
       "   nativecountry_ Trinadad&Tobago  nativecountry_ United-States  \\\n",
       "0                             0.0                           1.0   \n",
       "1                             0.0                           1.0   \n",
       "2                             0.0                           1.0   \n",
       "3                             0.0                           1.0   \n",
       "4                             0.0                           0.0   \n",
       "\n",
       "   nativecountry_ Vietnam  nativecountry_ Yugoslavia  \n",
       "0                     0.0                        0.0  \n",
       "1                     0.0                        0.0  \n",
       "2                     0.0                        0.0  \n",
       "3                     0.0                        0.0  \n",
       "4                     0.0                        0.0  \n",
       "\n",
       "[5 rows x 104 columns]"
      ]
     },
     "execution_count": 46,
     "metadata": {},
     "output_type": "execute_result"
    }
   ],
   "source": [
    "dummies.head()"
   ]
  },
  {
   "cell_type": "code",
   "execution_count": 47,
   "metadata": {},
   "outputs": [],
   "source": [
    "df.to_pickle(os.path.join('../datasets', 'adultNoNA.pkl'))"
   ]
  },
  {
   "cell_type": "code",
   "execution_count": 48,
   "metadata": {},
   "outputs": [],
   "source": [
    "dummies.to_pickle(os.path.join('../datasets', 'prepAdultNoNA.pkl'))"
   ]
  },
  {
   "cell_type": "code",
   "execution_count": 49,
   "metadata": {},
   "outputs": [
    {
     "name": "stdout",
     "output_type": "stream",
     "text": [
      "[259, 586, 691, 825, 985, 992, 1010, 1899, 2198, 3296, 3330, 3836, 3996, 4330, 4694, 4819, 4831, 4943, 5025, 5887, 5954, 6254, 6844, 7303, 7534, 7764, 8156, 8241, 8278, 8840, 8872, 9597, 9617, 10069, 10798, 10989, 12086, 12225, 12241, 12285, 12600, 12651, 12777, 13085, 13165, 13219, 13234, 13368, 13475, 13529, 13806, 13960, 14653, 14691, 14729, 15230, 15426, 15833, 15912, 16126, 16550, 16664, 17172, 17853, 17951, 17954, 18193, 18593, 18732, 19567, 19654, 20876, 21036, 22136, 22597, 24672, 24810, 25021, 25811, 27311, 27506, 27843, 27946, 28043, 28155, 28664, 28861, 29404, 29693, 29989]\n"
     ]
    }
   ],
   "source": [
    "Q1 = df.query('age >= 19 and age <=22 and education == \" Bachelors\"')['maritalstatus'].index\n",
    "print(Q1.tolist())"
   ]
  },
  {
   "cell_type": "code",
   "execution_count": 50,
   "metadata": {},
   "outputs": [
    {
     "name": "stdout",
     "output_type": "stream",
     "text": [
      "[410, 1195, 13528, 14924, 16716, 17278, 17396, 23909, 29935]\n"
     ]
    }
   ],
   "source": [
    "Q2 = df.query('occupation == \" Armed-Forces\"')['nativecountry'].index\n",
    "print(Q2.tolist())"
   ]
  },
  {
   "cell_type": "code",
   "execution_count": 51,
   "metadata": {},
   "outputs": [
    {
     "name": "stdout",
     "output_type": "stream",
     "text": [
      "[141, 812, 1488, 2218, 4365, 5067, 5514, 5629, 5989, 7205, 7224, 7841, 8024, 8195, 8510, 9954, 10013, 10427, 10853, 11770, 12223, 12650, 12689, 13516, 13720, 13782, 14065, 15423, 15440, 15870, 16696, 17577, 18073, 18177, 18746, 18889, 19118, 20176, 20264, 20298, 21034, 21520, 22839, 23180, 23689, 24083, 24532, 25499, 25635, 27360, 27386, 27724, 28226, 28671, 28784, 28979, 29075, 29183, 29280, 29433, 30042]\n"
     ]
    }
   ],
   "source": [
    "Q3 = df.query('nativecountry == \" Philippines\" and age >= 30 and age <= 40')[['occupation', 'maritalstatus']].index\n",
    "print(Q3.tolist())"
   ]
  },
  {
   "cell_type": "code",
   "execution_count": 52,
   "metadata": {},
   "outputs": [
    {
     "name": "stdout",
     "output_type": "stream",
     "text": [
      "[129, 141, 150, 198, 279, 282, 289, 402, 421, 601, 672, 820, 843, 892, 992, 1007, 1031, 1153, 1218, 1256, 1350, 1357, 1393, 1475, 1488, 1568, 1576, 1641, 1647, 1691, 1777, 1819, 1845, 1898, 1905, 1929, 1963, 2105, 2121, 2155, 2218, 2236, 2307, 2340, 2375, 2431, 2432, 2433, 2602, 2745, 2775, 2815, 2891, 2939, 2941, 3266, 3329, 3347, 3357, 3406, 3412, 3413, 3447, 3521, 3562, 3657, 3662, 3723, 3768, 3823, 3907, 3944, 4004, 4037, 4105, 4134, 4152, 4158, 4200, 4223, 4236, 4259, 4374, 4379, 4395, 4416, 4441, 4489, 4505, 4554, 4681, 4886, 4943, 4962, 4971, 4982, 4993, 5061, 5067, 5098, 5138, 5152, 5163, 5225, 5294, 5309, 5411, 5418, 5482, 5490, 5514, 5539, 5545, 5626, 5629, 5677, 5718, 5766, 5814, 5875, 5989, 6101, 6106, 6315, 6331, 6375, 6378, 6386, 6419, 6460, 6468, 6508, 6643, 6739, 6858, 6889, 6946, 7016, 7044, 7080, 7102, 7205, 7295, 7318, 7391, 7400, 7432, 7442, 7479, 7489, 7516, 7763, 7776, 7841, 7877, 7912, 7972, 8024, 8169, 8170, 8195, 8196, 8217, 8218, 8269, 8277, 8304, 8305, 8327, 8374, 8610, 8655, 8723, 8738, 8751, 8801, 8825, 8940, 8972, 8995, 9066, 9103, 9118, 9160, 9203, 9266, 9267, 9340, 9433, 9443, 9455, 9497, 9516, 9554, 9560, 9589, 9593, 9599, 9614, 9739, 9773, 9790, 9830, 9859, 9911, 9923, 9954, 10013, 10294, 10343, 10401, 10402, 10409, 10419, 10427, 10459, 10522, 10526, 10538, 10597, 10612, 10708, 10752, 10862, 10870, 11045, 11078, 11084, 11161, 11216, 11338, 11357, 11470, 11477, 11525, 11631, 11667, 11678, 11679, 11720, 11723, 11724, 11732, 11770, 11777, 11823, 11837, 11903, 11949, 11953, 11965, 12057, 12140, 12157, 12176, 12221, 12223, 12239, 12253, 12329, 12331, 12422, 12430, 12467, 12475, 12538, 12542, 12543, 12626, 12681, 12689, 12759, 12763, 12796, 12833, 12860, 12890, 13034, 13102, 13147, 13164, 13190, 13234, 13243, 13262, 13310, 13418, 13436, 13460, 13481, 13494, 13516, 13597, 13647, 13657, 13667, 13720, 13782, 13807, 13899, 13932, 14011, 14065, 14100, 14253, 14273, 14310, 14489, 14537, 14605, 14706, 14791, 14802, 14827, 14885, 14956, 14993, 15119, 15128, 15230, 15273, 15276, 15304, 15339, 15344, 15391, 15440, 15494, 15536, 15670, 15766, 15846, 15870, 15877, 15939, 15951, 16065, 16104, 16166, 16251, 16279, 16304, 16526, 16566, 16632, 16713, 16736, 16754, 16765, 16837, 16838, 16886, 16906, 16915, 16998, 17039, 17155, 17183, 17210, 17270, 17290, 17317, 17348, 17433, 17505, 17513, 17520, 17582, 17640, 17646, 17648, 17655, 17698, 17798, 17864, 18064, 18073, 18082, 18108, 18112, 18177, 18254, 18307, 18312, 18467, 18499, 18504, 18528, 18629, 18661, 18688, 18694, 18714, 18746, 18804, 18889, 18927, 18966, 18993, 19038, 19054, 19109, 19118, 19172, 19178, 19253, 19355, 19368, 19504, 19578, 19580, 19660, 19803, 19922, 19938, 20020, 20076, 20107, 20176, 20179, 20196, 20238, 20312, 20333, 20343, 20359, 20383, 20403, 20410, 20434, 20452, 20455, 20543, 20589, 20686, 20779, 20782, 20797, 20837, 20907, 20918, 20991, 21008, 21034, 21048, 21126, 21199, 21221, 21332, 21520, 21727, 21733, 21736, 21759, 21783, 21875, 21916, 21983, 21996, 22084, 22140, 22164, 22191, 22293, 22307, 22337, 22387, 22406, 22519, 22626, 22834, 22839, 22894, 23160, 23173, 23180, 23310, 23347, 23379, 23397, 23407, 23461, 23515, 23558, 23560, 23595, 23598, 23685, 23699, 23864, 23867, 23923, 23973, 23996, 23998, 24070, 24083, 24087, 24109, 24179, 24234, 24376, 24391, 24423, 24463, 24491, 24505, 24532, 24549, 24617, 24651, 24693, 24728, 24815, 24829, 24912, 24913, 24935, 25025, 25030, 25045, 25052, 25064, 25073, 25087, 25146, 25178, 25220, 25251, 25307, 25316, 25328, 25336, 25425, 25469, 25499, 25509, 25622, 25633, 25635, 25642, 25682, 25763, 25768, 25780, 25783, 25835, 25864, 25930, 25957, 25998, 26037, 26177, 26202, 26224, 26351, 26370, 26399, 26423, 26467, 26474, 26491, 26569, 26595, 26673, 26680, 26698, 26712, 26775, 26806, 26809, 26810, 26820, 26824, 26873, 26875, 26920, 27148, 27167, 27238, 27249, 27324, 27332, 27352, 27381, 27386, 27387, 27460, 27462, 27544, 27550, 27736, 27743, 27800, 27931, 27948, 27992, 28072, 28083, 28105, 28226, 28476, 28479, 28528, 28567, 28605, 28703, 28704, 28717, 28730, 28731, 28771, 28784, 28800, 28894, 28898, 28952, 28979, 28986, 28996, 29006, 29034, 29058, 29075, 29113, 29119, 29123, 29183, 29198, 29203, 29227, 29280, 29282, 29315, 29348, 29371, 29422, 29433, 29448, 29474, 29485, 29566, 29686, 29740, 29747, 29761, 29829, 29909, 29945, 29954, 29992, 30070, 30097, 30137, 30154]\n"
     ]
    }
   ],
   "source": [
    "Q4 = df.query('workclass == \" Private\" and race ==\" Asian-Pac-Islander\"')[['education', 'age']].index\n",
    "print(Q4.tolist())"
   ]
  },
  {
   "cell_type": "code",
   "execution_count": 53,
   "metadata": {},
   "outputs": [
    {
     "name": "stdout",
     "output_type": "stream",
     "text": [
      "[8, 77, 93, 183, 193, 264, 383, 451, 477, 491, 569, 582, 587, 648, 682, 803, 842, 921, 930, 1055, 1074, 1115, 1145, 1149, 1182, 1256, 1265, 1361, 1372, 1382, 1389, 1406, 1452, 1482, 1493, 1507, 1520, 1544, 1555, 1594, 1620, 1621, 1627, 1641, 1678, 1807, 1819, 1871, 1935, 1984, 2050, 2137, 2159, 2166, 2167, 2172, 2192, 2266, 2413, 2442, 2482, 2608, 2800, 2801, 2821, 2837, 2852, 2859, 2877, 2916, 2961, 3092, 3107, 3111, 3112, 3168, 3235, 3268, 3270, 3297, 3351, 3453, 3466, 3524, 3549, 3574, 3634, 3786, 3853, 3911, 3961, 3975, 3986, 3991, 4025, 4040, 4052, 4117, 4168, 4186, 4193, 4209, 4236, 4250, 4285, 4297, 4356, 4375, 4484, 4492, 4528, 4580, 4587, 4675, 4731, 4757, 4764, 4921, 4948, 4976, 5016, 5023, 5036, 5124, 5223, 5230, 5252, 5314, 5342, 5391, 5397, 5424, 5448, 5511, 5542, 5624, 5675, 5724, 5730, 5731, 5790, 5827, 5862, 5880, 5902, 5906, 5915, 5918, 5937, 5949, 5962, 6002, 6006, 6016, 6034, 6070, 6074, 6096, 6184, 6197, 6218, 6329, 6339, 6434, 6480, 6485, 6536, 6594, 6620, 6704, 6772, 6776, 6809, 6827, 6839, 6841, 6915, 6934, 6970, 6985, 6986, 7038, 7114, 7148, 7229, 7244, 7530, 7536, 7572, 7622, 7715, 7717, 7749, 7790, 7821, 7823, 7953, 7972, 8044, 8055, 8074, 8076, 8111, 8120, 8123, 8132, 8177, 8196, 8277, 8348, 8366, 8432, 8448, 8482, 8522, 8523, 8538, 8602, 8637, 8658, 8749, 8872, 8880, 8936, 9011, 9019, 9128, 9140, 9169, 9191, 9273, 9318, 9346, 9353, 9372, 9398, 9411, 9443, 9516, 9547, 9581, 9664, 9859, 9865, 9916, 9955, 9974, 9991, 9993, 10024, 10070, 10080, 10093, 10132, 10134, 10206, 10276, 10354, 10368, 10371, 10483, 10613, 10703, 10811, 10860, 10928, 11075, 11154, 11227, 11288, 11310, 11329, 11335, 11522, 11591, 11597, 11656, 11673, 11725, 11761, 11869, 11912, 11943, 11945, 11978, 12033, 12126, 12279, 12299, 12422, 12447, 12454, 12462, 12465, 12500, 12521, 12635, 12639, 12678, 12866, 12928, 12947, 12961, 13043, 13074, 13076, 13122, 13147, 13175, 13186, 13246, 13305, 13325, 13330, 13332, 13370, 13447, 13465, 13498, 13501, 13538, 13633, 13643, 13655, 13725, 13731, 13734, 13762, 13787, 13845, 13900, 13925, 13958, 13964, 13987, 14004, 14018, 14146, 14154, 14202, 14246, 14257, 14278, 14357, 14375, 14399, 14438, 14453, 14509, 14575, 14582, 14604, 14610, 14611, 14646, 14707, 14716, 14733, 14977, 15038, 15049, 15094, 15190, 15206, 15243, 15275, 15293, 15361, 15390, 15504, 15597, 15613, 15671, 15693, 15730, 15763, 15866, 15989, 16014, 16051, 16054, 16203, 16249, 16274, 16318, 16368, 16378, 16439, 16442, 16482, 16501, 16642, 16653, 16659, 16759, 16804, 16829, 16864, 16904, 16909, 16948, 16978, 17015, 17061, 17112, 17165, 17186, 17237, 17257, 17266, 17288, 17312, 17315, 17471, 17506, 17575, 17585, 17600, 17602, 17613, 17685, 17689, 17693, 17745, 17791, 17871, 17888, 17908, 17933, 17947, 17958, 18124, 18126, 18206, 18297, 18357, 18404, 18441, 18486, 18585, 18659, 18666, 18676, 18698, 18760, 18797, 18872, 18927, 19005, 19101, 19143, 19165, 19182, 19209, 19244, 19276, 19281, 19289, 19320, 19334, 19390, 19444, 19514, 19583, 19631, 19640, 19655, 19697, 19700, 19782, 19842, 19890, 19898, 19904, 19909, 19929, 19941, 19954, 19992, 19996, 20153, 20245, 20250, 20376, 20420, 20639, 20720, 20741, 20760, 20771, 20813, 20862, 20874, 20934, 21034, 21046, 21061, 21085, 21139, 21266, 21286, 21299, 21387, 21396, 21497, 21551, 21596, 21605, 21631, 21640, 21665, 21666, 21701, 21737, 21744, 21780, 21786, 21907, 21915, 21943, 21965, 21972, 21983, 22091, 22228, 22241, 22249, 22268, 22304, 22335, 22340, 22357, 22369, 22380, 22395, 22397, 22429, 22432, 22448, 22457, 22458, 22503, 22509, 22519, 22521, 22597, 22658, 22722, 22726, 22734, 22735, 22803, 22806, 22830, 22842, 22875, 22911, 22971, 23033, 23155, 23334, 23350, 23404, 23408, 23410, 23454, 23496, 23503, 23511, 23533, 23552, 23569, 23572, 23597, 23612, 23731, 23742, 23751, 23752, 23777, 23813, 23851, 23895, 23899, 23956, 24013, 24088, 24108, 24124, 24171, 24197, 24259, 24397, 24411, 24414, 24475, 24501, 24559, 24638, 24640, 24676, 24718, 24766, 24861, 24892, 24907, 24920, 24942, 24964, 24992, 25005, 25093, 25130, 25227, 25245, 25355, 25360, 25406, 25431, 25479, 25516, 25611, 25616, 25630, 25636, 25658, 25690, 25704, 25745, 25804, 25820, 25882, 25905, 26003, 26036, 26112, 26133, 26148, 26196, 26203, 26223, 26246, 26252, 26273, 26337, 26377, 26404, 26520, 26549, 26645, 26646, 26702, 26756, 26771, 26785, 26811, 26813, 26867, 26884, 27040, 27143, 27154, 27174, 27211, 27254, 27268, 27378, 27392, 27439, 27464, 27491, 27492, 27508, 27546, 27564, 27593, 27621, 27682, 27700, 27741, 27814, 27839, 27875, 27911, 27923, 28021, 28031, 28041, 28195, 28202, 28259, 28265, 28417, 28434, 28491, 28526, 28553, 28565, 28645, 28680, 28707, 28816, 28824, 28828, 28927, 28939, 28973, 29069, 29175, 29205, 29401, 29409, 29459, 29475, 29483, 29524, 29614, 29619, 29637, 29755, 29771, 29796, 29828, 29832, 29864, 29958, 29981, 29986, 30079, 30125, 30142, 30161]\n"
     ]
    }
   ],
   "source": [
    "Q5 = df.query('capitalgain > 9999')[['occupation', 'education']].index\n",
    "print(Q5.tolist())"
   ]
  },
  {
   "cell_type": "code",
   "execution_count": 54,
   "metadata": {},
   "outputs": [
    {
     "name": "stdout",
     "output_type": "stream",
     "text": [
      "[8838]\n"
     ]
    }
   ],
   "source": [
    "Q6 = df.query('maritalstatus == \" Divorced\" and workclass == \" State-gov\" and age > 70')['age'].index\n",
    "print(Q6.tolist())"
   ]
  },
  {
   "cell_type": "code",
   "execution_count": 55,
   "metadata": {},
   "outputs": [
    {
     "name": "stdout",
     "output_type": "stream",
     "text": [
      "[' State-gov' ' Self-emp-not-inc' ' Private' ' Federal-gov' ' Local-gov'\n",
      " ' Self-emp-inc' ' Without-pay']\n",
      "[' Bachelors' ' HS-grad' ' 11th' ' Masters' ' 9th' ' Some-college'\n",
      " ' Assoc-acdm' ' 7th-8th' ' Doctorate' ' Assoc-voc' ' Prof-school'\n",
      " ' 5th-6th' ' 10th' ' Preschool' ' 12th' ' 1st-4th']\n",
      "[' Never-married' ' Married-civ-spouse' ' Divorced'\n",
      " ' Married-spouse-absent' ' Separated' ' Married-AF-spouse' ' Widowed']\n",
      "[' Adm-clerical' ' Exec-managerial' ' Handlers-cleaners' ' Prof-specialty'\n",
      " ' Other-service' ' Sales' ' Transport-moving' ' Farming-fishing'\n",
      " ' Machine-op-inspct' ' Tech-support' ' Craft-repair' ' Protective-serv'\n",
      " ' Armed-Forces' ' Priv-house-serv']\n",
      "[' Not-in-family' ' Husband' ' Wife' ' Own-child' ' Unmarried'\n",
      " ' Other-relative']\n",
      "[' White' ' Black' ' Asian-Pac-Islander' ' Amer-Indian-Eskimo' ' Other']\n",
      "[' Male' ' Female']\n",
      "[' United-States' ' Cuba' ' Jamaica' ' India' ' Mexico' ' Puerto-Rico'\n",
      " ' Honduras' ' England' ' Canada' ' Germany' ' Iran' ' Philippines'\n",
      " ' Poland' ' Columbia' ' Cambodia' ' Thailand' ' Ecuador' ' Laos'\n",
      " ' Taiwan' ' Haiti' ' Portugal' ' Dominican-Republic' ' El-Salvador'\n",
      " ' France' ' Guatemala' ' Italy' ' China' ' South' ' Japan' ' Yugoslavia'\n",
      " ' Peru' ' Outlying-US(Guam-USVI-etc)' ' Scotland' ' Trinadad&Tobago'\n",
      " ' Greece' ' Nicaragua' ' Vietnam' ' Hong' ' Ireland' ' Hungary'\n",
      " ' Holand-Netherlands']\n"
     ]
    }
   ],
   "source": [
    "for c in cols:\n",
    "    print(df[c].unique())"
   ]
  },
  {
   "cell_type": "code",
   "execution_count": 56,
   "metadata": {},
   "outputs": [],
   "source": [
    "from sklearn.preprocessing import LabelEncoder"
   ]
  },
  {
   "cell_type": "code",
   "execution_count": 57,
   "metadata": {},
   "outputs": [],
   "source": [
    "newdf = df.copy(deep=True)\n",
    "for c in cols:\n",
    "    enc = LabelEncoder()\n",
    "    newdf[c] = enc.fit_transform(df[c])"
   ]
  },
  {
   "cell_type": "code",
   "execution_count": 58,
   "metadata": {},
   "outputs": [
    {
     "name": "stdout",
     "output_type": "stream",
     "text": [
      "[5 4 2 0 1 3 6]\n",
      "[ 9 11  1 12  6 15  7  5 10  8 14  4  0 13  2  3]\n",
      "[4 2 0 3 5 1 6]\n",
      "[ 0  3  5  9  7 11 13  4  6 12  2 10  1  8]\n",
      "[1 0 5 3 4 2]\n",
      "[4 2 1 0 3]\n",
      "[1 0]\n",
      "[38  4 22 18 25 32 15  8  1 10 19 29 30  3  0 36  6 24 35 13 31  5  7  9\n",
      " 12 21  2 34 23 40 28 27 33 37 11 26 39 16 20 17 14]\n"
     ]
    }
   ],
   "source": [
    "for c in cols:\n",
    "    print(newdf[c].unique())"
   ]
  },
  {
   "cell_type": "code",
   "execution_count": 59,
   "metadata": {},
   "outputs": [
    {
     "name": "stderr",
     "output_type": "stream",
     "text": [
      "C:\\Users\\d_mart04\\Python\\lib\\site-packages\\sklearn\\utils\\validation.py:595: DataConversionWarning: Data with input dtype int64 was converted to float64 by MinMaxScaler.\n",
      "  warnings.warn(msg, DataConversionWarning)\n"
     ]
    }
   ],
   "source": [
    "from sklearn import preprocessing\n",
    "min_max_scaler = preprocessing.MinMaxScaler()\n",
    "data = newdf.values \n",
    "data = min_max_scaler.fit_transform(data)"
   ]
  },
  {
   "cell_type": "code",
   "execution_count": 60,
   "metadata": {},
   "outputs": [
    {
     "data": {
      "text/plain": [
       "(30162, 14)"
      ]
     },
     "execution_count": 60,
     "metadata": {},
     "output_type": "execute_result"
    }
   ],
   "source": [
    "data.shape"
   ]
  },
  {
   "cell_type": "code",
   "execution_count": 61,
   "metadata": {},
   "outputs": [],
   "source": [
    "d = pd.DataFrame(data, columns=df.columns)"
   ]
  },
  {
   "cell_type": "code",
   "execution_count": 62,
   "metadata": {},
   "outputs": [],
   "source": [
    "d.to_pickle('adult_label_encode.pkl')"
   ]
  },
  {
   "cell_type": "code",
   "execution_count": null,
   "metadata": {},
   "outputs": [],
   "source": []
  }
 ],
 "metadata": {
  "kernelspec": {
   "display_name": "Python 3",
   "language": "python",
   "name": "python3"
  },
  "language_info": {
   "codemirror_mode": {
    "name": "ipython",
    "version": 3
   },
   "file_extension": ".py",
   "mimetype": "text/x-python",
   "name": "python",
   "nbconvert_exporter": "python",
   "pygments_lexer": "ipython3",
   "version": "3.7.3"
  }
 },
 "nbformat": 4,
 "nbformat_minor": 2
}
