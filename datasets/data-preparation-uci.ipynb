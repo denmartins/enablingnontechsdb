{
 "cells": [
  {
   "cell_type": "code",
   "execution_count": 1,
   "metadata": {
    "collapsed": false,
    "deletable": true,
    "editable": true
   },
   "outputs": [],
   "source": [
    "import pandas as pd\n",
    "import random as rd\n",
    "from sklearn import preprocessing"
   ]
  },
  {
   "cell_type": "code",
   "execution_count": 2,
   "metadata": {
    "collapsed": true,
    "deletable": true,
    "editable": true
   },
   "outputs": [],
   "source": [
    "columns = ['Name', 'Data Types', 'Default Task', 'Attribute Types', \n",
    "           '# Instances','# Attributes', 'Year', 'Missing Values', 'Area']"
   ]
  },
  {
   "cell_type": "code",
   "execution_count": 4,
   "metadata": {
    "collapsed": true,
    "deletable": true,
    "editable": true
   },
   "outputs": [],
   "source": [
    "# Load data\n",
    "data = pd.read_table('uci-datasets-pricing.txt', sep='\\t', names=columns, header=0, engine='python')\n",
    "original_data = data.copy(True)\n",
    "original_data.to_pickle('uci-original-no-na.pkl')"
   ]
  },
  {
   "cell_type": "markdown",
   "metadata": {
    "deletable": true,
    "editable": true
   },
   "source": [
    "### Removing NA values"
   ]
  },
  {
   "cell_type": "code",
   "execution_count": null,
   "metadata": {
    "collapsed": false,
    "deletable": true,
    "editable": true
   },
   "outputs": [],
   "source": [
    "data = data.dropna(axis=0, how='any') # Delete rows with NA values\n",
    "data = pd.DataFrame(data.values, columns=data.columns)\n",
    "data"
   ]
  },
  {
   "cell_type": "markdown",
   "metadata": {
    "deletable": true,
    "editable": true
   },
   "source": [
    "### Transform columns in dummy values"
   ]
  },
  {
   "cell_type": "code",
   "execution_count": null,
   "metadata": {
    "collapsed": true,
    "deletable": true,
    "editable": true
   },
   "outputs": [],
   "source": [
    "def split_columns(data, column):\n",
    "    column_iter = (set(x.split(',')) for x in data[column].values)\n",
    "    splited_columns = sorted(set.union(*column_iter))\n",
    "    splited_columns = [x.replace('\\xa0', '').strip() for x in splited_columns]\n",
    "    splited_columns = list(set(splited_columns))\n",
    "    return splited_columns"
   ]
  },
  {
   "cell_type": "code",
   "execution_count": null,
   "metadata": {
    "collapsed": false,
    "deletable": true,
    "editable": true
   },
   "outputs": [],
   "source": [
    "types = split_columns(data, 'Data Types')\n",
    "tasks = split_columns(data, 'Default Task')\n",
    "areas = split_columns(data, 'Area')\n",
    "attr_types = split_columns(data, 'Attribute Types')"
   ]
  },
  {
   "cell_type": "code",
   "execution_count": null,
   "metadata": {
    "collapsed": false,
    "deletable": true,
    "editable": true
   },
   "outputs": [],
   "source": [
    "def transforma_all_to_dummies(data, columns_dict):\n",
    "    dummies = {}\n",
    "    for column,values in columns_dict.items():\n",
    "        for h in values:\n",
    "            dummy_col = []\n",
    "            for i in range(len(data[column].values)):\n",
    "                if h in data[column].values[i] or h+'\\xa0' in data[column].values[i]:\n",
    "                    dummy_col.append(1)\n",
    "                else:\n",
    "                    dummy_col.append(0)\n",
    "            dummies[h] = dummy_col\n",
    "            data[h] = pd.DataFrame(dummies[h], dtype='int32')\n",
    "        \n",
    "        del data[column]\n",
    "    \n",
    "    return data"
   ]
  },
  {
   "cell_type": "code",
   "execution_count": null,
   "metadata": {
    "collapsed": false,
    "deletable": true,
    "editable": true
   },
   "outputs": [],
   "source": [
    "data = transforma_all_to_dummies(data, columns_dict={'Data Types': types, 'Default Task': tasks, \n",
    "                                                     'Area': areas,'Attribute Types': attr_types})"
   ]
  },
  {
   "cell_type": "markdown",
   "metadata": {
    "deletable": true,
    "editable": true
   },
   "source": [
    "### Converting Yes/No to Boolean values"
   ]
  },
  {
   "cell_type": "code",
   "execution_count": null,
   "metadata": {
    "collapsed": true,
    "deletable": true,
    "editable": true
   },
   "outputs": [],
   "source": [
    "mapping = {'Yes': 0, 'No': 1}\n",
    "data['Missing Values'] = data['Missing Values'].map(mapping)"
   ]
  },
  {
   "cell_type": "markdown",
   "metadata": {
    "deletable": true,
    "editable": true
   },
   "source": [
    "### Calculating price"
   ]
  },
  {
   "cell_type": "code",
   "execution_count": null,
   "metadata": {
    "collapsed": false,
    "deletable": true,
    "editable": true
   },
   "outputs": [],
   "source": [
    "prices = [min(2 * int(row['# Instances']), 3000)\n",
    "          + min(2 * int(row['# Attributes']), 2000)\n",
    "          + int(row['Year']) + rd.randint(100, 1000)\n",
    "          - 1000 * int(row['Missing Values'] == 'Yes')\n",
    "          for idx, row in data.iterrows()]\n",
    "data['Price'] = pd.Series(prices, dtype='int32')"
   ]
  },
  {
   "cell_type": "markdown",
   "metadata": {
    "deletable": true,
    "editable": true
   },
   "source": [
    "### Scaling features"
   ]
  },
  {
   "cell_type": "code",
   "execution_count": null,
   "metadata": {
    "collapsed": true,
    "deletable": true,
    "editable": true
   },
   "outputs": [],
   "source": [
    "def normalize_data(data, columns):\n",
    "    for col in columns:\n",
    "        scaler = preprocessing.MinMaxScaler((0,1))\n",
    "        scaler.fit(data[col].values)\n",
    "        x_scaled = scaler.transform(data[col].values)\n",
    "        data[col] = pd.Series(x_scaled, dtype='float64')\n",
    "\n",
    "    return data"
   ]
  },
  {
   "cell_type": "code",
   "execution_count": null,
   "metadata": {
    "collapsed": false,
    "deletable": true,
    "editable": true
   },
   "outputs": [],
   "source": [
    "data = normalize_data(data, ['# Instances', '# Attributes', 'Year', 'Price'])"
   ]
  },
  {
   "cell_type": "code",
   "execution_count": null,
   "metadata": {
    "collapsed": false,
    "deletable": true,
    "editable": true
   },
   "outputs": [],
   "source": [
    "data"
   ]
  },
  {
   "cell_type": "code",
   "execution_count": null,
   "metadata": {
    "collapsed": true,
    "deletable": true,
    "editable": true
   },
   "outputs": [],
   "source": [
    "data.to_pickle('uci-preprocessed.pkl')"
   ]
  },
  {
   "cell_type": "code",
   "execution_count": null,
   "metadata": {
    "collapsed": true,
    "deletable": true,
    "editable": true
   },
   "outputs": [],
   "source": []
  },
  {
   "cell_type": "code",
   "execution_count": null,
   "metadata": {
    "collapsed": true
   },
   "outputs": [],
   "source": []
  }
 ],
 "metadata": {
  "kernelspec": {
   "display_name": "Python 3",
   "language": "python",
   "name": "python3"
  },
  "language_info": {
   "codemirror_mode": {
    "name": "ipython",
    "version": 3
   },
   "file_extension": ".py",
   "mimetype": "text/x-python",
   "name": "python",
   "nbconvert_exporter": "python",
   "pygments_lexer": "ipython3",
   "version": "3.5.1"
  }
 },
 "nbformat": 4,
 "nbformat_minor": 0
}
