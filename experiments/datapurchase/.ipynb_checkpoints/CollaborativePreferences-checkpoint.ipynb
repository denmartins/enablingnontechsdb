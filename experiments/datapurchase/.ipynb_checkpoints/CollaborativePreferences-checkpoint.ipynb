{
 "cells": [
  {
   "cell_type": "markdown",
   "metadata": {
    "deletable": true,
    "editable": true
   },
   "source": [
    "# Exploiting Collaborative Preferences\n",
    "\n",
    "Publication information: Martins, D. M. L., Vossen, G., & Maleszka, M. (2018, October). Supporting Online Data Purchase by Preference Recommendation. In 2018 IEEE International Conference on Systems, Man, and Cybernetics (SMC) (pp. 3703-3708). IEEE.\n",
    "\n",
    "URL: https://ieeexplore.ieee.org/document/8616624\n",
    "\n",
    "Publication's BibTeX:"
   ]
  },
  {
   "cell_type": "raw",
   "metadata": {
    "deletable": true,
    "editable": true
   },
   "source": [
    "@inproceedings{martins2018supporting,\n",
    "  title={Supporting Online Data Purchase by Preference Recommendation},\n",
    "  author={Martins, Denis Mayr Lima and Vossen, Gottfried and Maleszka, Marcin},\n",
    "  booktitle={2018 IEEE International Conference on Systems, Man, and Cybernetics (SMC)},\n",
    "  pages={3703--3708},\n",
    "  year={2018},\n",
    "  organization={IEEE}\n",
    "}"
   ]
  },
  {
   "cell_type": "markdown",
   "metadata": {
    "deletable": true,
    "editable": true
   },
   "source": [
    "### Configuring notebook"
   ]
  },
  {
   "cell_type": "code",
   "execution_count": 1,
   "metadata": {
    "collapsed": false,
    "deletable": true,
    "editable": true
   },
   "outputs": [
    {
     "name": "stdout",
     "output_type": "stream",
     "text": [
      "C:\\Users\\d_mart04\\Documents\\CodeRepositoryGit\\enablingnontechsdb\\experiments\n"
     ]
    }
   ],
   "source": [
    "cd .."
   ]
  },
  {
   "cell_type": "code",
   "execution_count": 2,
   "metadata": {
    "collapsed": false,
    "deletable": true,
    "editable": true
   },
   "outputs": [
    {
     "name": "stdout",
     "output_type": "stream",
     "text": [
      "C:\\Users\\d_mart04\\Documents\\CodeRepositoryGit\\enablingnontechsdb\n"
     ]
    }
   ],
   "source": [
    "cd .."
   ]
  },
  {
   "cell_type": "code",
   "execution_count": 3,
   "metadata": {
    "collapsed": true,
    "deletable": true,
    "editable": true
   },
   "outputs": [],
   "source": [
    "import sys, os\n",
    "sys.path.append('..\\\\sada')\n",
    "sys.path.append('..\\\\decision')"
   ]
  },
  {
   "cell_type": "code",
   "execution_count": 4,
   "metadata": {
    "collapsed": true,
    "deletable": true,
    "editable": true
   },
   "outputs": [],
   "source": [
    "import pandas as pd\n",
    "from datamanagement.dataaccessobject import DataAccessObject, Dataset\n",
    "from decision.clause import *\n",
    "from decision.criterion import Criterion\n",
    "from decision.somselector import SomSelector\n",
    "from sada.decisionsada import DecisionSADA"
   ]
  },
  {
   "cell_type": "markdown",
   "metadata": {
    "deletable": true,
    "editable": true
   },
   "source": [
    "### Loading car dataset"
   ]
  },
  {
   "cell_type": "code",
   "execution_count": 5,
   "metadata": {
    "collapsed": true,
    "deletable": true,
    "editable": true
   },
   "outputs": [],
   "source": [
    "DAO = DataAccessObject()"
   ]
  },
  {
   "cell_type": "code",
   "execution_count": 6,
   "metadata": {
    "collapsed": true,
    "deletable": true,
    "editable": true
   },
   "outputs": [
    {
     "name": "stderr",
     "output_type": "stream",
     "text": [
      "C:\\Users\\d_mart04\\Documents\\CodeRepositoryGit\\enablingnontechsdb\\datamanagement\\dataaccessobject.py:11: FutureWarning: Method .as_matrix will be removed in a future version. Use .values instead.\n",
      "  self.data_matrix = preprocessed_data.as_matrix()\n"
     ]
    }
   ],
   "source": [
    "dataset = DAO.get_car_dataset()"
   ]
  },
  {
   "cell_type": "code",
   "execution_count": 7,
   "metadata": {
    "collapsed": false,
    "deletable": true,
    "editable": true
   },
   "outputs": [
    {
     "data": {
      "text/plain": [
       "Index(['price', 'mpg', 'num_of_cylinders', 'horsepower', 'fuel_tank_capacity',\n",
       "       'RPM', 'Wheelbase', 'Weight', 'automatic_gearbox', 'passenger_capacity',\n",
       "       'length', 'width', 'luggage_capacity', 'Origin', 'Compact', 'Large',\n",
       "       'Midsize', 'Small', 'Sporty', 'Van', 'Acura', 'Audi', 'BMW', 'Buick',\n",
       "       'Cadillac', 'Chevrolet', 'Chrysler', 'Dodge', 'Eagle', 'Ford', 'Geo',\n",
       "       'Honda', 'Hyundai', 'Infiniti', 'Lexus', 'Lincoln', 'Mazda', 'Mercury',\n",
       "       'Mitsubishi', 'Nissan', 'Oldsmobile', 'Plymouth', 'Pontiac', 'Saab',\n",
       "       'Saturn', 'Subaru', 'Suzuki', 'Toyota', 'Volkswagen', 'Volvo', '4WD',\n",
       "       'Front', 'Rear', 'None', 'rear_seat_room', 'driver_passenger',\n",
       "       'mercedes_benz', 'driver_only'],\n",
       "      dtype='object')"
      ]
     },
     "execution_count": 7,
     "metadata": {},
     "output_type": "execute_result"
    }
   ],
   "source": [
    "dataset.preprocessed_data.columns"
   ]
  },
  {
   "cell_type": "markdown",
   "metadata": {
    "deletable": true,
    "editable": true
   },
   "source": [
    "### Creating SADA"
   ]
  },
  {
   "cell_type": "code",
   "execution_count": 8,
   "metadata": {
    "deletable": true,
    "editable": true
   },
   "outputs": [],
   "source": [
    "sada = DecisionSADA(dataset)"
   ]
  },
  {
   "cell_type": "markdown",
   "metadata": {
    "deletable": true,
    "editable": true
   },
   "source": [
    "### Creating the decision database"
   ]
  },
  {
   "cell_type": "code",
   "execution_count": 9,
   "metadata": {
    "collapsed": true,
    "deletable": true,
    "editable": true
   },
   "outputs": [],
   "source": [
    "def print_preferences(preferences):\n",
    "    for pref in preferences:\n",
    "        print(pref.to_string())\n",
    "\n",
    "class DecisionEntry(object):\n",
    "    def __init__(self, preferences, criteria, optimal_candidates, success):\n",
    "        self.preferences = preferences\n",
    "        self.criteria = criteria\n",
    "        self.optimal_candidates = optimal_candidates\n",
    "        self.success = success\n",
    "    \n",
    "def build_historical_data(sada):\n",
    "    b_1 = DecisionEntry(preferences = [DiadicClause('Volkswagen', Operation.EQUALS, 1), DiadicClause('mpg', Operation.GREATER_THAN_EQUALS, 0.098)],\n",
    "                        criteria = [Criterion('price', maximize=False, weight=0.6), Criterion('mpg', maximize=True, weight=0.4)],\n",
    "                        optimal_candidates = None, success = True)\n",
    "    \n",
    "    b_2 = DecisionEntry(preferences = [DiadicClause('price', Operation.LESS_THAN_EQUALS, 0.231193), DiadicClause('Sporty', Operation.EQUALS, 1), DiadicClause('Origin', Operation.EQUALS, 0)],\n",
    "                        criteria = [Criterion('price', maximize=False, weight=0.6), Criterion('horsepower', maximize=True, weight=0.4)],\n",
    "                        optimal_candidates = None, success = True)\n",
    "\n",
    "    b_3 = DecisionEntry(preferences = [DiadicClause('driver_passenger', Operation.EQUALS, 1), DiadicClause('Front', Operation.EQUALS, 1)],\n",
    "                        criteria = [Criterion('price', maximize=False, weight=0.6), Criterion('passenger_capacity', maximize=True, weight=0.4)],\n",
    "                        optimal_candidates = None, success = 0)\n",
    "\n",
    "    b_4 = DecisionEntry(preferences = [DiadicClause('price', Operation.LESS_THAN_EQUALS, 0.01), DiadicClause('Small', Operation.EQUALS, 1)],\n",
    "                        criteria = [Criterion('price', maximize=False, weight=0.6), Criterion('mpg', maximize=True, weight=0.4)],\n",
    "                        optimal_candidates = None, success = 0)\n",
    "\n",
    "    b_5 = DecisionEntry(preferences = [DiadicClause('price', Operation.LESS_THAN_EQUALS, 0.03), DiadicClause('Small', Operation.EQUALS, 1)],\n",
    "                        criteria = [Criterion('length', maximize=False, weight=0.6), Criterion('mpg', maximize=True, weight=0.4)],\n",
    "                        optimal_candidates = None, success = 1)\n",
    "\n",
    "    b_6 = DecisionEntry(preferences = [DiadicClause('Rear', Operation.EQUALS, 1), DiadicClause('Sporty', Operation.EQUALS, 1), DiadicClause('passenger_capacity', Operation.EQUALS, 0)],\n",
    "                        criteria = [Criterion('RPM', maximize=True, weight=0.6), Criterion('horsepower', maximize=True, weight=0.4)],\n",
    "                        optimal_candidates = None, success = 1)\n",
    "\n",
    "    b_7 = DecisionEntry(preferences = [DiadicClause('Compact', Operation.EQUALS, 1), DiadicClause('passenger_capacity', Operation.GREATER_THAN_EQUALS, 0.5), DiadicClause('Rear', Operation.EQUALS, 1)],\n",
    "                        criteria = [Criterion('mpg', maximize=True, weight=0.6), Criterion('price', maximize=False, weight=0.4)],\n",
    "                        optimal_candidates = None, success = 0)\n",
    "\n",
    "    b_8 = DecisionEntry(preferences = [DiadicClause('luggage_capacity', Operation.GREATER_THAN_EQUALS, 0.875)],\n",
    "                        criteria = [Criterion('mpg', maximize=True, weight=0.6), Criterion('fuel_tank_capacity', maximize=True, weight=0.4)],\n",
    "                        optimal_candidates = None, success = 1)\n",
    "    \n",
    "    previous_decisions = [b_1, b_2, b_3, b_4, b_5, b_6, b_7, b_8]\n",
    "    \n",
    "    for b in previous_decisions:\n",
    "        selected, optimal = sada.get_recommendations(b.preferences, b.criteria)\n",
    "        b.optimal_candidates = optimal\n",
    "    \n",
    "    return previous_decisions"
   ]
  },
  {
   "cell_type": "code",
   "execution_count": 10,
   "metadata": {
    "collapsed": false,
    "deletable": true,
    "editable": true
   },
   "outputs": [],
   "source": [
    "previous_decisions = build_historical_data(sada)"
   ]
  },
  {
   "cell_type": "markdown",
   "metadata": {
    "deletable": true,
    "editable": true
   },
   "source": [
    "### Current buyer"
   ]
  },
  {
   "cell_type": "code",
   "execution_count": 11,
   "metadata": {
    "collapsed": true,
    "deletable": true,
    "editable": true
   },
   "outputs": [],
   "source": [
    "#preferences=[DiadicClause('price', Operation.LESS_THAN_EQUALS, 0.08), #6000\n",
    "#        DiadicClause('horsepower', Operation.GREATER_THAN_EQUALS, 0.4)] #150\n",
    "\n",
    "#criteria = [Criterion('price', maximize=False, weight=0.6),\n",
    "#            Criterion('horsepower', maximize=True, weight=0.4)]\n",
    "\n",
    "preferences=[DiadicClause('Compact', Operation.EQUALS, 0), DiadicClause('Origin', Operation.EQUALS, 0), DiadicClause('price', Operation.LESS_THAN_EQUALS, 0.08), DiadicClause('mpg', Operation.LESS_THAN_EQUALS, 0.41)]\n",
    "\n",
    "criteria = [Criterion('mpg', maximize=True, weight=0.5), Criterion('price', maximize=False, weight=0.5)]\n",
    "\n",
    "\n",
    "current_buyer = DecisionEntry(preferences=preferences, criteria=criteria, \n",
    "                              optimal_candidates=[], success=False)"
   ]
  },
  {
   "cell_type": "markdown",
   "metadata": {
    "deletable": true,
    "editable": true
   },
   "source": [
    "### Select and evaluate cantidates"
   ]
  },
  {
   "cell_type": "code",
   "execution_count": 12,
   "metadata": {
    "collapsed": false,
    "deletable": true,
    "editable": true
   },
   "outputs": [],
   "source": [
    "selected, current_buyer.optimal_candidates = sada.get_recommendations(current_buyer.preferences, current_buyer.criteria)"
   ]
  },
  {
   "cell_type": "code",
   "execution_count": 13,
   "metadata": {
    "collapsed": false,
    "deletable": true,
    "editable": true
   },
   "outputs": [
    {
     "data": {
      "text/html": [
       "<div>\n",
       "<style scoped>\n",
       "    .dataframe tbody tr th:only-of-type {\n",
       "        vertical-align: middle;\n",
       "    }\n",
       "\n",
       "    .dataframe tbody tr th {\n",
       "        vertical-align: top;\n",
       "    }\n",
       "\n",
       "    .dataframe thead th {\n",
       "        text-align: right;\n",
       "    }\n",
       "</style>\n",
       "<table border=\"1\" class=\"dataframe\">\n",
       "  <thead>\n",
       "    <tr style=\"text-align: right;\">\n",
       "      <th></th>\n",
       "      <th>make</th>\n",
       "      <th>manufacturer</th>\n",
       "      <th>type</th>\n",
       "      <th>price</th>\n",
       "      <th>mpg</th>\n",
       "      <th>num_of_cylinders</th>\n",
       "      <th>horsepower</th>\n",
       "      <th>fuel_tank_capacity</th>\n",
       "      <th>RPM</th>\n",
       "      <th>Wheelbase</th>\n",
       "      <th>...</th>\n",
       "      <th>Weight</th>\n",
       "      <th>automatic_gearbox</th>\n",
       "      <th>passenger_capacity</th>\n",
       "      <th>length</th>\n",
       "      <th>width</th>\n",
       "      <th>luggage_capacity</th>\n",
       "      <th>AirBags</th>\n",
       "      <th>DriveTrain</th>\n",
       "      <th>Origin</th>\n",
       "      <th>imagepath</th>\n",
       "    </tr>\n",
       "  </thead>\n",
       "  <tbody>\n",
       "    <tr>\n",
       "      <th>24</th>\n",
       "      <td>Dodge Shadow</td>\n",
       "      <td>Dodge</td>\n",
       "      <td>Small</td>\n",
       "      <td>5650.0</td>\n",
       "      <td>26.0</td>\n",
       "      <td>4</td>\n",
       "      <td>93</td>\n",
       "      <td>14.0</td>\n",
       "      <td>4800</td>\n",
       "      <td>97</td>\n",
       "      <td>...</td>\n",
       "      <td>2670</td>\n",
       "      <td>0</td>\n",
       "      <td>5</td>\n",
       "      <td>172</td>\n",
       "      <td>67</td>\n",
       "      <td>13.0</td>\n",
       "      <td>DriverOnly</td>\n",
       "      <td>Front</td>\n",
       "      <td>0</td>\n",
       "      <td>24Dodge_Shadow.jpg</td>\n",
       "    </tr>\n",
       "    <tr>\n",
       "      <th>32</th>\n",
       "      <td>Ford Escort</td>\n",
       "      <td>Ford</td>\n",
       "      <td>Small</td>\n",
       "      <td>5050.0</td>\n",
       "      <td>26.5</td>\n",
       "      <td>4</td>\n",
       "      <td>127</td>\n",
       "      <td>13.2</td>\n",
       "      <td>6500</td>\n",
       "      <td>98</td>\n",
       "      <td>...</td>\n",
       "      <td>2530</td>\n",
       "      <td>0</td>\n",
       "      <td>5</td>\n",
       "      <td>171</td>\n",
       "      <td>67</td>\n",
       "      <td>12.0</td>\n",
       "      <td>None</td>\n",
       "      <td>Front</td>\n",
       "      <td>0</td>\n",
       "      <td>32Ford_Escort.jpg</td>\n",
       "    </tr>\n",
       "    <tr>\n",
       "      <th>23</th>\n",
       "      <td>Dodge Colt</td>\n",
       "      <td>Dodge</td>\n",
       "      <td>Small</td>\n",
       "      <td>4600.0</td>\n",
       "      <td>31.0</td>\n",
       "      <td>4</td>\n",
       "      <td>92</td>\n",
       "      <td>13.2</td>\n",
       "      <td>6000</td>\n",
       "      <td>98</td>\n",
       "      <td>...</td>\n",
       "      <td>2270</td>\n",
       "      <td>0</td>\n",
       "      <td>5</td>\n",
       "      <td>174</td>\n",
       "      <td>66</td>\n",
       "      <td>11.0</td>\n",
       "      <td>None</td>\n",
       "      <td>Front</td>\n",
       "      <td>0</td>\n",
       "      <td>23dodge_colt.jpg</td>\n",
       "    </tr>\n",
       "    <tr>\n",
       "      <th>29</th>\n",
       "      <td>Eagle Summit</td>\n",
       "      <td>Eagle</td>\n",
       "      <td>Small</td>\n",
       "      <td>6100.0</td>\n",
       "      <td>31.0</td>\n",
       "      <td>4</td>\n",
       "      <td>92</td>\n",
       "      <td>13.2</td>\n",
       "      <td>6000</td>\n",
       "      <td>98</td>\n",
       "      <td>...</td>\n",
       "      <td>2295</td>\n",
       "      <td>0</td>\n",
       "      <td>5</td>\n",
       "      <td>174</td>\n",
       "      <td>66</td>\n",
       "      <td>11.0</td>\n",
       "      <td>None</td>\n",
       "      <td>Front</td>\n",
       "      <td>0</td>\n",
       "      <td>29Eagle_Summit.jpg</td>\n",
       "    </tr>\n",
       "    <tr>\n",
       "      <th>35</th>\n",
       "      <td>Ford Probe</td>\n",
       "      <td>Ford</td>\n",
       "      <td>Sporty</td>\n",
       "      <td>7000.0</td>\n",
       "      <td>27.0</td>\n",
       "      <td>4</td>\n",
       "      <td>115</td>\n",
       "      <td>15.5</td>\n",
       "      <td>5500</td>\n",
       "      <td>103</td>\n",
       "      <td>...</td>\n",
       "      <td>2710</td>\n",
       "      <td>0</td>\n",
       "      <td>4</td>\n",
       "      <td>179</td>\n",
       "      <td>70</td>\n",
       "      <td>18.0</td>\n",
       "      <td>DriverOnly</td>\n",
       "      <td>Front</td>\n",
       "      <td>0</td>\n",
       "      <td>35Ford_Probe.jpg</td>\n",
       "    </tr>\n",
       "  </tbody>\n",
       "</table>\n",
       "<p>5 rows × 21 columns</p>\n",
       "</div>"
      ],
      "text/plain": [
       "            make manufacturer    type   price   mpg  num_of_cylinders  \\\n",
       "24  Dodge Shadow        Dodge   Small  5650.0  26.0                 4   \n",
       "32   Ford Escort         Ford   Small  5050.0  26.5                 4   \n",
       "23    Dodge Colt        Dodge   Small  4600.0  31.0                 4   \n",
       "29  Eagle Summit        Eagle   Small  6100.0  31.0                 4   \n",
       "35    Ford Probe         Ford  Sporty  7000.0  27.0                 4   \n",
       "\n",
       "    horsepower  fuel_tank_capacity   RPM  Wheelbase  ...  Weight  \\\n",
       "24          93                14.0  4800         97  ...    2670   \n",
       "32         127                13.2  6500         98  ...    2530   \n",
       "23          92                13.2  6000         98  ...    2270   \n",
       "29          92                13.2  6000         98  ...    2295   \n",
       "35         115                15.5  5500        103  ...    2710   \n",
       "\n",
       "    automatic_gearbox  passenger_capacity  length  width  luggage_capacity  \\\n",
       "24                  0                   5     172     67              13.0   \n",
       "32                  0                   5     171     67              12.0   \n",
       "23                  0                   5     174     66              11.0   \n",
       "29                  0                   5     174     66              11.0   \n",
       "35                  0                   4     179     70              18.0   \n",
       "\n",
       "       AirBags DriveTrain Origin           imagepath  \n",
       "24  DriverOnly      Front      0  24Dodge_Shadow.jpg  \n",
       "32        None      Front      0   32Ford_Escort.jpg  \n",
       "23        None      Front      0    23dodge_colt.jpg  \n",
       "29        None      Front      0  29Eagle_Summit.jpg  \n",
       "35  DriverOnly      Front      0    35Ford_Probe.jpg  \n",
       "\n",
       "[5 rows x 21 columns]"
      ]
     },
     "execution_count": 13,
     "metadata": {},
     "output_type": "execute_result"
    }
   ],
   "source": [
    "selected"
   ]
  },
  {
   "cell_type": "code",
   "execution_count": 14,
   "metadata": {
    "collapsed": false,
    "deletable": true,
    "editable": true
   },
   "outputs": [
    {
     "data": {
      "text/html": [
       "<div>\n",
       "<style scoped>\n",
       "    .dataframe tbody tr th:only-of-type {\n",
       "        vertical-align: middle;\n",
       "    }\n",
       "\n",
       "    .dataframe tbody tr th {\n",
       "        vertical-align: top;\n",
       "    }\n",
       "\n",
       "    .dataframe thead th {\n",
       "        text-align: right;\n",
       "    }\n",
       "</style>\n",
       "<table border=\"1\" class=\"dataframe\">\n",
       "  <thead>\n",
       "    <tr style=\"text-align: right;\">\n",
       "      <th></th>\n",
       "      <th>make</th>\n",
       "      <th>type</th>\n",
       "      <th>price</th>\n",
       "      <th>horsepower</th>\n",
       "      <th>mpg</th>\n",
       "    </tr>\n",
       "  </thead>\n",
       "  <tbody>\n",
       "    <tr>\n",
       "      <th>23</th>\n",
       "      <td>Dodge Colt</td>\n",
       "      <td>Small</td>\n",
       "      <td>4600.0</td>\n",
       "      <td>92</td>\n",
       "      <td>31.0</td>\n",
       "    </tr>\n",
       "    <tr>\n",
       "      <th>29</th>\n",
       "      <td>Eagle Summit</td>\n",
       "      <td>Small</td>\n",
       "      <td>6100.0</td>\n",
       "      <td>92</td>\n",
       "      <td>31.0</td>\n",
       "    </tr>\n",
       "  </tbody>\n",
       "</table>\n",
       "</div>"
      ],
      "text/plain": [
       "            make   type   price  horsepower   mpg\n",
       "23    Dodge Colt  Small  4600.0          92  31.0\n",
       "29  Eagle Summit  Small  6100.0          92  31.0"
      ]
     },
     "execution_count": 14,
     "metadata": {},
     "output_type": "execute_result"
    }
   ],
   "source": [
    "current_buyer.optimal_candidates[['make', 'type', 'price', 'horsepower', 'mpg']]"
   ]
  },
  {
   "cell_type": "markdown",
   "metadata": {
    "deletable": true,
    "editable": true
   },
   "source": [
    "### Finding the most similar buyers from the decision database"
   ]
  },
  {
   "cell_type": "code",
   "execution_count": 15,
   "metadata": {
    "collapsed": true,
    "deletable": true,
    "editable": true
   },
   "outputs": [],
   "source": [
    "def create_som_vector(buyer, vector_size):\n",
    "    vector = []\n",
    "    for i in range(vector_size):\n",
    "        if len(buyer.optimal_candidates) > i:\n",
    "            vector.append(int(buyer.optimal_candidates.index[i]))\n",
    "        else:\n",
    "            vector.append(-1)\n",
    "    return vector\n",
    "\n",
    "def create_som_dataset(previous_decisions, vector_size):\n",
    "    som_data = []\n",
    "    for p in previous_decisions:\n",
    "        vector = create_som_vector(p, vector_size)\n",
    "        som_data.append(vector)\n",
    "\n",
    "    som_dataset = Dataset(som_data, pd.DataFrame(som_data))\n",
    "    return som_dataset\n",
    "\n",
    "def get_jaccard_most_similar(previous_decisions, current_buyer):\n",
    "    current_optimal = set(current_buyer.optimal_candidates['make'].values)\n",
    "    history = {}\n",
    "    for i in range(len(previous_decisions)):\n",
    "        history[i] = set(previous_decisions[i].optimal_candidates['make'])\n",
    "    similarity = []\n",
    "    for k,v in history.items():\n",
    "        jaccard = len(current_optimal & v)/len(current_optimal | v)\n",
    "        similarity.append(jaccard)\n",
    "    \n",
    "    most_similar = similarity.index(max(similarity))\n",
    "    complementary_candidates = history[most_similar] - (current_optimal & history[most_similar])\n",
    "    return most_similar, complementary_candidates"
   ]
  },
  {
   "cell_type": "code",
   "execution_count": 16,
   "metadata": {
    "collapsed": true,
    "deletable": true,
    "editable": true
   },
   "outputs": [],
   "source": [
    "som_selector = SomSelector(som_size=(3, 3), num_iterations=1000)"
   ]
  },
  {
   "cell_type": "code",
   "execution_count": 17,
   "metadata": {
    "collapsed": true,
    "deletable": true,
    "editable": true
   },
   "outputs": [],
   "source": [
    "current_buyer_vector = create_som_vector(current_buyer, 5)\n",
    "som_dataset = create_som_dataset(previous_decisions, 5)"
   ]
  },
  {
   "cell_type": "code",
   "execution_count": 18,
   "metadata": {
    "collapsed": true,
    "deletable": true,
    "editable": true
   },
   "outputs": [],
   "source": [
    "similar_indices = som_selector.select(current_buyer_vector, som_dataset, num_selected_items=3)"
   ]
  },
  {
   "cell_type": "code",
   "execution_count": 19,
   "metadata": {
    "collapsed": true,
    "deletable": true,
    "editable": true
   },
   "outputs": [],
   "source": [
    "most_similar_decisions = [previous_decisions[i] for i in similar_indices]"
   ]
  },
  {
   "cell_type": "markdown",
   "metadata": {
    "deletable": true,
    "editable": true
   },
   "source": [
    "### Creating reject preference short-term memory"
   ]
  },
  {
   "cell_type": "code",
   "execution_count": 20,
   "metadata": {
    "deletable": true,
    "editable": true
   },
   "outputs": [],
   "source": [
    "rejected_preferences = []"
   ]
  },
  {
   "cell_type": "markdown",
   "metadata": {
    "deletable": true,
    "editable": true
   },
   "source": [
    "### Calculating preference weights"
   ]
  },
  {
   "cell_type": "code",
   "execution_count": 21,
   "metadata": {},
   "outputs": [],
   "source": [
    "tau_increasing_factor = 1"
   ]
  },
  {
   "cell_type": "code",
   "execution_count": 22,
   "metadata": {},
   "outputs": [],
   "source": [
    "all_preferences = []"
   ]
  },
  {
   "cell_type": "code",
   "execution_count": 23,
   "metadata": {},
   "outputs": [],
   "source": [
    "for dec in most_similar_decisions:\n",
    "    for pref in dec.preferences:\n",
    "        if not pref in all_preferences:\n",
    "            weight = 0\n",
    "            if (not pref in current_buyer.preferences) and (not pref in rejected_preferences) and dec.success:\n",
    "                weight += tau_increasing_factor\n",
    "            entry = (pref, weight)\n",
    "            all_preferences.append(entry)"
   ]
  },
  {
   "cell_type": "code",
   "execution_count": 24,
   "metadata": {},
   "outputs": [],
   "source": [
    "# Sort preferences\n",
    "all_preferences = [pref for pref in sorted(all_preferences, key=lambda pref: pref[1], reverse=True)]"
   ]
  },
  {
   "cell_type": "code",
   "execution_count": 25,
   "metadata": {},
   "outputs": [
    {
     "name": "stdout",
     "output_type": "stream",
     "text": [
      "('price', <built-in function le>, 0.231193)\n",
      "('Sporty', <built-in function eq>, 1)\n",
      "('Origin', <built-in function eq>, 0)\n",
      "('price', <built-in function le>, 0.03)\n",
      "('Small', <built-in function eq>, 1)\n"
     ]
    }
   ],
   "source": [
    "relevant_preferences = [pref[0] for pref in all_preferences if pref[1] > 0]\n",
    "print_preferences(relevant_preferences)"
   ]
  },
  {
   "cell_type": "code",
   "execution_count": 26,
   "metadata": {},
   "outputs": [
    {
     "name": "stdout",
     "output_type": "stream",
     "text": [
      "('Compact', <built-in function eq>, 0)\n",
      "('Origin', <built-in function eq>, 0)\n",
      "('price', <built-in function le>, 0.08)\n",
      "('mpg', <built-in function le>, 0.41)\n"
     ]
    }
   ],
   "source": [
    "print_preferences(current_buyer.preferences)"
   ]
  },
  {
   "cell_type": "markdown",
   "metadata": {},
   "source": [
    "### Recommend the preference with highest weight that generates a list of diverse optimal offers"
   ]
  },
  {
   "cell_type": "code",
   "execution_count": 27,
   "metadata": {},
   "outputs": [],
   "source": [
    "recommended_preferences = []"
   ]
  },
  {
   "cell_type": "code",
   "execution_count": 28,
   "metadata": {},
   "outputs": [],
   "source": [
    "for pref in relevant_preferences:\n",
    "    if pref in recommended_preferences:\n",
    "        continue\n",
    "    else:\n",
    "        extended_preferences = [pref]\n",
    "        extended_preferences.extend(current_buyer.preferences)\n",
    "        sel, opt = sada.get_recommendations(query=extended_preferences, criteria=current_buyer.criteria)\n",
    "        A = set(current_buyer.optimal_candidates.index.tolist())\n",
    "        B = set(opt.index.tolist())\n",
    "        if A != B: # Check wheater the preference produces a change into the optimal candidates retrieved by SADA\n",
    "            recommended_preferences.append(pref)\n",
    "        #if set(current_buyer.optimal_candidates.index.tolist()) != set(opt.index.tolist()):\n",
    "            #recommended_preferences.append(pref)"
   ]
  },
  {
   "cell_type": "code",
   "execution_count": 29,
   "metadata": {},
   "outputs": [
    {
     "name": "stdout",
     "output_type": "stream",
     "text": [
      "('Sporty', <built-in function eq>, 1)\n",
      "('price', <built-in function le>, 0.03)\n",
      "('Small', <built-in function eq>, 1)\n"
     ]
    }
   ],
   "source": [
    "print_preferences(recommended_preferences)"
   ]
  },
  {
   "cell_type": "markdown",
   "metadata": {},
   "source": [
    "### Update buyer preferences"
   ]
  },
  {
   "cell_type": "code",
   "execution_count": 30,
   "metadata": {},
   "outputs": [],
   "source": [
    "current_buyer.preferences.append(recommended_preferences[0])"
   ]
  },
  {
   "cell_type": "code",
   "execution_count": 31,
   "metadata": {},
   "outputs": [],
   "source": [
    "selected_recommended, optimal_recommended = sada.get_recommendations(query=current_buyer.preferences, criteria=current_buyer.criteria)"
   ]
  },
  {
   "cell_type": "code",
   "execution_count": 32,
   "metadata": {},
   "outputs": [
    {
     "data": {
      "text/html": [
       "<div>\n",
       "<style scoped>\n",
       "    .dataframe tbody tr th:only-of-type {\n",
       "        vertical-align: middle;\n",
       "    }\n",
       "\n",
       "    .dataframe tbody tr th {\n",
       "        vertical-align: top;\n",
       "    }\n",
       "\n",
       "    .dataframe thead th {\n",
       "        text-align: right;\n",
       "    }\n",
       "</style>\n",
       "<table border=\"1\" class=\"dataframe\">\n",
       "  <thead>\n",
       "    <tr style=\"text-align: right;\">\n",
       "      <th></th>\n",
       "      <th>make</th>\n",
       "      <th>manufacturer</th>\n",
       "      <th>type</th>\n",
       "      <th>price</th>\n",
       "      <th>mpg</th>\n",
       "      <th>num_of_cylinders</th>\n",
       "      <th>horsepower</th>\n",
       "      <th>fuel_tank_capacity</th>\n",
       "      <th>RPM</th>\n",
       "      <th>Wheelbase</th>\n",
       "      <th>...</th>\n",
       "      <th>Weight</th>\n",
       "      <th>automatic_gearbox</th>\n",
       "      <th>passenger_capacity</th>\n",
       "      <th>length</th>\n",
       "      <th>width</th>\n",
       "      <th>luggage_capacity</th>\n",
       "      <th>AirBags</th>\n",
       "      <th>DriveTrain</th>\n",
       "      <th>Origin</th>\n",
       "      <th>imagepath</th>\n",
       "    </tr>\n",
       "  </thead>\n",
       "  <tbody>\n",
       "    <tr>\n",
       "      <th>35</th>\n",
       "      <td>Ford Probe</td>\n",
       "      <td>Ford</td>\n",
       "      <td>Sporty</td>\n",
       "      <td>7000.0</td>\n",
       "      <td>27.0</td>\n",
       "      <td>4</td>\n",
       "      <td>115</td>\n",
       "      <td>15.5</td>\n",
       "      <td>5500</td>\n",
       "      <td>103</td>\n",
       "      <td>...</td>\n",
       "      <td>2710</td>\n",
       "      <td>0</td>\n",
       "      <td>4</td>\n",
       "      <td>179</td>\n",
       "      <td>70</td>\n",
       "      <td>18.0</td>\n",
       "      <td>DriverOnly</td>\n",
       "      <td>Front</td>\n",
       "      <td>0</td>\n",
       "      <td>35Ford_Probe.jpg</td>\n",
       "    </tr>\n",
       "    <tr>\n",
       "      <th>60</th>\n",
       "      <td>Mercury Capri</td>\n",
       "      <td>Mercury</td>\n",
       "      <td>Sporty</td>\n",
       "      <td>7050.0</td>\n",
       "      <td>24.5</td>\n",
       "      <td>4</td>\n",
       "      <td>100</td>\n",
       "      <td>11.1</td>\n",
       "      <td>5750</td>\n",
       "      <td>95</td>\n",
       "      <td>...</td>\n",
       "      <td>2450</td>\n",
       "      <td>0</td>\n",
       "      <td>4</td>\n",
       "      <td>166</td>\n",
       "      <td>65</td>\n",
       "      <td>6.0</td>\n",
       "      <td>DriverOnly</td>\n",
       "      <td>Front</td>\n",
       "      <td>0</td>\n",
       "      <td>60mercury_capri.jpg</td>\n",
       "    </tr>\n",
       "    <tr>\n",
       "      <th>72</th>\n",
       "      <td>Plymouth Laser</td>\n",
       "      <td>Plymouth</td>\n",
       "      <td>Sporty</td>\n",
       "      <td>7200.0</td>\n",
       "      <td>26.5</td>\n",
       "      <td>4</td>\n",
       "      <td>92</td>\n",
       "      <td>15.9</td>\n",
       "      <td>5000</td>\n",
       "      <td>97</td>\n",
       "      <td>...</td>\n",
       "      <td>2640</td>\n",
       "      <td>0</td>\n",
       "      <td>4</td>\n",
       "      <td>173</td>\n",
       "      <td>67</td>\n",
       "      <td>8.0</td>\n",
       "      <td>None</td>\n",
       "      <td>4WD</td>\n",
       "      <td>0</td>\n",
       "      <td>72plymouth_laser.jpg</td>\n",
       "    </tr>\n",
       "    <tr>\n",
       "      <th>14</th>\n",
       "      <td>Chevrolet Camaro</td>\n",
       "      <td>Chevrolet</td>\n",
       "      <td>Sporty</td>\n",
       "      <td>7550.0</td>\n",
       "      <td>23.5</td>\n",
       "      <td>6</td>\n",
       "      <td>160</td>\n",
       "      <td>15.5</td>\n",
       "      <td>4600</td>\n",
       "      <td>101</td>\n",
       "      <td>...</td>\n",
       "      <td>3240</td>\n",
       "      <td>0</td>\n",
       "      <td>4</td>\n",
       "      <td>193</td>\n",
       "      <td>74</td>\n",
       "      <td>13.0</td>\n",
       "      <td>DriverAndPassenger</td>\n",
       "      <td>Rear</td>\n",
       "      <td>0</td>\n",
       "      <td>14chevrolet_camaro.jpg</td>\n",
       "    </tr>\n",
       "    <tr>\n",
       "      <th>34</th>\n",
       "      <td>Ford Mustang</td>\n",
       "      <td>Ford</td>\n",
       "      <td>Sporty</td>\n",
       "      <td>7950.0</td>\n",
       "      <td>25.5</td>\n",
       "      <td>4</td>\n",
       "      <td>105</td>\n",
       "      <td>15.4</td>\n",
       "      <td>4600</td>\n",
       "      <td>101</td>\n",
       "      <td>...</td>\n",
       "      <td>2850</td>\n",
       "      <td>0</td>\n",
       "      <td>4</td>\n",
       "      <td>180</td>\n",
       "      <td>68</td>\n",
       "      <td>12.0</td>\n",
       "      <td>DriverOnly</td>\n",
       "      <td>Rear</td>\n",
       "      <td>0</td>\n",
       "      <td>34ford_mustang.jpg</td>\n",
       "    </tr>\n",
       "  </tbody>\n",
       "</table>\n",
       "<p>5 rows × 21 columns</p>\n",
       "</div>"
      ],
      "text/plain": [
       "                make manufacturer    type   price   mpg  num_of_cylinders  \\\n",
       "35        Ford Probe         Ford  Sporty  7000.0  27.0                 4   \n",
       "60     Mercury Capri      Mercury  Sporty  7050.0  24.5                 4   \n",
       "72    Plymouth Laser     Plymouth  Sporty  7200.0  26.5                 4   \n",
       "14  Chevrolet Camaro    Chevrolet  Sporty  7550.0  23.5                 6   \n",
       "34      Ford Mustang         Ford  Sporty  7950.0  25.5                 4   \n",
       "\n",
       "    horsepower  fuel_tank_capacity   RPM  Wheelbase  ...  Weight  \\\n",
       "35         115                15.5  5500        103  ...    2710   \n",
       "60         100                11.1  5750         95  ...    2450   \n",
       "72          92                15.9  5000         97  ...    2640   \n",
       "14         160                15.5  4600        101  ...    3240   \n",
       "34         105                15.4  4600        101  ...    2850   \n",
       "\n",
       "    automatic_gearbox  passenger_capacity  length  width  luggage_capacity  \\\n",
       "35                  0                   4     179     70              18.0   \n",
       "60                  0                   4     166     65               6.0   \n",
       "72                  0                   4     173     67               8.0   \n",
       "14                  0                   4     193     74              13.0   \n",
       "34                  0                   4     180     68              12.0   \n",
       "\n",
       "               AirBags DriveTrain Origin               imagepath  \n",
       "35          DriverOnly      Front      0        35Ford_Probe.jpg  \n",
       "60          DriverOnly      Front      0     60mercury_capri.jpg  \n",
       "72                None        4WD      0    72plymouth_laser.jpg  \n",
       "14  DriverAndPassenger       Rear      0  14chevrolet_camaro.jpg  \n",
       "34          DriverOnly       Rear      0      34ford_mustang.jpg  \n",
       "\n",
       "[5 rows x 21 columns]"
      ]
     },
     "execution_count": 32,
     "metadata": {},
     "output_type": "execute_result"
    }
   ],
   "source": [
    "selected_recommended"
   ]
  },
  {
   "cell_type": "code",
   "execution_count": 33,
   "metadata": {},
   "outputs": [
    {
     "data": {
      "text/html": [
       "<div>\n",
       "<style scoped>\n",
       "    .dataframe tbody tr th:only-of-type {\n",
       "        vertical-align: middle;\n",
       "    }\n",
       "\n",
       "    .dataframe tbody tr th {\n",
       "        vertical-align: top;\n",
       "    }\n",
       "\n",
       "    .dataframe thead th {\n",
       "        text-align: right;\n",
       "    }\n",
       "</style>\n",
       "<table border=\"1\" class=\"dataframe\">\n",
       "  <thead>\n",
       "    <tr style=\"text-align: right;\">\n",
       "      <th></th>\n",
       "      <th>make</th>\n",
       "      <th>type</th>\n",
       "      <th>price</th>\n",
       "      <th>horsepower</th>\n",
       "      <th>mpg</th>\n",
       "    </tr>\n",
       "  </thead>\n",
       "  <tbody>\n",
       "    <tr>\n",
       "      <th>35</th>\n",
       "      <td>Ford Probe</td>\n",
       "      <td>Sporty</td>\n",
       "      <td>7000.0</td>\n",
       "      <td>115</td>\n",
       "      <td>27.0</td>\n",
       "    </tr>\n",
       "  </tbody>\n",
       "</table>\n",
       "</div>"
      ],
      "text/plain": [
       "          make    type   price  horsepower   mpg\n",
       "35  Ford Probe  Sporty  7000.0         115  27.0"
      ]
     },
     "execution_count": 33,
     "metadata": {},
     "output_type": "execute_result"
    }
   ],
   "source": [
    "optimal_recommended[['make', 'type', 'price', 'horsepower', 'mpg']]"
   ]
  },
  {
   "cell_type": "code",
   "execution_count": null,
   "metadata": {},
   "outputs": [],
   "source": []
  }
 ],
 "metadata": {
  "kernelspec": {
   "display_name": "Python 3",
   "language": "python",
   "name": "python3"
  },
  "language_info": {
   "codemirror_mode": {
    "name": "ipython",
    "version": 3
   },
   "file_extension": ".py",
   "mimetype": "text/x-python",
   "name": "python",
   "nbconvert_exporter": "python",
   "pygments_lexer": "ipython3",
   "version": "3.7.3"
  }
 },
 "nbformat": 4,
 "nbformat_minor": 2
}
