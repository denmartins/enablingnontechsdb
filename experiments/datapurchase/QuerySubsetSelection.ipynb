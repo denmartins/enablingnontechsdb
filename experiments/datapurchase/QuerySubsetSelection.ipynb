{
 "cells": [
  {
   "cell_type": "markdown",
   "metadata": {},
   "source": [
    "# Query Subset Selection\n",
    "\n",
    "Publication information: Martins, D. M. L., Lechtenbörger, J., Vossen, G. (2019, November). Supporting Customers with Limited Budget in Data Marketplaces. 2019 IEEE Latin American Conference on Computational Intelligence (LA-CCI). (pp. 201-206). IEEE."
   ]
  },
  {
   "cell_type": "markdown",
   "metadata": {},
   "source": [
    "***This code uses Inspyred: https://github.com/aarongarrett/inspyred***"
   ]
  },
  {
   "cell_type": "code",
   "execution_count": null,
   "metadata": {},
   "outputs": [],
   "source": [
    "import random\n",
    "from time import time, sleep\n",
    "import inspyred\n",
    "import pandas as pd"
   ]
  },
  {
   "cell_type": "code",
   "execution_count": null,
   "metadata": {},
   "outputs": [],
   "source": [
    "def get_synthetic_queries(num_queries):\n",
    "    \"\"\"Returns a list of queries in the form of (weight, value) tuples\"\"\"\n",
    "    queries = [(random.randint(10, 1000), random.choice([1, 2, 2, 4, 4, 5, 5, 5])) for x in range(num_queries)]\n",
    "    return queries"
   ]
  },
  {
   "cell_type": "code",
   "execution_count": null,
   "metadata": {},
   "outputs": [],
   "source": [
    "def get_adult_dataset_queries():\n",
    "    queries = [(2970, 2), (175, 5), (250, 4), (1355, 1), (6930, 3)]\n",
    "    return queries"
   ]
  },
  {
   "cell_type": "code",
   "execution_count": null,
   "metadata": {},
   "outputs": [],
   "source": [
    "def powerset(items):\n",
    "    res = [[]]\n",
    "    for item in items:\n",
    "        newset = [r+[item] for r in res]\n",
    "        res.extend(newset)\n",
    "    return res"
   ]
  },
  {
   "cell_type": "code",
   "execution_count": null,
   "metadata": {},
   "outputs": [],
   "source": [
    "def enumerative_solver(items, capacity):\n",
    "    solution = []\n",
    "    best_weight = 0\n",
    "    best_value = 0\n",
    "    \n",
    "    for item_set in powerset(items):\n",
    "        set_weight = sum([e[0] for e in item_set])\n",
    "        set_value = sum([e[1] for e in item_set])\n",
    "        if set_value > best_value and set_weight <= capacity:\n",
    "            best_value = set_value\n",
    "            best_weight = set_weight\n",
    "            solution = item_set\n",
    "    \n",
    "    best = [best_value, best_weight, solution]\n",
    "    return best"
   ]
  },
  {
   "cell_type": "code",
   "execution_count": null,
   "metadata": {},
   "outputs": [],
   "source": [
    "def greedy_solver(items, capacity):\n",
    "    taken = 0.0\n",
    "    selected = []\n",
    "    copyitems = items[:]\n",
    "    sorted(copyitems, key=lambda x: x[1], reverse=True)\n",
    "    while taken < capacity:\n",
    "        for i in copyitems:\n",
    "            selected.append(i)\n",
    "            taken += i[0]\n",
    "\n",
    "    return selected"
   ]
  },
  {
   "cell_type": "code",
   "execution_count": null,
   "metadata": {},
   "outputs": [],
   "source": [
    "def genetic_algorithm_solver(items, capacity):\n",
    "    problem = inspyred.benchmarks.Knapsack(capacity, items, duplicates=False)\n",
    "    prng = random.Random()\n",
    "    prng.seed(time())\n",
    "    \n",
    "    ea = inspyred.ec.EvolutionaryComputation(prng)\n",
    "    ea.selector = inspyred.ec.selectors.tournament_selection\n",
    "    ea.variator = [inspyred.ec.variators.uniform_crossover, \n",
    "                inspyred.ec.variators.gaussian_mutation]\n",
    "    ea.replacer = inspyred.ec.replacers.steady_state_replacement\n",
    "    #ea.terminator = inspyred.ec.terminators.evaluation_termination\n",
    "    ea.terminator = inspyred.ec.terminators.generation_termination\n",
    "\n",
    "    final_pop = ea.evolve(generator=problem.generator, \n",
    "                        evaluator=problem.evaluator, \n",
    "                        bounder=problem.bounder,\n",
    "                        maximize=problem.maximize, \n",
    "                        pop_size=100, \n",
    "                        max_evaluations=3000,\n",
    "                        max_generations=max(10, MAXGEN),\n",
    "                        tournament_size=5,\n",
    "                        num_selected=10,\n",
    "                        mutation_rate=0.20,\n",
    "                        crossover_rate=0.80)\n",
    "        \n",
    "    solution = max(ea.population)    \n",
    "    best_weight = sum([items[i][0] for i in range(len(solution.candidate)) if solution.candidate[i] == 1])\n",
    "\n",
    "    best = [max(0, solution.fitness), best_weight, solution.candidate]\n",
    "    return best"
   ]
  },
  {
   "cell_type": "code",
   "execution_count": null,
   "metadata": {},
   "outputs": [],
   "source": [
    "def generation_analysis(cost_total, relevance_total, items, solver, iterations):\n",
    "    generations = range(10, 110, 10)\n",
    "    header = 'Budget & ' + ' & '.join([str(x) for x in generations]) + r\"\\\\\"\n",
    "    print(header)\n",
    "    \n",
    "    for budget_factor in [0.1, 0.2, 0.3, 0.4, 0.5, 0.6, 0.7, 0.8, 0.9, 1.0]:\n",
    "        intermediate = []\n",
    "        for gen in generations:\n",
    "            global MAXGEN\n",
    "            MAXGEN = gen\n",
    "            capacity = budget_factor * cost_total\n",
    "            avg = []\n",
    "            for i in range(iterations):\n",
    "                best = solver(items, capacity)\n",
    "                avg.append(best[0])\n",
    "            intermediate.append(str.format('{:{prec}}', sum(avg)/len(avg), prec='.4'))\n",
    "        row = str(budget_factor) + ' & ' + ' & '.join(intermediate) + r\"\\\\\"\n",
    "        print(row)"
   ]
  },
  {
   "cell_type": "code",
   "execution_count": null,
   "metadata": {},
   "outputs": [],
   "source": [
    "def run_experiment(cost_total, relevance_total, items, solver, iterations=1):\n",
    "    print('BudgetFactor;ElapsedTime;Value;Weight;Solution')\n",
    "    for budget_factor in [0.1, 0.2, 0.3, 0.4, 0.5, 0.6, 0.7, 0.8, 0.9, 1.0]:\n",
    "        capacity = budget_factor * cost_total\n",
    "        for i in range(iterations):\n",
    "            start = time()\n",
    "            best = solver(items, capacity)\n",
    "            end = time()\n",
    "\n",
    "            print(str.format('{0};{1:0.3f};{2};{3};{4}', budget_factor, end - start, best[0], best[1], best[2]))"
   ]
  },
  {
   "cell_type": "markdown",
   "metadata": {},
   "source": [
    "#### Synthetic queries"
   ]
  },
  {
   "cell_type": "code",
   "execution_count": null,
   "metadata": {},
   "outputs": [],
   "source": [
    "MAXGEN = 60    "
   ]
  },
  {
   "cell_type": "code",
   "execution_count": null,
   "metadata": {},
   "outputs": [],
   "source": [
    "num_queries = 25\n",
    "items = get_synthetic_queries(num_queries)\n",
    "cost_total = sum([x[0] for x in items])\n",
    "relevance_total = sum([x[1] for x in items])\n",
    "print('Max cumulative relevance: ', relevance_total)\n",
    "print('Total cost: ', cost_total)\n",
    "\n",
    "run_experiment(cost_total, relevance_total, items, genetic_algorithm_solver, iterations=30)\n",
    "generation_analysis(cost_total, relevance_total, items, genetic_algorithm_solver, iterations=30)"
   ]
  },
  {
   "cell_type": "code",
   "execution_count": null,
   "metadata": {},
   "outputs": [],
   "source": [
    "items = get_adult_dataset_queries()\n",
    "print('Queries: ', items)\n",
    "\n",
    "cost_total = sum([x[0] for x in items])\n",
    "relevance_total = sum([x[1] for x in items])\n",
    "print('Max cumulative relevance: ', relevance_total)\n",
    "print('Total cost: ', cost_total)\n",
    "\n",
    "run_experiment(cost_total, relevance_total, items, genetic_algorithm_solver, iterations=30)\n",
    "generation_analysis(cost_total, relevance_total, items, genetic_algorithm_solver, iterations=30)"
   ]
  },
  {
   "cell_type": "code",
   "execution_count": null,
   "metadata": {},
   "outputs": [],
   "source": []
  }
 ],
 "metadata": {
  "kernelspec": {
   "display_name": "Python 3",
   "language": "python",
   "name": "python3"
  },
  "language_info": {
   "codemirror_mode": {
    "name": "ipython",
    "version": 3
   },
   "file_extension": ".py",
   "mimetype": "text/x-python",
   "name": "python",
   "nbconvert_exporter": "python",
   "pygments_lexer": "ipython3",
   "version": "3.7.3"
  }
 },
 "nbformat": 4,
 "nbformat_minor": 2
}
