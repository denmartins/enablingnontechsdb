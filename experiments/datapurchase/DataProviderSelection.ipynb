{
 "cells": [
  {
   "cell_type": "markdown",
   "execution_count": null,
   "metadata": {},
   "outputs": [],
   "source": [
    "# Selecting Data Provider\n",
    "Publication information: Martins, D. M. L., Vossen, G., & de Lima Neto, F. B. (2017, August). Intelligent decision support for data purchase. In Proceedings of the International Conference on Web Intelligence (pp. 396-402).\n",
    "\n",
    "URL: https://dl.acm.org/doi/10.1145/3106426.3106434\n",
    "\n",
    "Publication's BibTeX:"
   ]
  },
  {
   "cell_type": "raw",
   "execution_count": null,
   "metadata": {},
   "outputs": [],
   "source": [
    "@inproceedings{10.1145/3106426.3106434,\n",
    "    author = {Martins, Denis Mayr Lima and Vossen, Gottfried and de Lima Neto, Fernando Buarque},\n",
    "    title = {Intelligent Decision Support for Data Purchase},\n",
    "    year = {2017},\n",
    "    isbn = {9781450349512},\n",
    "    publisher = {Association for Computing Machinery},\n",
    "    address = {New York, NY, USA},\n",
    "    url = {https://doi.org/10.1145/3106426.3106434},\n",
    "    doi = {10.1145/3106426.3106434},\n",
    "    booktitle = {Proceedings of the International Conference on Web Intelligence},\n",
    "    pages = {396–402},\n",
    "    numpages = {7},\n",
    "    keywords = {decision support, personalization, computational intelligence, data purchase},\n",
    "    location = {Leipzig, Germany},\n",
    "    series = {WI ’17}\n",
    "}"
   ]
  },
  {
   "cell_type": "markdown",
   "execution_count": null,
   "metadata": {},
   "outputs": [],
   "source": [
    "### Configuring notebook"
   ]
  },
  {
   "cell_type": "code",
   "execution_count": null,
   "metadata": {},
   "outputs": [],
   "source": [
    "%pylab inline"
   ]
  },
  {
   "cell_type": "code",
   "execution_count": null,
   "metadata": {},
   "outputs": [],
   "source": [
    "cd .."
   ]
  },
  {
   "cell_type": "code",
   "execution_count": null,
   "metadata": {},
   "outputs": [],
   "source": [
    "cd .."
   ]
  },
  {
   "cell_type": "markdown",
   "execution_count": null,
   "metadata": {},
   "outputs": [],
   "source": [
    "#### Importing libraries"
   ]
  },
  {
   "cell_type": "code",
   "execution_count": null,
   "metadata": {},
   "outputs": [],
   "source": [
    "# Source: https://scikit-criteria.readthedocs.io/en/latest/index.html\n",
    "from skcriteria import Data, MIN, MAX\n",
    "from skcriteria.madm import closeness, simple\n",
    "import pandas as pd\n",
    "import os"
   ]
  },
  {
   "cell_type": "markdown",
   "execution_count": null,
   "metadata": {},
   "outputs": [],
   "source": [
    "#### Loading and configuring data set"
   ]
  },
  {
   "cell_type": "code",
   "execution_count": null,
   "metadata": {},
   "outputs": [],
   "source": [
    "providers = pd.read_pickle(os.path.join('datasets', 'uci-original-no-na.pkl'))\n",
    "providers['Year'] = providers['Year'].astype('int32')\n",
    "providers['NumInstances'] = providers['NumInstances'].astype('int32')\n",
    "providers['Price'] = providers['Price']/15"
   ]
  },
  {
   "cell_type": "markdown",
   "execution_count": null,
   "metadata": {},
   "outputs": [],
   "source": [
    "#### We assume the user is interested in data sets of a specific Area"
   ]
  },
  {
   "cell_type": "code",
   "execution_count": null,
   "metadata": {},
   "outputs": [],
   "source": [
    "selected_providers = providers[providers.Area == 'Life']"
   ]
  },
  {
   "cell_type": "code",
   "execution_count": null,
   "metadata": {},
   "outputs": [],
   "source": [
    "preprocessed_data = pd.read_pickle(os.path.join('datasets', 'uci-preprocessed.pkl'))\n",
    "preprocessed_data['Price'] = preprocessed_data['Price']/5"
   ]
  },
  {
   "cell_type": "markdown",
   "execution_count": null,
   "metadata": {},
   "outputs": [],
   "source": [
    "#### Configuring data for TOPSIS"
   ]
  },
  {
   "cell_type": "code",
   "execution_count": null,
   "metadata": {},
   "outputs": [],
   "source": [
    "# Use only the attributes that are important to the decision\n",
    "columns_assessment_view = ['NumInstances', 'Year', 'MissingValues', 'Price']\n",
    "assessment_view = preprocessed_data.loc[selected_providers.index][columns_assessment_view]\n",
    "# Get names of the selected options\n",
    "names = selected_providers.Name.values"
   ]
  },
  {
   "cell_type": "code",
   "execution_count": null,
   "metadata": {},
   "outputs": [],
   "source": [
    "criteria = [MAX, MAX, MIN, MIN]\n",
    "weights = [0.25, 0.25, 0.25, 0.25] # Equal weights for TOPSIS"
   ]
  },
  {
   "cell_type": "code",
   "execution_count": null,
   "metadata": {},
   "outputs": [],
   "source": [
    "mcda_data = Data(assessment_view.as_matrix().tolist(), criteria, weights=weights, anames=names, cnames=columns_assessment_view)"
   ]
  },
  {
   "cell_type": "markdown",
   "execution_count": null,
   "metadata": {},
   "outputs": [],
   "source": [
    "#### Creating TOPSIS"
   ]
  },
  {
   "cell_type": "code",
   "execution_count": null,
   "metadata": {},
   "outputs": [],
   "source": [
    "model = closeness.TOPSIS()\n",
    "decision = model.decide(mcda_data)"
   ]
  },
  {
   "cell_type": "code",
   "execution_count": null,
   "metadata": {},
   "outputs": [],
   "source": [
    "print(\"Ideal:\", decision.e_.ideal)\n",
    "print(\"Anti-Ideal:\", decision.e_.anti_ideal)\n",
    "print(\"Closeness:\", decision.e_.closeness)"
   ]
  },
  {
   "cell_type": "code",
   "execution_count": null,
   "metadata": {},
   "outputs": [],
   "source": [
    "best_alternative = selected_providers.iloc[int(decision.best_alternative_)]\n",
    "selected_providers.loc[selected_providers['Name'] == best_alternative['Name']]"
   ]
  },
  {
   "cell_type": "code",
   "execution_count": null,
   "metadata": {},
   "outputs": [],
   "source": [
    "selected_providers['TopsisRank'] = decision.rank_"
   ]
  },
  {
   "cell_type": "code",
   "execution_count": null,
   "metadata": {},
   "outputs": [],
   "source": [
    "topsis_result = selected_providers.sort_values(by='TopsisRank')\n",
    "topsis_result.head(10)"
   ]
  },
  {
   "cell_type": "markdown",
   "execution_count": null,
   "metadata": {},
   "outputs": [],
   "source": [
    "#### Showing that modeling preferences as hard constraints is of no help in this case"
   ]
  },
  {
   "cell_type": "code",
   "execution_count": null,
   "metadata": {},
   "outputs": [],
   "source": [
    "selected_providers.query(\"MissingValues =='No' and Price <= 190 and NumInstances >= 200 and Year >= 1990\")"
   ]
  },
  {
   "cell_type": "markdown",
   "execution_count": null,
   "metadata": {},
   "outputs": [],
   "source": [
    "## Using the iSM"
   ]
  },
  {
   "cell_type": "markdown",
   "execution_count": null,
   "metadata": {},
   "outputs": [],
   "source": [
    "### Selecting providers using preferences as soft constraints"
   ]
  },
  {
   "cell_type": "code",
   "execution_count": null,
   "metadata": {},
   "outputs": [],
   "source": [
    "def evaluate(provider, iteration):\n",
    "    budget = 190\n",
    "    year = 1990\n",
    "    rows = 200\n",
    "    \n",
    "    relnulval = int(provider['MissingValues'] == 'No')\n",
    "    \n",
    "    relprice = budget - provider['Price']\n",
    "    \n",
    "    relyear = provider['Year'] - year \n",
    "    \n",
    "    relrows = provider['NumInstances'] - rows\n",
    "    \n",
    "    if iteration < 2:\n",
    "        relnulval = 0\n",
    "        \n",
    "    if iteration < 3:\n",
    "        relrows = 0\n",
    "    \n",
    "    score = relprice/max(selected_providers['Price']) + relyear/max(selected_providers['Year']) + relrows/max(selected_providers['NumInstances']) + relnulval\n",
    "    \n",
    "    return float(str.format('{:.3f}',  score))"
   ]
  },
  {
   "cell_type": "code",
   "execution_count": null,
   "metadata": {},
   "outputs": [],
   "source": [
    "selected_providers['Relevance'] = [evaluate(selected_providers.iloc[i], iteration=3) for i in range(selected_providers.shape[0])]"
   ]
  },
  {
   "cell_type": "code",
   "execution_count": null,
   "metadata": {},
   "outputs": [],
   "source": [
    "ism_selected = selected_providers.sort_values(by='Relevance', ascending=False)[:10]\n",
    "ism_selected"
   ]
  },
  {
   "cell_type": "markdown",
   "execution_count": null,
   "metadata": {},
   "outputs": [],
   "source": [
    "#### Select pareto-front "
   ]
  },
  {
   "cell_type": "code",
   "execution_count": null,
   "metadata": {},
   "outputs": [],
   "source": [
    "def identify_pareto(scores):\n",
    "    # Count number of items\n",
    "    population_size = scores.shape[0]\n",
    "    # Create a NumPy index for scores on the pareto front (zero indexed)\n",
    "    population_ids = np.arange(population_size)\n",
    "    # Create a starting list of items on the Pareto front\n",
    "    # All items start off as being labelled as on the Parteo front\n",
    "    pareto_front = np.ones(population_size, dtype=bool)\n",
    "    # Loop through each item. This will then be compared with all other items\n",
    "    for i in range(population_size):\n",
    "        # Loop through all other items\n",
    "        for j in range(population_size):\n",
    "            # Check if our 'i' pint is dominated by out 'j' point\n",
    "            if all(scores[j] >= scores[i]) and any(scores[j] > scores[i]):\n",
    "                # j dominates i. Label 'i' point as not on Pareto front\n",
    "                pareto_front[i] = 0\n",
    "                # Stop further comparisons with 'i' (no more comparisons needed)\n",
    "                break\n",
    "    # Return ids of scenarios on pareto front\n",
    "    return population_ids[pareto_front]"
   ]
  },
  {
   "cell_type": "code",
   "execution_count": null,
   "metadata": {},
   "outputs": [],
   "source": [
    "pareto_columns = [columns_assessment_view[0], columns_assessment_view[-1]]\n",
    "pareto_criteria = [criteria[0], criteria[-1]]\n",
    "data_pareto_analysis = assessment_view[pareto_columns].loc[ism_selected.index].copy(deep=True)"
   ]
  },
  {
   "cell_type": "code",
   "execution_count": null,
   "metadata": {},
   "outputs": [],
   "source": [
    "for i in range(len(pareto_criteria)):\n",
    "    if pareto_criteria[i] == MIN:\n",
    "        data_pareto_analysis[data_pareto_analysis.columns[i]] = 1/data_pareto_analysis[data_pareto_analysis.columns[i]] "
   ]
  },
  {
   "cell_type": "code",
   "execution_count": null,
   "metadata": {},
   "outputs": [],
   "source": [
    "pareto_index = identify_pareto(data_pareto_analysis.values)"
   ]
  },
  {
   "cell_type": "code",
   "execution_count": null,
   "metadata": {},
   "outputs": [],
   "source": [
    "ism_pareto = ism_selected.iloc[pareto_index].sort_values(by='Relevance', ascending=False)\n",
    "ism_pareto"
   ]
  },
  {
   "cell_type": "markdown",
   "execution_count": null,
   "metadata": {},
   "outputs": [],
   "source": [
    "#### Discriminating providers with SOM"
   ]
  },
  {
   "cell_type": "code",
   "execution_count": null,
   "metadata": {},
   "outputs": [],
   "source": [
    "import somoclu"
   ]
  },
  {
   "cell_type": "code",
   "execution_count": null,
   "metadata": {},
   "outputs": [],
   "source": [
    "data = preprocessed_data.loc[selected_providers.index].copy(deep=True)\n",
    "del data['Name']\n",
    "\n",
    "data = np.apply_along_axis(lambda x: x/np.linalg.norm(x), 1, data)\n",
    "\n",
    "x_size = 8\n",
    "y_size = 4\n",
    "sigma = max(x_size, y_size)*0.2\n",
    "labels = [providers.iloc[i]['Name'] for i in range(providers.shape[0])]\n",
    "\n",
    "som = somoclu.Somoclu(n_columns=x_size, n_rows=y_size, compactsupport=False, initialization='pca')\n",
    "%time som.train(data=data, epochs=1000, radius0=sigma)"
   ]
  },
  {
   "cell_type": "code",
   "execution_count": null,
   "metadata": {},
   "outputs": [],
   "source": [
    "fig = som.view_umatrix(bestmatches=True, labels=[selected_providers.loc[i]['Name'] if i in ism_pareto.index else '' for i in selected_providers.index], colorbar=True, figsize=(x_size*2, y_size*2))"
   ]
  },
  {
   "cell_type": "code",
   "execution_count": null,
   "metadata": {},
   "outputs": [],
   "source": [
    "fig = som.view_umatrix(bestmatches=True, labels=selected_providers.index, colorbar=True, figsize=(x_size*2, y_size*2))"
   ]
  },
  {
   "cell_type": "markdown",
   "execution_count": null,
   "metadata": {},
   "outputs": [],
   "source": [
    "#### Getting similar data providers based on SOM "
   ]
  },
  {
   "cell_type": "code",
   "execution_count": null,
   "metadata": {},
   "outputs": [],
   "source": [
    "def get_neighborhood(centroid_2d_position, step, x_size, y_size):\n",
    "    search_space = [(centroid_2d_position[0], centroid_2d_position[1]),\n",
    "                    (centroid_2d_position[0], centroid_2d_position[1]-step), \n",
    "                    (centroid_2d_position[0]-step, centroid_2d_position[1]-step),\n",
    "                    (centroid_2d_position[0]-step, centroid_2d_position[1]),\n",
    "                    (centroid_2d_position[0]-step, centroid_2d_position[1]+step), \n",
    "                    (centroid_2d_position[0], centroid_2d_position[1]+step),\n",
    "                    (centroid_2d_position[0]+step, centroid_2d_position[1]+step),\n",
    "                    (centroid_2d_position[0]+step, centroid_2d_position[1]),\n",
    "                    (centroid_2d_position[0]+step, centroid_2d_position[1]-step)]\n",
    "\n",
    "    neighborhood = []\n",
    "    for region in search_space:\n",
    "        if region[0] in range(x_size) and region[1] in range(y_size):\n",
    "            neighborhood.append(list(region))\n",
    "\n",
    "    return neighborhood"
   ]
  },
  {
   "cell_type": "code",
   "execution_count": null,
   "metadata": {},
   "outputs": [],
   "source": [
    "similar = {}\n",
    "for j in range(ism_pareto.shape[0]):\n",
    "    similar[ism_pareto.index[j]] = [selected_providers.index[i] for i in range(selected_providers.shape[0]) if som.bmus[i].tolist() in get_neighborhood(som.bmus[j-1], 0, x_size, y_size)]"
   ]
  },
  {
   "cell_type": "code",
   "execution_count": null,
   "metadata": {},
   "outputs": [],
   "source": [
    "ids = set()\n",
    "for k,v in similar.items():\n",
    "    for e in v:\n",
    "        ids.add(e)\n",
    "ids = list(ids)"
   ]
  },
  {
   "cell_type": "code",
   "execution_count": null,
   "metadata": {},
   "outputs": [],
   "source": [
    "providers.loc[[i for i in ids if not i in ism_selected.index]]"
   ]
  },
  {
   "cell_type": "code",
   "execution_count": null,
   "metadata": {},
   "outputs": [],
   "source": [
    "similar"
   ]
  }
 ],
 "metadata": {
  "kernelspec": {
   "display_name": "Python 3",
   "language": "python",
   "name": "python3"
  },
  "language_info": {
   "codemirror_mode": {
    "name": "ipython",
    "version": 3
   },
   "file_extension": ".py",
   "mimetype": "text/x-python",
   "name": "python",
   "nbconvert_exporter": "python",
   "pygments_lexer": "ipython3",
   "version": "3.7.3-final"
  }
 },
 "nbformat": 4,
 "nbformat_minor": 4
}