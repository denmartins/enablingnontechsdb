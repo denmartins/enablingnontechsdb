{
 "cells": [
  {
   "cell_type": "markdown",
   "metadata": {},
   "source": [
    "# Learning database queries via intelligent semiotic machines\n",
    "\n",
    "Publication information: Martins, D. M. L., Vossen, G., & de Lima Neto, F. B. (2017, November). Learning database queries via intelligent semiotic machines. In 2017 IEEE Latin American Conference on Computational Intelligence (LA-CCI) (pp. 1-6). IEEE.\n",
    "\n",
    "URL: https://ieeexplore.ieee.org/document/8285698\n",
    "\n",
    "Publication's BibTeX:"
   ]
  },
  {
   "cell_type": "raw",
   "metadata": {},
   "source": [
    "@INPROCEEDINGS{8285698,\n",
    "    author={D. M. L. {Martins} and G. {Vossen} and F. B. {de Lima Neto}},\n",
    "    booktitle={2017 IEEE Latin American Conference on Computational Intelligence (LA-CCI)},\n",
    "    title={Learning database queries via intelligent semiotic machines},\n",
    "    year={2017},\n",
    "    volume={},\n",
    "    number={},\n",
    "    pages={1-6},\n",
    "    keywords={Big Data;database management systems;information retrieval;learning (artificial intelligence);query languages;query processing;relational databases;SQL;SQL queries;database-specific knowledge;query language;database schema;intelligent semiotic machines;Big Data era;data-driven approaches;query criteria;hard constraints;information overload;Semiotics;Computational Intelligence techniques;tailored queries;data exploration;database search;data retrieval;database queries learning;information finding;Databases;Semiotics;Automobiles;Self-organizing feature maps;Neurons;Training;Electronic mail},\n",
    "    doi={10.1109/LA-CCI.2017.8285698},\n",
    "    ISSN={null},\n",
    "    month={Nov},\n",
    "}"
   ]
  },
  {
   "cell_type": "markdown",
   "metadata": {},
   "source": [
    "### Configuring notebook"
   ]
  },
  {
   "cell_type": "code",
   "execution_count": 1,
   "metadata": {},
   "outputs": [
    {
     "name": "stdout",
     "output_type": "stream",
     "text": [
      "C:\\Users\\d_mart04\\Documents\\CodeRepositoryGit\\enablingnontechsdb\\experiments\n"
     ]
    }
   ],
   "source": [
    "cd .."
   ]
  },
  {
   "cell_type": "code",
   "execution_count": 2,
   "metadata": {},
   "outputs": [
    {
     "name": "stdout",
     "output_type": "stream",
     "text": [
      "C:\\Users\\d_mart04\\Documents\\CodeRepositoryGit\\enablingnontechsdb\n"
     ]
    }
   ],
   "source": [
    "cd .."
   ]
  },
  {
   "cell_type": "code",
   "execution_count": 3,
   "metadata": {
    "collapsed": true
   },
   "outputs": [],
   "source": [
    "import sys, os\n",
    "sys.path.append('..\\\\sada')\n",
    "sys.path.append('..\\\\decision')\n",
    "sys.path.append('..\\\\qbe')"
   ]
  },
  {
   "cell_type": "code",
   "execution_count": 4,
   "metadata": {},
   "outputs": [],
   "source": [
    "from datamanagement.dataaccessobject import DataAccessObject, Dataset\n",
    "from decision.somselector import SomSelector\n",
    "from sada.decisionsada import DecisionSADA\n",
    "from qbe.fitfunction import PersonalizedFitnessFunction\n",
    "from qbe.deapgpqbe import DEAPGeneticProgrammingQBE\n",
    "from qbe import util\n",
    "import pandas as pd, pandasql as pdsql\n",
    "import random"
   ]
  },
  {
   "cell_type": "code",
   "execution_count": 5,
   "metadata": {},
   "outputs": [],
   "source": [
    "from sklearn.model_selection import train_test_split\n",
    "from sklearn.metrics import classification_report\n",
    "from sklearn.metrics import precision_recall_fscore_support"
   ]
  },
  {
   "cell_type": "markdown",
   "metadata": {},
   "source": [
    "### Loading car dataset"
   ]
  },
  {
   "cell_type": "code",
   "execution_count": 6,
   "metadata": {
    "collapsed": true
   },
   "outputs": [
    {
     "name": "stderr",
     "output_type": "stream",
     "text": [
      "C:\\Users\\d_mart04\\Documents\\CodeRepositoryGit\\enablingnontechsdb\\datamanagement\\dataaccessobject.py:11: FutureWarning: Method .as_matrix will be removed in a future version. Use .values instead.\n",
      "  self.data_matrix = preprocessed_data.as_matrix()\n"
     ]
    }
   ],
   "source": [
    "DAO = DataAccessObject()\n",
    "dataset = DAO.get_car_dataset()\n",
    "dataset.preprocessed_data = pd.read_pickle(os.path.join('datasets', '1993CarsPrep.pkl'))"
   ]
  },
  {
   "cell_type": "markdown",
   "metadata": {},
   "source": [
    "### Configuring SADA"
   ]
  },
  {
   "cell_type": "code",
   "execution_count": 7,
   "metadata": {},
   "outputs": [],
   "source": [
    "sada = DecisionSADA(dataset, selector=SomSelector(som_size=(10,10), num_iterations=1024))"
   ]
  },
  {
   "cell_type": "code",
   "execution_count": 8,
   "metadata": {
    "scrolled": false
   },
   "outputs": [
    {
     "name": "stdout",
     "output_type": "stream",
     "text": [
      "Int64Index([14, 19, 28, 34, 35, 60, 72, 75], dtype='int64')\n"
     ]
    }
   ],
   "source": [
    "concept = dataset.original_data.query('type==\"Sporty\" and Origin==0')\n",
    "print(concept.index)"
   ]
  },
  {
   "cell_type": "code",
   "execution_count": 9,
   "metadata": {
    "scrolled": false
   },
   "outputs": [],
   "source": [
    "X = dataset.preprocessed_data\n",
    "y = [int(y in concept.index) for y in range(1, dataset.original_data.shape[0]+1)]"
   ]
  },
  {
   "cell_type": "markdown",
   "metadata": {},
   "source": [
    "### Select an example index to start the learning process"
   ]
  },
  {
   "cell_type": "code",
   "execution_count": 10,
   "metadata": {
    "scrolled": true
   },
   "outputs": [
    {
     "name": "stdout",
     "output_type": "stream",
     "text": [
      "make                        Ford Mustang\n",
      "manufacturer                        Ford\n",
      "type                              Sporty\n",
      "price                               7950\n",
      "mpg                                 25.5\n",
      "num_of_cylinders                       4\n",
      "horsepower                           105\n",
      "fuel_tank_capacity                  15.4\n",
      "RPM                                 4600\n",
      "Wheelbase                            101\n",
      "Rear.seat.room                        24\n",
      "Weight                              2850\n",
      "automatic_gearbox                      0\n",
      "passenger_capacity                     4\n",
      "length                               180\n",
      "width                                 68\n",
      "luggage_capacity                      12\n",
      "AirBags                       DriverOnly\n",
      "DriveTrain                          Rear\n",
      "Origin                                 0\n",
      "imagepath             34ford_mustang.jpg\n",
      "Name: 34, dtype: object\n"
     ]
    }
   ],
   "source": [
    "example_index = 33\n",
    "tuple_input = dataset.data_matrix[example_index].tolist()\n",
    "print(dataset.original_data.iloc[example_index])"
   ]
  },
  {
   "cell_type": "markdown",
   "metadata": {},
   "source": [
    "### Selected examples"
   ]
  },
  {
   "cell_type": "code",
   "execution_count": 11,
   "metadata": {},
   "outputs": [
    {
     "name": "stdout",
     "output_type": "stream",
     "text": [
      "[18, 33, 13, 27, 56, 74, 57, 71]\n"
     ]
    }
   ],
   "source": [
    "selected_indexes = sada.select(query=tuple_input, num_of_selected_candidates=len(concept))\n",
    "print(selected_indexes)"
   ]
  },
  {
   "cell_type": "code",
   "execution_count": 12,
   "metadata": {},
   "outputs": [],
   "source": [
    "predicted = [int(i in selected_indexes) for i in range(dataset.original_data.shape[0])]"
   ]
  },
  {
   "cell_type": "code",
   "execution_count": 13,
   "metadata": {},
   "outputs": [
    {
     "data": {
      "text/plain": [
       "(0.75, 0.75, 0.75, None)"
      ]
     },
     "execution_count": 13,
     "metadata": {},
     "output_type": "execute_result"
    }
   ],
   "source": [
    "precision_recall_fscore_support(y, predicted, average='binary')"
   ]
  },
  {
   "cell_type": "markdown",
   "metadata": {},
   "source": [
    "### Query learning phase"
   ]
  },
  {
   "cell_type": "code",
   "execution_count": 14,
   "metadata": {},
   "outputs": [],
   "source": [
    "fitnessfunc = PersonalizedFitnessFunction(X_train=X.values, y_train=y)\n",
    "query_learner = DEAPGeneticProgrammingQBE(X, fitnessfunc)"
   ]
  },
  {
   "cell_type": "code",
   "execution_count": 24,
   "metadata": {},
   "outputs": [
    {
     "name": "stdout",
     "output_type": "stream",
     "text": [
      "gen\tnevals\tmin  \n",
      "0  \t128   \t10.05\n",
      "1  \t106   \t10.05\n",
      "2  \t96    \t6.05 \n",
      "3  \t93    \t6.05 \n",
      "4  \t102   \t6.05 \n",
      "5  \t105   \t6.05 \n",
      "6  \t101   \t6.05 \n",
      "7  \t105   \t6.05 \n",
      "8  \t99    \t6.05 \n",
      "9  \t95    \t6.05 \n",
      "10 \t112   \t6.05 \n",
      "11 \t109   \t6.05 \n",
      "12 \t98    \t6.05 \n",
      "13 \t101   \t6.05 \n",
      "14 \t102   \t6.05 \n",
      "15 \t102   \t6.05 \n",
      "16 \t109   \t6.05 \n",
      "17 \t101   \t6.05 \n",
      "18 \t95    \t6.05 \n",
      "19 \t95    \t6.05 \n",
      "20 \t102   \t6.05 \n",
      "21 \t102   \t6.05 \n",
      "22 \t96    \t6.05 \n",
      "23 \t100   \t6.05 \n",
      "24 \t96    \t6.05 \n",
      "25 \t101   \t6.05 \n",
      "26 \t95    \t6.05 \n",
      "27 \t97    \t6.05 \n",
      "28 \t109   \t6.05 \n",
      "29 \t90    \t6.05 \n",
      "30 \t103   \t6.05 \n",
      "31 \t94    \t6.05 \n",
      "32 \t94    \t6.05 \n",
      "33 \t95    \t6.05 \n",
      "34 \t102   \t6.05 \n",
      "35 \t106   \t6.05 \n",
      "36 \t105   \t6.05 \n",
      "37 \t97    \t6.05 \n",
      "38 \t98    \t6.05 \n",
      "39 \t100   \t6.05 \n",
      "40 \t106   \t6.05 \n",
      "41 \t93    \t6.05 \n",
      "42 \t110   \t6.05 \n",
      "43 \t93    \t6.05 \n",
      "44 \t102   \t6.05 \n",
      "45 \t106   \t6.05 \n",
      "46 \t99    \t6.05 \n",
      "47 \t98    \t6.05 \n",
      "48 \t101   \t6.05 \n",
      "49 \t102   \t6.05 \n",
      "50 \t101   \t6.05 \n",
      "51 \t104   \t6.05 \n",
      "52 \t100   \t6.05 \n",
      "53 \t100   \t6.05 \n",
      "54 \t107   \t6.05 \n",
      "55 \t95    \t6.05 \n",
      "56 \t98    \t6.05 \n",
      "57 \t103   \t6.05 \n",
      "58 \t101   \t6.05 \n",
      "59 \t117   \t6.05 \n",
      "60 \t98    \t6.05 \n",
      "61 \t109   \t6.05 \n",
      "62 \t92    \t6.05 \n",
      "63 \t99    \t6.05 \n",
      "64 \t93    \t6.05 \n"
     ]
    }
   ],
   "source": [
    "best_predicate = query_learner.simple_search(population_size=128, crossover_rate=0.7, mutation_rate=0.3, num_generations=64, max_gen_without_gain=16)"
   ]
  },
  {
   "cell_type": "code",
   "execution_count": 25,
   "metadata": {},
   "outputs": [
    {
     "data": {
      "text/plain": [
       "'(0.9886939145139939 <= horsepower)'"
      ]
     },
     "execution_count": 25,
     "metadata": {},
     "output_type": "execute_result"
    }
   ],
   "source": [
    "best_predicate"
   ]
  },
  {
   "cell_type": "code",
   "execution_count": 26,
   "metadata": {},
   "outputs": [
    {
     "data": {
      "text/html": [
       "<div>\n",
       "<style scoped>\n",
       "    .dataframe tbody tr th:only-of-type {\n",
       "        vertical-align: middle;\n",
       "    }\n",
       "\n",
       "    .dataframe tbody tr th {\n",
       "        vertical-align: top;\n",
       "    }\n",
       "\n",
       "    .dataframe thead th {\n",
       "        text-align: right;\n",
       "    }\n",
       "</style>\n",
       "<table border=\"1\" class=\"dataframe\">\n",
       "  <thead>\n",
       "    <tr style=\"text-align: right;\">\n",
       "      <th></th>\n",
       "      <th>price</th>\n",
       "      <th>mpg</th>\n",
       "      <th>num_of_cylinders</th>\n",
       "      <th>horsepower</th>\n",
       "      <th>fuel_tank_capacity</th>\n",
       "      <th>rpm</th>\n",
       "      <th>weight</th>\n",
       "      <th>automatic_gearbox</th>\n",
       "      <th>passenger_capacity</th>\n",
       "      <th>width</th>\n",
       "      <th>luggage_capacity</th>\n",
       "      <th>origin</th>\n",
       "      <th>manufacturer0</th>\n",
       "      <th>manufacturer1</th>\n",
       "      <th>manufacturer2</th>\n",
       "      <th>manufacturer3</th>\n",
       "      <th>manufacturer4</th>\n",
       "      <th>type0</th>\n",
       "      <th>type1</th>\n",
       "      <th>type2</th>\n",
       "    </tr>\n",
       "  </thead>\n",
       "  <tbody>\n",
       "    <tr>\n",
       "      <th>19</th>\n",
       "      <td>0.613893</td>\n",
       "      <td>0.4375</td>\n",
       "      <td>1.00</td>\n",
       "      <td>1.0</td>\n",
       "      <td>0.740741</td>\n",
       "      <td>0.769231</td>\n",
       "      <td>0.823386</td>\n",
       "      <td>0.0</td>\n",
       "      <td>0.25</td>\n",
       "      <td>0.948718</td>\n",
       "      <td>0.781985</td>\n",
       "      <td>0.0</td>\n",
       "      <td>0</td>\n",
       "      <td>0</td>\n",
       "      <td>1</td>\n",
       "      <td>0</td>\n",
       "      <td>1</td>\n",
       "      <td>1</td>\n",
       "      <td>0</td>\n",
       "      <td>0</td>\n",
       "    </tr>\n",
       "    <tr>\n",
       "      <th>28</th>\n",
       "      <td>0.416801</td>\n",
       "      <td>0.4375</td>\n",
       "      <td>0.75</td>\n",
       "      <td>1.0</td>\n",
       "      <td>0.733333</td>\n",
       "      <td>0.923077</td>\n",
       "      <td>0.926918</td>\n",
       "      <td>0.0</td>\n",
       "      <td>0.50</td>\n",
       "      <td>0.923077</td>\n",
       "      <td>0.500000</td>\n",
       "      <td>0.0</td>\n",
       "      <td>0</td>\n",
       "      <td>0</td>\n",
       "      <td>1</td>\n",
       "      <td>1</td>\n",
       "      <td>1</td>\n",
       "      <td>1</td>\n",
       "      <td>0</td>\n",
       "      <td>0</td>\n",
       "    </tr>\n",
       "  </tbody>\n",
       "</table>\n",
       "</div>"
      ],
      "text/plain": [
       "       price     mpg  num_of_cylinders  horsepower  fuel_tank_capacity  \\\n",
       "19  0.613893  0.4375              1.00         1.0            0.740741   \n",
       "28  0.416801  0.4375              0.75         1.0            0.733333   \n",
       "\n",
       "         rpm    weight  automatic_gearbox  passenger_capacity     width  \\\n",
       "19  0.769231  0.823386                0.0                0.25  0.948718   \n",
       "28  0.923077  0.926918                0.0                0.50  0.923077   \n",
       "\n",
       "    luggage_capacity  origin  manufacturer0  manufacturer1  manufacturer2  \\\n",
       "19          0.781985     0.0              0              0              1   \n",
       "28          0.500000     0.0              0              0              1   \n",
       "\n",
       "    manufacturer3  manufacturer4  type0  type1  type2  \n",
       "19              0              1      1      0      0  \n",
       "28              1              1      1      0      0  "
      ]
     },
     "execution_count": 26,
     "metadata": {},
     "output_type": "execute_result"
    }
   ],
   "source": [
    "X.query(best_predicate)"
   ]
  },
  {
   "cell_type": "code",
   "execution_count": 27,
   "metadata": {},
   "outputs": [
    {
     "data": {
      "text/plain": [
       "0.0625"
      ]
     },
     "execution_count": 27,
     "metadata": {},
     "output_type": "execute_result"
    }
   ],
   "source": [
    "accuracy = len(set(X.query(best_predicate).index) & set(concept.index))/len(concept.index)\n",
    "accuracy"
   ]
  },
  {
   "cell_type": "markdown",
   "metadata": {},
   "source": [
    "### Show retrieved data"
   ]
  },
  {
   "cell_type": "code",
   "execution_count": 19,
   "metadata": {
    "scrolled": false
   },
   "outputs": [],
   "source": [
    "queries = [\"type == 'Sporty' and Origin == 0\", \n",
    "    \"type != 'Sporty' and Origin == 1\",\n",
    "    \"automatic_gearbox == 1 and horsepower >= 150\",\n",
    "    \"luggage_capacity >= 18 and passenger_capacity > 5\",\n",
    "    \"price <= 7000 and mpg >= 26 and automatic_gearbox == 0\",\n",
    "    \"manufacturer == 'Ford' or manufacturer == 'Chevrolet'\"]"
   ]
  },
  {
   "cell_type": "code",
   "execution_count": 20,
   "metadata": {
    "scrolled": false
   },
   "outputs": [],
   "source": [
    "results = []\n",
    "for q in queries:\n",
    "    concept = dataset.original_data.query(q)\n",
    "    y_test = [int(y in concept.index) for y in range(1, dataset.original_data.shape[0]+1)]\n",
    "    sada = DecisionSADA(dataset, selector=SomSelector(som_size=(10,10), num_iterations=dataset.original_data.shape[0]*10))\n",
    "    for i in range(10):\n",
    "        example_index = random.choice(concept.index)\n",
    "        tuple_input = dataset.data_matrix[example_index-1].tolist()\n",
    "        selected_indexes = sada.select(query=tuple_input,  num_of_selected_candidates=len(concept))\n",
    "        predicted = [int(i in selected_indexes) for i in range(dataset.original_data.shape[0])]\n",
    "        res = [q, len(concept.index)] + list(precision_recall_fscore_support(y_test, predicted, average='binary'))[:3]\n",
    "        results.append(res)"
   ]
  },
  {
   "cell_type": "code",
   "execution_count": 21,
   "metadata": {},
   "outputs": [],
   "source": [
    "df = pd.DataFrame(results, columns=['query', 'concept size', 'precision', 'recall', 'f1score'])"
   ]
  },
  {
   "cell_type": "code",
   "execution_count": 22,
   "metadata": {},
   "outputs": [
    {
     "data": {
      "text/html": [
       "<div>\n",
       "<style scoped>\n",
       "    .dataframe tbody tr th:only-of-type {\n",
       "        vertical-align: middle;\n",
       "    }\n",
       "\n",
       "    .dataframe tbody tr th {\n",
       "        vertical-align: top;\n",
       "    }\n",
       "\n",
       "    .dataframe thead th {\n",
       "        text-align: right;\n",
       "    }\n",
       "</style>\n",
       "<table border=\"1\" class=\"dataframe\">\n",
       "  <thead>\n",
       "    <tr style=\"text-align: right;\">\n",
       "      <th></th>\n",
       "      <th></th>\n",
       "      <th>precision</th>\n",
       "      <th>recall</th>\n",
       "      <th>f1score</th>\n",
       "    </tr>\n",
       "    <tr>\n",
       "      <th>query</th>\n",
       "      <th>concept size</th>\n",
       "      <th></th>\n",
       "      <th></th>\n",
       "      <th></th>\n",
       "    </tr>\n",
       "  </thead>\n",
       "  <tbody>\n",
       "    <tr>\n",
       "      <th>luggage_capacity &gt;= 18 and passenger_capacity &gt; 5</th>\n",
       "      <th>9</th>\n",
       "      <td>0.500000</td>\n",
       "      <td>0.500000</td>\n",
       "      <td>0.500000</td>\n",
       "    </tr>\n",
       "    <tr>\n",
       "      <th>price &lt;= 7000 and mpg &gt;= 26 and automatic_gearbox == 0</th>\n",
       "      <th>25</th>\n",
       "      <td>0.492000</td>\n",
       "      <td>0.492000</td>\n",
       "      <td>0.492000</td>\n",
       "    </tr>\n",
       "    <tr>\n",
       "      <th>type == 'Sporty' and Origin == 0</th>\n",
       "      <th>8</th>\n",
       "      <td>0.462500</td>\n",
       "      <td>0.462500</td>\n",
       "      <td>0.462500</td>\n",
       "    </tr>\n",
       "    <tr>\n",
       "      <th>type != 'Sporty' and Origin == 1</th>\n",
       "      <th>39</th>\n",
       "      <td>0.425641</td>\n",
       "      <td>0.425641</td>\n",
       "      <td>0.425641</td>\n",
       "    </tr>\n",
       "    <tr>\n",
       "      <th>automatic_gearbox == 1 and horsepower &gt;= 150</th>\n",
       "      <th>23</th>\n",
       "      <td>0.404348</td>\n",
       "      <td>0.404348</td>\n",
       "      <td>0.404348</td>\n",
       "    </tr>\n",
       "    <tr>\n",
       "      <th>manufacturer == 'Ford' or manufacturer == 'Chevrolet'</th>\n",
       "      <th>16</th>\n",
       "      <td>0.212500</td>\n",
       "      <td>0.212500</td>\n",
       "      <td>0.212500</td>\n",
       "    </tr>\n",
       "  </tbody>\n",
       "</table>\n",
       "</div>"
      ],
      "text/plain": [
       "                                                                 precision  \\\n",
       "query                                              concept size              \n",
       "luggage_capacity >= 18 and passenger_capacity > 5  9              0.500000   \n",
       "price <= 7000 and mpg >= 26 and automatic_gearb... 25             0.492000   \n",
       "type == 'Sporty' and Origin == 0                   8              0.462500   \n",
       "type != 'Sporty' and Origin == 1                   39             0.425641   \n",
       "automatic_gearbox == 1 and horsepower >= 150       23             0.404348   \n",
       "manufacturer == 'Ford' or manufacturer == 'Chev... 16             0.212500   \n",
       "\n",
       "                                                                   recall  \\\n",
       "query                                              concept size             \n",
       "luggage_capacity >= 18 and passenger_capacity > 5  9             0.500000   \n",
       "price <= 7000 and mpg >= 26 and automatic_gearb... 25            0.492000   \n",
       "type == 'Sporty' and Origin == 0                   8             0.462500   \n",
       "type != 'Sporty' and Origin == 1                   39            0.425641   \n",
       "automatic_gearbox == 1 and horsepower >= 150       23            0.404348   \n",
       "manufacturer == 'Ford' or manufacturer == 'Chev... 16            0.212500   \n",
       "\n",
       "                                                                  f1score  \n",
       "query                                              concept size            \n",
       "luggage_capacity >= 18 and passenger_capacity > 5  9             0.500000  \n",
       "price <= 7000 and mpg >= 26 and automatic_gearb... 25            0.492000  \n",
       "type == 'Sporty' and Origin == 0                   8             0.462500  \n",
       "type != 'Sporty' and Origin == 1                   39            0.425641  \n",
       "automatic_gearbox == 1 and horsepower >= 150       23            0.404348  \n",
       "manufacturer == 'Ford' or manufacturer == 'Chev... 16            0.212500  "
      ]
     },
     "execution_count": 22,
     "metadata": {},
     "output_type": "execute_result"
    }
   ],
   "source": [
    "df.groupby(by=['query', 'concept size']).mean().sort_values(by='f1score', ascending=False)"
   ]
  },
  {
   "cell_type": "code",
   "execution_count": null,
   "metadata": {},
   "outputs": [],
   "source": []
  }
 ],
 "metadata": {
  "kernelspec": {
   "display_name": "Python 3",
   "language": "python",
   "name": "python3"
  },
  "language_info": {
   "codemirror_mode": {
    "name": "ipython",
    "version": 3
   },
   "file_extension": ".py",
   "mimetype": "text/x-python",
   "name": "python",
   "nbconvert_exporter": "python",
   "pygments_lexer": "ipython3",
   "version": "3.7.3"
  }
 },
 "nbformat": 4,
 "nbformat_minor": 2
}
