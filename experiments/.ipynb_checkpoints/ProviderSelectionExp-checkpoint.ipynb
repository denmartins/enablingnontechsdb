{
 "cells": [
  {
   "cell_type": "code",
   "execution_count": 1,
   "metadata": {},
   "outputs": [
    {
     "name": "stdout",
     "output_type": "stream",
     "text": [
      "Populating the interactive namespace from numpy and matplotlib\n"
     ]
    }
   ],
   "source": [
    "%pylab inline"
   ]
  },
  {
   "cell_type": "code",
   "execution_count": 2,
   "metadata": {},
   "outputs": [
    {
     "name": "stdout",
     "output_type": "stream",
     "text": [
      "C:\\Users\\d_mart04\\Google Drive\\Doutorado\\gitworkspace\\phd-query-synthesis\\PhDCoding\n"
     ]
    }
   ],
   "source": [
    "cd .."
   ]
  },
  {
   "cell_type": "code",
   "execution_count": 3,
   "metadata": {},
   "outputs": [],
   "source": [
    "# Source: https://scikit-criteria.readthedocs.io/en/latest/index.html\n",
    "from skcriteria import Data, MIN, MAX\n",
    "from skcriteria.madm import closeness, simple\n",
    "import pandas as pd\n",
    "import os"
   ]
  },
  {
   "cell_type": "code",
   "execution_count": 4,
   "metadata": {},
   "outputs": [
    {
     "data": {
      "text/plain": [
       "(81, 10)"
      ]
     },
     "execution_count": 4,
     "metadata": {},
     "output_type": "execute_result"
    }
   ],
   "source": [
    "providers = pd.read_pickle(os.path.join('datasets', 'uci-original-no-na.pkl'))\n",
    "providers['Year'] = providers['Year'].astype('int32')\n",
    "providers['NumInstances'] = providers['NumInstances'].astype('int32')\n",
    "providers['Price'] = providers['Price']/15\n",
    "\n",
    "providers.shape"
   ]
  },
  {
   "cell_type": "code",
   "execution_count": 5,
   "metadata": {},
   "outputs": [
    {
     "data": {
      "text/plain": [
       "(37, 10)"
      ]
     },
     "execution_count": 5,
     "metadata": {},
     "output_type": "execute_result"
    }
   ],
   "source": [
    "selected_providers = providers[providers.Area == 'Life']\n",
    "selected_providers.shape"
   ]
  },
  {
   "cell_type": "code",
   "execution_count": 6,
   "metadata": {},
   "outputs": [],
   "source": [
    "preprocessed_data = pd.read_pickle(os.path.join('datasets', 'uci-preprocessed.pkl'))\n",
    "preprocessed_data['Price'] = preprocessed_data['Price']/5"
   ]
  },
  {
   "cell_type": "code",
   "execution_count": 7,
   "metadata": {},
   "outputs": [],
   "source": [
    "def export_to_latex(dataframe, relevance=False):\n",
    "    latex_cols = ['Name', 'NumAttributes', 'NumInstances', 'Year', 'MissingValues', 'Price']\n",
    "    if relevance:\n",
    "        latex_cols = latex_cols + ['Relevance']\n",
    "    else:\n",
    "        latex_cols = latex_cols + ['TopsisRank']\n",
    "        \n",
    "    print(dataframe[latex_cols][:10].to_latex())"
   ]
  },
  {
   "cell_type": "code",
   "execution_count": 8,
   "metadata": {},
   "outputs": [],
   "source": [
    "# Use only the attributes that are important to the decision\n",
    "columns_assessment_view = ['NumInstances', 'Year', 'MissingValues', 'Price']\n",
    "assessment_view = preprocessed_data.loc[selected_providers.index][columns_assessment_view]\n",
    "# Get names of the selected options\n",
    "names = selected_providers.Name.values"
   ]
  },
  {
   "cell_type": "code",
   "execution_count": 9,
   "metadata": {},
   "outputs": [],
   "source": [
    "criteria = [MAX, MAX, MIN, MIN]\n",
    "weights = [0.25, 0.25, 0.25, 0.25]"
   ]
  },
  {
   "cell_type": "code",
   "execution_count": 10,
   "metadata": {},
   "outputs": [
    {
     "name": "stderr",
     "output_type": "stream",
     "text": [
      "C:\\Users\\d_mart04\\Python\\lib\\site-packages\\ipykernel_launcher.py:1: FutureWarning: Method .as_matrix will be removed in a future version. Use .values instead.\n",
      "  \"\"\"Entry point for launching an IPython kernel.\n"
     ]
    }
   ],
   "source": [
    "mcda_data = Data(assessment_view.as_matrix().tolist(), criteria, weights=weights, anames=names, cnames=columns_assessment_view)"
   ]
  },
  {
   "cell_type": "code",
   "execution_count": 11,
   "metadata": {},
   "outputs": [
    {
     "data": {
      "text/html": [
       "<div id='dec-e76ab3f8-3933-11ea-99f5-8cec4b9e1403'><p><b>TOPSIS (mnorm=vector, wnorm=sum) - Solution:</b></p><table>\n",
       "<thead>\n",
       "<tr><th style=\"text-align: center;\">                    ALT./CRIT.                    </th><th style=\"text-align: center;\"> NumInstances (max) W.0.25 </th><th style=\"text-align: center;\"> Year (max) W.0.25 </th><th style=\"text-align: center;\"> MissingValues (min) W.0.25 </th><th style=\"text-align: center;\"> Price (min) W.0.25 </th><th style=\"text-align: center;\"> Rank </th></tr>\n",
       "</thead>\n",
       "<tbody>\n",
       "<tr><td style=\"text-align: center;\">                     Abalone                      </td><td style=\"text-align: center;\">         0.0010809         </td><td style=\"text-align: center;\">       0.32        </td><td style=\"text-align: center;\">             1              </td><td style=\"text-align: center;\">      0.152868      </td><td style=\"text-align: center;\">  36  </td></tr>\n",
       "<tr><td style=\"text-align: center;\">                    Arrhythmia                    </td><td style=\"text-align: center;\">        0.000113492        </td><td style=\"text-align: center;\">       0.44        </td><td style=\"text-align: center;\">             0              </td><td style=\"text-align: center;\">     0.0491349      </td><td style=\"text-align: center;\">  10  </td></tr>\n",
       "<tr><td style=\"text-align: center;\">             Audiology (Standardized)             </td><td style=\"text-align: center;\">        5.47982e-05        </td><td style=\"text-align: center;\">        0.2        </td><td style=\"text-align: center;\">             0              </td><td style=\"text-align: center;\">      0.012566      </td><td style=\"text-align: center;\">  8   </td></tr>\n",
       "<tr><td style=\"text-align: center;\">                  Breast Cancer                   </td><td style=\"text-align: center;\">        7.03807e-05        </td><td style=\"text-align: center;\">       0.04        </td><td style=\"text-align: center;\">             0              </td><td style=\"text-align: center;\">     0.0129302      </td><td style=\"text-align: center;\">  12  </td></tr>\n",
       "<tr><td style=\"text-align: center;\">        Breast Cancer Wisconsin (Original)        </td><td style=\"text-align: center;\">        0.00017764         </td><td style=\"text-align: center;\">        0.2        </td><td style=\"text-align: center;\">             0              </td><td style=\"text-align: center;\">     0.0639592      </td><td style=\"text-align: center;\">  21  </td></tr>\n",
       "<tr><td style=\"text-align: center;\">       Breast Cancer Wisconsin (Prognostic)       </td><td style=\"text-align: center;\">        4.75264e-05        </td><td style=\"text-align: center;\">       0.32        </td><td style=\"text-align: center;\">             0              </td><td style=\"text-align: center;\">     0.0336915      </td><td style=\"text-align: center;\">  11  </td></tr>\n",
       "<tr><td style=\"text-align: center;\">       Breast Cancer Wisconsin (Diagnostic)       </td><td style=\"text-align: center;\">        0.000143878        </td><td style=\"text-align: center;\">       0.32        </td><td style=\"text-align: center;\">             1              </td><td style=\"text-align: center;\">     0.0822072      </td><td style=\"text-align: center;\">  31  </td></tr>\n",
       "<tr><td style=\"text-align: center;\">           Contraceptive Method Choice            </td><td style=\"text-align: center;\">        0.000378653        </td><td style=\"text-align: center;\">        0.4        </td><td style=\"text-align: center;\">             1              </td><td style=\"text-align: center;\">      0.145365      </td><td style=\"text-align: center;\">  34  </td></tr>\n",
       "<tr><td style=\"text-align: center;\">                    Covertype                     </td><td style=\"text-align: center;\">         0.150889          </td><td style=\"text-align: center;\">       0.44        </td><td style=\"text-align: center;\">             1              </td><td style=\"text-align: center;\">      0.157968      </td><td style=\"text-align: center;\">  1   </td></tr>\n",
       "<tr><td style=\"text-align: center;\">                   Dermatology                    </td><td style=\"text-align: center;\">        9.11572e-05        </td><td style=\"text-align: center;\">       0.44        </td><td style=\"text-align: center;\">             0              </td><td style=\"text-align: center;\">      0.051466      </td><td style=\"text-align: center;\">  13  </td></tr>\n",
       "<tr><td style=\"text-align: center;\">                  Echocardiogram                  </td><td style=\"text-align: center;\">        3.03857e-05        </td><td style=\"text-align: center;\">       0.08        </td><td style=\"text-align: center;\">             0              </td><td style=\"text-align: center;\">         0          </td><td style=\"text-align: center;\">  6   </td></tr>\n",
       "<tr><td style=\"text-align: center;\">                      Ecoli                       </td><td style=\"text-align: center;\">        8.3366e-05         </td><td style=\"text-align: center;\">       0.36        </td><td style=\"text-align: center;\">             1              </td><td style=\"text-align: center;\">     0.0558004      </td><td style=\"text-align: center;\">  24  </td></tr>\n",
       "<tr><td style=\"text-align: center;\">               Haberman's Survival                </td><td style=\"text-align: center;\">        7.55748e-05        </td><td style=\"text-align: center;\">       0.48        </td><td style=\"text-align: center;\">             1              </td><td style=\"text-align: center;\">     0.0756511      </td><td style=\"text-align: center;\">  25  </td></tr>\n",
       "<tr><td style=\"text-align: center;\">                  Heart Disease                   </td><td style=\"text-align: center;\">        7.47957e-05        </td><td style=\"text-align: center;\">       0.04        </td><td style=\"text-align: center;\">             0              </td><td style=\"text-align: center;\">     0.0402841      </td><td style=\"text-align: center;\">  18  </td></tr>\n",
       "<tr><td style=\"text-align: center;\">                    Hepatitis                     </td><td style=\"text-align: center;\">        3.6359e-05         </td><td style=\"text-align: center;\">       0.04        </td><td style=\"text-align: center;\">             0              </td><td style=\"text-align: center;\">     0.00466217     </td><td style=\"text-align: center;\">  9   </td></tr>\n",
       "<tr><td style=\"text-align: center;\">                   Horse Colic                    </td><td style=\"text-align: center;\">        9.16766e-05        </td><td style=\"text-align: center;\">       0.08        </td><td style=\"text-align: center;\">             0              </td><td style=\"text-align: center;\">     0.0403569      </td><td style=\"text-align: center;\">  17  </td></tr>\n",
       "<tr><td style=\"text-align: center;\">                       Iris                       </td><td style=\"text-align: center;\">        3.50605e-05        </td><td style=\"text-align: center;\">       0.04        </td><td style=\"text-align: center;\">             1              </td><td style=\"text-align: center;\">     0.0417046      </td><td style=\"text-align: center;\">  28  </td></tr>\n",
       "<tr><td style=\"text-align: center;\">                   Lung Cancer                    </td><td style=\"text-align: center;\">        4.41502e-06        </td><td style=\"text-align: center;\">        0.2        </td><td style=\"text-align: center;\">             0              </td><td style=\"text-align: center;\">     0.0281187      </td><td style=\"text-align: center;\">  15  </td></tr>\n",
       "<tr><td style=\"text-align: center;\">                   Lymphography                   </td><td style=\"text-align: center;\">        3.45411e-05        </td><td style=\"text-align: center;\">       0.04        </td><td style=\"text-align: center;\">             1              </td><td style=\"text-align: center;\">     0.0423602      </td><td style=\"text-align: center;\">  29  </td></tr>\n",
       "<tr><td style=\"text-align: center;\">   Molecular Biology (Promoter Gene Sequences)    </td><td style=\"text-align: center;\">        2.36334e-05        </td><td style=\"text-align: center;\">       0.12        </td><td style=\"text-align: center;\">             1              </td><td style=\"text-align: center;\">     0.0515753      </td><td style=\"text-align: center;\">  30  </td></tr>\n",
       "<tr><td style=\"text-align: center;\">Molecular Biology (Splice-junction Gene Sequences)</td><td style=\"text-align: center;\">        0.00082457         </td><td style=\"text-align: center;\">        0.2        </td><td style=\"text-align: center;\">             1              </td><td style=\"text-align: center;\">      0.157239      </td><td style=\"text-align: center;\">  37  </td></tr>\n",
       "<tr><td style=\"text-align: center;\">                 MONK's Problems                  </td><td style=\"text-align: center;\">        0.000108298        </td><td style=\"text-align: center;\">        0.2        </td><td style=\"text-align: center;\">             1              </td><td style=\"text-align: center;\">     0.0824258      </td><td style=\"text-align: center;\">  33  </td></tr>\n",
       "<tr><td style=\"text-align: center;\">                     Mushroom                     </td><td style=\"text-align: center;\">        0.00210597         </td><td style=\"text-align: center;\">         0         </td><td style=\"text-align: center;\">             0              </td><td style=\"text-align: center;\">      0.10978       </td><td style=\"text-align: center;\">  27  </td></tr>\n",
       "<tr><td style=\"text-align: center;\">              Pima Indians Diabetes               </td><td style=\"text-align: center;\">        0.00019556         </td><td style=\"text-align: center;\">       0.12        </td><td style=\"text-align: center;\">             0              </td><td style=\"text-align: center;\">     0.0485522      </td><td style=\"text-align: center;\">  20  </td></tr>\n",
       "<tr><td style=\"text-align: center;\">              Post-Operative Patient              </td><td style=\"text-align: center;\">        1.9478e-05         </td><td style=\"text-align: center;\">       0.24        </td><td style=\"text-align: center;\">             0              </td><td style=\"text-align: center;\">     0.0279366      </td><td style=\"text-align: center;\">  14  </td></tr>\n",
       "<tr><td style=\"text-align: center;\">                  Primary Tumor                   </td><td style=\"text-align: center;\">        8.41451e-05        </td><td style=\"text-align: center;\">       0.04        </td><td style=\"text-align: center;\">             0              </td><td style=\"text-align: center;\">     0.0419596      </td><td style=\"text-align: center;\">  19  </td></tr>\n",
       "<tr><td style=\"text-align: center;\">                 Soybean (Large)                  </td><td style=\"text-align: center;\">        7.58345e-05        </td><td style=\"text-align: center;\">       0.04        </td><td style=\"text-align: center;\">             0              </td><td style=\"text-align: center;\">     0.0265161      </td><td style=\"text-align: center;\">  16  </td></tr>\n",
       "<tr><td style=\"text-align: center;\">                 Soybean (Small)                  </td><td style=\"text-align: center;\">        8.31063e-06        </td><td style=\"text-align: center;\">         0         </td><td style=\"text-align: center;\">             1              </td><td style=\"text-align: center;\">     0.0641049      </td><td style=\"text-align: center;\">  32  </td></tr>\n",
       "<tr><td style=\"text-align: center;\">                   SPECT Heart                    </td><td style=\"text-align: center;\">        6.54462e-05        </td><td style=\"text-align: center;\">       0.56        </td><td style=\"text-align: center;\">             1              </td><td style=\"text-align: center;\">     0.0688763      </td><td style=\"text-align: center;\">  22  </td></tr>\n",
       "<tr><td style=\"text-align: center;\">                   SPECTF Heart                   </td><td style=\"text-align: center;\">        6.54462e-05        </td><td style=\"text-align: center;\">       0.56        </td><td style=\"text-align: center;\">             1              </td><td style=\"text-align: center;\">     0.0730286      </td><td style=\"text-align: center;\">  23  </td></tr>\n",
       "<tr><td style=\"text-align: center;\">                      Yeast                       </td><td style=\"text-align: center;\">        0.00038151         </td><td style=\"text-align: center;\">       0.36        </td><td style=\"text-align: center;\">             1              </td><td style=\"text-align: center;\">      0.145438      </td><td style=\"text-align: center;\">  35  </td></tr>\n",
       "<tr><td style=\"text-align: center;\">                       Zoo                        </td><td style=\"text-align: center;\">        2.23348e-05        </td><td style=\"text-align: center;\">       0.12        </td><td style=\"text-align: center;\">             1              </td><td style=\"text-align: center;\">     0.0362775      </td><td style=\"text-align: center;\">  26  </td></tr>\n",
       "<tr><td style=\"text-align: center;\">                Mammographic Mass                 </td><td style=\"text-align: center;\">        0.000245683        </td><td style=\"text-align: center;\">        0.8        </td><td style=\"text-align: center;\">             0              </td><td style=\"text-align: center;\">     0.0878529      </td><td style=\"text-align: center;\">  4   </td></tr>\n",
       "<tr><td style=\"text-align: center;\">                      Plants                      </td><td style=\"text-align: center;\">         0.0058738         </td><td style=\"text-align: center;\">       0.84        </td><td style=\"text-align: center;\">             0              </td><td style=\"text-align: center;\">      0.109743      </td><td style=\"text-align: center;\">  3   </td></tr>\n",
       "<tr><td style=\"text-align: center;\">               Acute Inflammations                </td><td style=\"text-align: center;\">        2.72693e-05        </td><td style=\"text-align: center;\">       0.88        </td><td style=\"text-align: center;\">             1              </td><td style=\"text-align: center;\">     0.0613732      </td><td style=\"text-align: center;\">  7   </td></tr>\n",
       "<tr><td style=\"text-align: center;\">                   p53 Mutants                    </td><td style=\"text-align: center;\">        0.00435191         </td><td style=\"text-align: center;\">       0.92        </td><td style=\"text-align: center;\">             0              </td><td style=\"text-align: center;\">      0.179312      </td><td style=\"text-align: center;\">  5   </td></tr>\n",
       "<tr><td style=\"text-align: center;\">   KEGG Metabolic Reaction Network (Undirected)   </td><td style=\"text-align: center;\">         0.017021          </td><td style=\"text-align: center;\">       0.96        </td><td style=\"text-align: center;\">             0              </td><td style=\"text-align: center;\">      0.117793      </td><td style=\"text-align: center;\">  2   </td></tr>\n",
       "</tbody>\n",
       "</table></div>"
      ],
      "text/plain": [
       "TOPSIS (mnorm=vector, wnorm=sum) - Solution:\n",
       "                    ALT./CRIT.                       NumInstances (max) W.0.25    Year (max) W.0.25    MissingValues (min) W.0.25    Price (min) W.0.25    Rank\n",
       "--------------------------------------------------  ---------------------------  -------------------  ----------------------------  --------------------  ------\n",
       "                     Abalone                                 0.0010809                  0.32                       1                      0.152868          36\n",
       "                    Arrhythmia                              0.000113492                 0.44                       0                     0.0491349          10\n",
       "             Audiology (Standardized)                       5.47982e-05                  0.2                       0                      0.012566          8\n",
       "                  Breast Cancer                             7.03807e-05                 0.04                       0                     0.0129302          12\n",
       "        Breast Cancer Wisconsin (Original)                  0.00017764                   0.2                       0                     0.0639592          21\n",
       "       Breast Cancer Wisconsin (Prognostic)                 4.75264e-05                 0.32                       0                     0.0336915          11\n",
       "       Breast Cancer Wisconsin (Diagnostic)                 0.000143878                 0.32                       1                     0.0822072          31\n",
       "           Contraceptive Method Choice                      0.000378653                  0.4                       1                      0.145365          34\n",
       "                    Covertype                                0.150889                   0.44                       1                      0.157968          1\n",
       "                   Dermatology                              9.11572e-05                 0.44                       0                      0.051466          13\n",
       "                  Echocardiogram                            3.03857e-05                 0.08                       0                         0              6\n",
       "                      Ecoli                                 8.3366e-05                  0.36                       1                     0.0558004          24\n",
       "               Haberman's Survival                          7.55748e-05                 0.48                       1                     0.0756511          25\n",
       "                  Heart Disease                             7.47957e-05                 0.04                       0                     0.0402841          18\n",
       "                    Hepatitis                               3.6359e-05                  0.04                       0                     0.00466217         9\n",
       "                   Horse Colic                              9.16766e-05                 0.08                       0                     0.0403569          17\n",
       "                       Iris                                 3.50605e-05                 0.04                       1                     0.0417046          28\n",
       "                   Lung Cancer                              4.41502e-06                  0.2                       0                     0.0281187          15\n",
       "                   Lymphography                             3.45411e-05                 0.04                       1                     0.0423602          29\n",
       "   Molecular Biology (Promoter Gene Sequences)              2.36334e-05                 0.12                       1                     0.0515753          30\n",
       "Molecular Biology (Splice-junction Gene Sequences)          0.00082457                   0.2                       1                      0.157239          37\n",
       "                 MONK's Problems                            0.000108298                  0.2                       1                     0.0824258          33\n",
       "                     Mushroom                               0.00210597                    0                        0                      0.10978           27\n",
       "              Pima Indians Diabetes                         0.00019556                  0.12                       0                     0.0485522          20\n",
       "              Post-Operative Patient                        1.9478e-05                  0.24                       0                     0.0279366          14\n",
       "                  Primary Tumor                             8.41451e-05                 0.04                       0                     0.0419596          19\n",
       "                 Soybean (Large)                            7.58345e-05                 0.04                       0                     0.0265161          16\n",
       "                 Soybean (Small)                            8.31063e-06                   0                        1                     0.0641049          32\n",
       "                   SPECT Heart                              6.54462e-05                 0.56                       1                     0.0688763          22\n",
       "                   SPECTF Heart                             6.54462e-05                 0.56                       1                     0.0730286          23\n",
       "                      Yeast                                 0.00038151                  0.36                       1                      0.145438          35\n",
       "                       Zoo                                  2.23348e-05                 0.12                       1                     0.0362775          26\n",
       "                Mammographic Mass                           0.000245683                  0.8                       0                     0.0878529          4\n",
       "                      Plants                                 0.0058738                  0.84                       0                      0.109743          3\n",
       "               Acute Inflammations                          2.72693e-05                 0.88                       1                     0.0613732          7\n",
       "                   p53 Mutants                              0.00435191                  0.92                       0                      0.179312          5\n",
       "   KEGG Metabolic Reaction Network (Undirected)              0.017021                   0.96                       0                      0.117793          2"
      ]
     },
     "execution_count": 11,
     "metadata": {},
     "output_type": "execute_result"
    }
   ],
   "source": [
    "model = closeness.TOPSIS()\n",
    "decision = model.decide(mcda_data)\n",
    "decision"
   ]
  },
  {
   "cell_type": "code",
   "execution_count": 12,
   "metadata": {},
   "outputs": [
    {
     "name": "stdout",
     "output_type": "stream",
     "text": [
      "Ideal: [0.24810041 0.09503479 0.         0.        ]\n",
      "Anti-Ideal: [7.25942998e-06 0.00000000e+00 6.06339063e-02 8.76954370e-02]\n",
      "Closeness: [0.11189142 0.27838117 0.28538815 0.27761721 0.24610005 0.27796498\n",
      " 0.1767051  0.13709868 0.6945268  0.27675635 0.28909131 0.2102109\n",
      " 0.20943372 0.25607867 0.28402352 0.25754313 0.19869944 0.27333287\n",
      " 0.19792815 0.19077199 0.0756777  0.16024232 0.20624298 0.25308264\n",
      " 0.27613711 0.25476927 0.26694235 0.17040871 0.22903104 0.22563521\n",
      " 0.12661695 0.20862629 0.30263251 0.30782349 0.28884291 0.29951018\n",
      " 0.34526627]\n"
     ]
    }
   ],
   "source": [
    "print(\"Ideal:\", decision.e_.ideal)\n",
    "print(\"Anti-Ideal:\", decision.e_.anti_ideal)\n",
    "print(\"Closeness:\", decision.e_.closeness)"
   ]
  },
  {
   "cell_type": "code",
   "execution_count": 13,
   "metadata": {},
   "outputs": [
    {
     "data": {
      "text/html": [
       "<div>\n",
       "<style scoped>\n",
       "    .dataframe tbody tr th:only-of-type {\n",
       "        vertical-align: middle;\n",
       "    }\n",
       "\n",
       "    .dataframe tbody tr th {\n",
       "        vertical-align: top;\n",
       "    }\n",
       "\n",
       "    .dataframe thead th {\n",
       "        text-align: right;\n",
       "    }\n",
       "</style>\n",
       "<table border=\"1\" class=\"dataframe\">\n",
       "  <thead>\n",
       "    <tr style=\"text-align: right;\">\n",
       "      <th></th>\n",
       "      <th>Name</th>\n",
       "      <th>DataTypes</th>\n",
       "      <th>DefaultTask</th>\n",
       "      <th>AttributeTypes</th>\n",
       "      <th>NumInstances</th>\n",
       "      <th>NumAttributes</th>\n",
       "      <th>Year</th>\n",
       "      <th>MissingValues</th>\n",
       "      <th>Area</th>\n",
       "      <th>Price</th>\n",
       "    </tr>\n",
       "  </thead>\n",
       "  <tbody>\n",
       "    <tr>\n",
       "      <th>16</th>\n",
       "      <td>Covertype</td>\n",
       "      <td>Multivariate</td>\n",
       "      <td>Classification</td>\n",
       "      <td>Categorical, Integer</td>\n",
       "      <td>581012</td>\n",
       "      <td>54</td>\n",
       "      <td>1998</td>\n",
       "      <td>No</td>\n",
       "      <td>Life</td>\n",
       "      <td>381.266667</td>\n",
       "    </tr>\n",
       "  </tbody>\n",
       "</table>\n",
       "</div>"
      ],
      "text/plain": [
       "         Name      DataTypes      DefaultTask         AttributeTypes  \\\n",
       "16  Covertype  Multivariate   Classification   Categorical, Integer    \n",
       "\n",
       "    NumInstances NumAttributes  Year MissingValues  Area       Price  \n",
       "16        581012           54   1998            No  Life  381.266667  "
      ]
     },
     "execution_count": 13,
     "metadata": {},
     "output_type": "execute_result"
    }
   ],
   "source": [
    "best_alternative = selected_providers.iloc[int(decision.best_alternative_)]\n",
    "selected_providers.loc[selected_providers['Name'] == best_alternative['Name']]"
   ]
  },
  {
   "cell_type": "code",
   "execution_count": 14,
   "metadata": {},
   "outputs": [
    {
     "name": "stderr",
     "output_type": "stream",
     "text": [
      "C:\\Users\\d_mart04\\Python\\lib\\site-packages\\ipykernel_launcher.py:1: SettingWithCopyWarning: \n",
      "A value is trying to be set on a copy of a slice from a DataFrame.\n",
      "Try using .loc[row_indexer,col_indexer] = value instead\n",
      "\n",
      "See the caveats in the documentation: http://pandas.pydata.org/pandas-docs/stable/user_guide/indexing.html#returning-a-view-versus-a-copy\n",
      "  \"\"\"Entry point for launching an IPython kernel.\n"
     ]
    }
   ],
   "source": [
    "selected_providers['TopsisRank'] = decision.rank_"
   ]
  },
  {
   "cell_type": "code",
   "execution_count": 15,
   "metadata": {},
   "outputs": [
    {
     "data": {
      "text/html": [
       "<div>\n",
       "<style scoped>\n",
       "    .dataframe tbody tr th:only-of-type {\n",
       "        vertical-align: middle;\n",
       "    }\n",
       "\n",
       "    .dataframe tbody tr th {\n",
       "        vertical-align: top;\n",
       "    }\n",
       "\n",
       "    .dataframe thead th {\n",
       "        text-align: right;\n",
       "    }\n",
       "</style>\n",
       "<table border=\"1\" class=\"dataframe\">\n",
       "  <thead>\n",
       "    <tr style=\"text-align: right;\">\n",
       "      <th></th>\n",
       "      <th>Name</th>\n",
       "      <th>DataTypes</th>\n",
       "      <th>DefaultTask</th>\n",
       "      <th>AttributeTypes</th>\n",
       "      <th>NumInstances</th>\n",
       "      <th>NumAttributes</th>\n",
       "      <th>Year</th>\n",
       "      <th>MissingValues</th>\n",
       "      <th>Area</th>\n",
       "      <th>Price</th>\n",
       "      <th>TopsisRank</th>\n",
       "    </tr>\n",
       "  </thead>\n",
       "  <tbody>\n",
       "    <tr>\n",
       "      <th>16</th>\n",
       "      <td>Covertype</td>\n",
       "      <td>Multivariate</td>\n",
       "      <td>Classification</td>\n",
       "      <td>Categorical, Integer</td>\n",
       "      <td>581012</td>\n",
       "      <td>54</td>\n",
       "      <td>1998</td>\n",
       "      <td>No</td>\n",
       "      <td>Life</td>\n",
       "      <td>381.266667</td>\n",
       "      <td>1</td>\n",
       "    </tr>\n",
       "    <tr>\n",
       "      <th>77</th>\n",
       "      <td>KEGG Metabolic Reaction Network (Undirected)</td>\n",
       "      <td>Multivariate, Univariate, Text</td>\n",
       "      <td>Classification, Regression, Clustering</td>\n",
       "      <td>Integer, Real</td>\n",
       "      <td>65554</td>\n",
       "      <td>29</td>\n",
       "      <td>2011</td>\n",
       "      <td>Yes</td>\n",
       "      <td>Life</td>\n",
       "      <td>307.733333</td>\n",
       "      <td>2</td>\n",
       "    </tr>\n",
       "    <tr>\n",
       "      <th>72</th>\n",
       "      <td>Plants</td>\n",
       "      <td>Multivariate</td>\n",
       "      <td>Clustering</td>\n",
       "      <td>Categorical</td>\n",
       "      <td>22632</td>\n",
       "      <td>70</td>\n",
       "      <td>2008</td>\n",
       "      <td>Yes</td>\n",
       "      <td>Life</td>\n",
       "      <td>293.000000</td>\n",
       "      <td>3</td>\n",
       "    </tr>\n",
       "    <tr>\n",
       "      <th>69</th>\n",
       "      <td>Mammographic Mass</td>\n",
       "      <td>Multivariate</td>\n",
       "      <td>Classification</td>\n",
       "      <td>Integer</td>\n",
       "      <td>961</td>\n",
       "      <td>6</td>\n",
       "      <td>2007</td>\n",
       "      <td>Yes</td>\n",
       "      <td>Life</td>\n",
       "      <td>252.933333</td>\n",
       "      <td>4</td>\n",
       "    </tr>\n",
       "    <tr>\n",
       "      <th>75</th>\n",
       "      <td>p53 Mutants</td>\n",
       "      <td>Multivariate</td>\n",
       "      <td>Classification</td>\n",
       "      <td>Real</td>\n",
       "      <td>16772</td>\n",
       "      <td>5409</td>\n",
       "      <td>2010</td>\n",
       "      <td>Yes</td>\n",
       "      <td>Life</td>\n",
       "      <td>420.333333</td>\n",
       "      <td>5</td>\n",
       "    </tr>\n",
       "    <tr>\n",
       "      <th>19</th>\n",
       "      <td>Echocardiogram</td>\n",
       "      <td>Multivariate</td>\n",
       "      <td>Classification</td>\n",
       "      <td>Categorical, Integer, Real</td>\n",
       "      <td>132</td>\n",
       "      <td>12</td>\n",
       "      <td>1989</td>\n",
       "      <td>Yes</td>\n",
       "      <td>Life</td>\n",
       "      <td>92.133333</td>\n",
       "      <td>6</td>\n",
       "    </tr>\n",
       "    <tr>\n",
       "      <th>74</th>\n",
       "      <td>Acute Inflammations</td>\n",
       "      <td>Multivariate</td>\n",
       "      <td>Classification</td>\n",
       "      <td>Categorical, Integer</td>\n",
       "      <td>120</td>\n",
       "      <td>6</td>\n",
       "      <td>2009</td>\n",
       "      <td>No</td>\n",
       "      <td>Life</td>\n",
       "      <td>204.466667</td>\n",
       "      <td>7</td>\n",
       "    </tr>\n",
       "    <tr>\n",
       "      <th>4</th>\n",
       "      <td>Audiology (Standardized)</td>\n",
       "      <td>Multivariate</td>\n",
       "      <td>Classification</td>\n",
       "      <td>Categorical</td>\n",
       "      <td>226</td>\n",
       "      <td>69</td>\n",
       "      <td>1992</td>\n",
       "      <td>Yes</td>\n",
       "      <td>Life</td>\n",
       "      <td>115.133333</td>\n",
       "      <td>8</td>\n",
       "    </tr>\n",
       "    <tr>\n",
       "      <th>25</th>\n",
       "      <td>Hepatitis</td>\n",
       "      <td>Multivariate</td>\n",
       "      <td>Classification</td>\n",
       "      <td>Categorical, Integer, Real</td>\n",
       "      <td>155</td>\n",
       "      <td>19</td>\n",
       "      <td>1988</td>\n",
       "      <td>Yes</td>\n",
       "      <td>Life</td>\n",
       "      <td>100.666667</td>\n",
       "      <td>9</td>\n",
       "    </tr>\n",
       "    <tr>\n",
       "      <th>2</th>\n",
       "      <td>Arrhythmia</td>\n",
       "      <td>Multivariate</td>\n",
       "      <td>Classification</td>\n",
       "      <td>Categorical, Integer, Real</td>\n",
       "      <td>452</td>\n",
       "      <td>279</td>\n",
       "      <td>1998</td>\n",
       "      <td>Yes</td>\n",
       "      <td>Life</td>\n",
       "      <td>182.066667</td>\n",
       "      <td>10</td>\n",
       "    </tr>\n",
       "  </tbody>\n",
       "</table>\n",
       "</div>"
      ],
      "text/plain": [
       "                                            Name  \\\n",
       "16                                     Covertype   \n",
       "77  KEGG Metabolic Reaction Network (Undirected)   \n",
       "72                                        Plants   \n",
       "69                             Mammographic Mass   \n",
       "75                                   p53 Mutants   \n",
       "19                                Echocardiogram   \n",
       "74                           Acute Inflammations   \n",
       "4                       Audiology (Standardized)   \n",
       "25                                     Hepatitis   \n",
       "2                                     Arrhythmia   \n",
       "\n",
       "                          DataTypes                              DefaultTask  \\\n",
       "16                    Multivariate                           Classification    \n",
       "77  Multivariate, Univariate, Text   Classification, Regression, Clustering    \n",
       "72                    Multivariate                               Clustering    \n",
       "69                    Multivariate                           Classification    \n",
       "75                    Multivariate                           Classification    \n",
       "19                    Multivariate                           Classification    \n",
       "74                    Multivariate                           Classification    \n",
       "4                     Multivariate                           Classification    \n",
       "25                    Multivariate                           Classification    \n",
       "2                     Multivariate                           Classification    \n",
       "\n",
       "                 AttributeTypes  NumInstances NumAttributes  Year  \\\n",
       "16        Categorical, Integer         581012           54   1998   \n",
       "77               Integer, Real          65554           29   2011   \n",
       "72                 Categorical          22632           70   2008   \n",
       "69                     Integer            961            6   2007   \n",
       "75                        Real          16772         5409   2010   \n",
       "19  Categorical, Integer, Real            132           12   1989   \n",
       "74        Categorical, Integer            120            6   2009   \n",
       "4                  Categorical            226           69   1992   \n",
       "25  Categorical, Integer, Real            155           19   1988   \n",
       "2   Categorical, Integer, Real            452          279   1998   \n",
       "\n",
       "   MissingValues  Area       Price  TopsisRank  \n",
       "16            No  Life  381.266667           1  \n",
       "77           Yes  Life  307.733333           2  \n",
       "72           Yes  Life  293.000000           3  \n",
       "69           Yes  Life  252.933333           4  \n",
       "75           Yes  Life  420.333333           5  \n",
       "19           Yes  Life   92.133333           6  \n",
       "74            No  Life  204.466667           7  \n",
       "4            Yes  Life  115.133333           8  \n",
       "25           Yes  Life  100.666667           9  \n",
       "2            Yes  Life  182.066667          10  "
      ]
     },
     "execution_count": 15,
     "metadata": {},
     "output_type": "execute_result"
    }
   ],
   "source": [
    "topsis_result = selected_providers.sort_values(by='TopsisRank')\n",
    "topsis_result[:10]"
   ]
  },
  {
   "cell_type": "code",
   "execution_count": 16,
   "metadata": {},
   "outputs": [
    {
     "name": "stdout",
     "output_type": "stream",
     "text": [
      "\\begin{tabular}{lllrrlrr}\n",
      "\\toprule\n",
      "{} &                                          Name & NumAttributes &  NumInstances &  Year & MissingValues &       Price &  TopsisRank \\\\\n",
      "\\midrule\n",
      "16 &                                     Covertype &           54  &        581012 &  1998 &            No &  381.266667 &           1 \\\\\n",
      "77 &  KEGG Metabolic Reaction Network (Undirected) &           29  &         65554 &  2011 &           Yes &  307.733333 &           2 \\\\\n",
      "72 &                                        Plants &           70  &         22632 &  2008 &           Yes &  293.000000 &           3 \\\\\n",
      "69 &                             Mammographic Mass &            6  &           961 &  2007 &           Yes &  252.933333 &           4 \\\\\n",
      "75 &                                   p53 Mutants &         5409  &         16772 &  2010 &           Yes &  420.333333 &           5 \\\\\n",
      "19 &                                Echocardiogram &           12  &           132 &  1989 &           Yes &   92.133333 &           6 \\\\\n",
      "74 &                           Acute Inflammations &            6  &           120 &  2009 &            No &  204.466667 &           7 \\\\\n",
      "4  &                      Audiology (Standardized) &           69  &           226 &  1992 &           Yes &  115.133333 &           8 \\\\\n",
      "25 &                                     Hepatitis &           19  &           155 &  1988 &           Yes &  100.666667 &           9 \\\\\n",
      "2  &                                    Arrhythmia &          279  &           452 &  1998 &           Yes &  182.066667 &          10 \\\\\n",
      "\\bottomrule\n",
      "\\end{tabular}\n",
      "\n"
     ]
    }
   ],
   "source": [
    "export_to_latex(topsis_result, relevance=False)"
   ]
  },
  {
   "cell_type": "markdown",
   "metadata": {},
   "source": [
    "#### Hard constraints"
   ]
  },
  {
   "cell_type": "code",
   "execution_count": 17,
   "metadata": {},
   "outputs": [
    {
     "data": {
      "text/html": [
       "<div>\n",
       "<style scoped>\n",
       "    .dataframe tbody tr th:only-of-type {\n",
       "        vertical-align: middle;\n",
       "    }\n",
       "\n",
       "    .dataframe tbody tr th {\n",
       "        vertical-align: top;\n",
       "    }\n",
       "\n",
       "    .dataframe thead th {\n",
       "        text-align: right;\n",
       "    }\n",
       "</style>\n",
       "<table border=\"1\" class=\"dataframe\">\n",
       "  <thead>\n",
       "    <tr style=\"text-align: right;\">\n",
       "      <th></th>\n",
       "      <th>Name</th>\n",
       "      <th>DataTypes</th>\n",
       "      <th>DefaultTask</th>\n",
       "      <th>AttributeTypes</th>\n",
       "      <th>NumInstances</th>\n",
       "      <th>NumAttributes</th>\n",
       "      <th>Year</th>\n",
       "      <th>MissingValues</th>\n",
       "      <th>Area</th>\n",
       "      <th>Price</th>\n",
       "      <th>TopsisRank</th>\n",
       "    </tr>\n",
       "  </thead>\n",
       "  <tbody>\n",
       "  </tbody>\n",
       "</table>\n",
       "</div>"
      ],
      "text/plain": [
       "Empty DataFrame\n",
       "Columns: [Name, DataTypes, DefaultTask, AttributeTypes, NumInstances, NumAttributes, Year, MissingValues, Area, Price, TopsisRank]\n",
       "Index: []"
      ]
     },
     "execution_count": 17,
     "metadata": {},
     "output_type": "execute_result"
    }
   ],
   "source": [
    "selected_providers.query(\"MissingValues =='No' and Price <= 190 and NumInstances >= 200 and Year >= 1990\")"
   ]
  },
  {
   "cell_type": "markdown",
   "metadata": {},
   "source": [
    "## Using the iSM"
   ]
  },
  {
   "cell_type": "markdown",
   "metadata": {},
   "source": [
    "### Selecting providers using preferences as soft constraints"
   ]
  },
  {
   "cell_type": "code",
   "execution_count": 18,
   "metadata": {},
   "outputs": [],
   "source": [
    "def evaluate(provider, iteration):\n",
    "    budget = 190\n",
    "    year = 1990\n",
    "    rows = 200\n",
    "    \n",
    "    relnulval = int(provider['MissingValues'] == 'No')\n",
    "    \n",
    "    relprice = budget - provider['Price']\n",
    "    \n",
    "    relyear = provider['Year'] - year \n",
    "    \n",
    "    relrows = provider['NumInstances'] - rows\n",
    "    \n",
    "    if iteration < 2:\n",
    "        relnulval = 0\n",
    "        \n",
    "    if iteration < 3:\n",
    "        relrows = 0\n",
    "    \n",
    "    score = relprice/max(selected_providers['Price']) + relyear/max(selected_providers['Year']) + relrows/max(selected_providers['NumInstances']) + relnulval\n",
    "    \n",
    "    return float(str.format('{:.3f}',  score))"
   ]
  },
  {
   "cell_type": "code",
   "execution_count": 19,
   "metadata": {},
   "outputs": [
    {
     "name": "stderr",
     "output_type": "stream",
     "text": [
      "C:\\Users\\d_mart04\\Python\\lib\\site-packages\\ipykernel_launcher.py:1: SettingWithCopyWarning: \n",
      "A value is trying to be set on a copy of a slice from a DataFrame.\n",
      "Try using .loc[row_indexer,col_indexer] = value instead\n",
      "\n",
      "See the caveats in the documentation: http://pandas.pydata.org/pandas-docs/stable/user_guide/indexing.html#returning-a-view-versus-a-copy\n",
      "  \"\"\"Entry point for launching an IPython kernel.\n"
     ]
    }
   ],
   "source": [
    "selected_providers['Relevance'] = [evaluate(selected_providers.iloc[i], iteration=3) for i in range(selected_providers.shape[0])]"
   ]
  },
  {
   "cell_type": "code",
   "execution_count": 20,
   "metadata": {},
   "outputs": [
    {
     "data": {
      "text/html": [
       "<div>\n",
       "<style scoped>\n",
       "    .dataframe tbody tr th:only-of-type {\n",
       "        vertical-align: middle;\n",
       "    }\n",
       "\n",
       "    .dataframe tbody tr th {\n",
       "        vertical-align: top;\n",
       "    }\n",
       "\n",
       "    .dataframe thead th {\n",
       "        text-align: right;\n",
       "    }\n",
       "</style>\n",
       "<table border=\"1\" class=\"dataframe\">\n",
       "  <thead>\n",
       "    <tr style=\"text-align: right;\">\n",
       "      <th></th>\n",
       "      <th>Name</th>\n",
       "      <th>DataTypes</th>\n",
       "      <th>DefaultTask</th>\n",
       "      <th>AttributeTypes</th>\n",
       "      <th>NumInstances</th>\n",
       "      <th>NumAttributes</th>\n",
       "      <th>Year</th>\n",
       "      <th>MissingValues</th>\n",
       "      <th>Area</th>\n",
       "      <th>Price</th>\n",
       "      <th>TopsisRank</th>\n",
       "      <th>Relevance</th>\n",
       "    </tr>\n",
       "  </thead>\n",
       "  <tbody>\n",
       "    <tr>\n",
       "      <th>16</th>\n",
       "      <td>Covertype</td>\n",
       "      <td>Multivariate</td>\n",
       "      <td>Classification</td>\n",
       "      <td>Categorical, Integer</td>\n",
       "      <td>581012</td>\n",
       "      <td>54</td>\n",
       "      <td>1998</td>\n",
       "      <td>No</td>\n",
       "      <td>Life</td>\n",
       "      <td>381.266667</td>\n",
       "      <td>1</td>\n",
       "      <td>1.549</td>\n",
       "    </tr>\n",
       "    <tr>\n",
       "      <th>64</th>\n",
       "      <td>Zoo</td>\n",
       "      <td>Multivariate</td>\n",
       "      <td>Classification</td>\n",
       "      <td>Categorical, Integer</td>\n",
       "      <td>101</td>\n",
       "      <td>17</td>\n",
       "      <td>1990</td>\n",
       "      <td>No</td>\n",
       "      <td>Life</td>\n",
       "      <td>158.533333</td>\n",
       "      <td>26</td>\n",
       "      <td>1.075</td>\n",
       "    </tr>\n",
       "    <tr>\n",
       "      <th>29</th>\n",
       "      <td>Iris</td>\n",
       "      <td>Multivariate</td>\n",
       "      <td>Classification</td>\n",
       "      <td>Real</td>\n",
       "      <td>150</td>\n",
       "      <td>4</td>\n",
       "      <td>1988</td>\n",
       "      <td>No</td>\n",
       "      <td>Life</td>\n",
       "      <td>168.466667</td>\n",
       "      <td>28</td>\n",
       "      <td>1.050</td>\n",
       "    </tr>\n",
       "    <tr>\n",
       "      <th>34</th>\n",
       "      <td>Lymphography</td>\n",
       "      <td>Multivariate</td>\n",
       "      <td>Classification</td>\n",
       "      <td>Categorical</td>\n",
       "      <td>148</td>\n",
       "      <td>18</td>\n",
       "      <td>1988</td>\n",
       "      <td>No</td>\n",
       "      <td>Life</td>\n",
       "      <td>169.666667</td>\n",
       "      <td>29</td>\n",
       "      <td>1.047</td>\n",
       "    </tr>\n",
       "    <tr>\n",
       "      <th>36</th>\n",
       "      <td>Molecular Biology (Promoter Gene Sequences)</td>\n",
       "      <td>Sequential, Domain-Theory</td>\n",
       "      <td>Classification</td>\n",
       "      <td>Categorical</td>\n",
       "      <td>106</td>\n",
       "      <td>58</td>\n",
       "      <td>1990</td>\n",
       "      <td>No</td>\n",
       "      <td>Life</td>\n",
       "      <td>186.533333</td>\n",
       "      <td>30</td>\n",
       "      <td>1.008</td>\n",
       "    </tr>\n",
       "    <tr>\n",
       "      <th>20</th>\n",
       "      <td>Ecoli</td>\n",
       "      <td>Multivariate</td>\n",
       "      <td>Classification</td>\n",
       "      <td>Real</td>\n",
       "      <td>336</td>\n",
       "      <td>8</td>\n",
       "      <td>1996</td>\n",
       "      <td>No</td>\n",
       "      <td>Life</td>\n",
       "      <td>194.266667</td>\n",
       "      <td>24</td>\n",
       "      <td>0.993</td>\n",
       "    </tr>\n",
       "    <tr>\n",
       "      <th>74</th>\n",
       "      <td>Acute Inflammations</td>\n",
       "      <td>Multivariate</td>\n",
       "      <td>Classification</td>\n",
       "      <td>Categorical, Integer</td>\n",
       "      <td>120</td>\n",
       "      <td>6</td>\n",
       "      <td>2009</td>\n",
       "      <td>No</td>\n",
       "      <td>Life</td>\n",
       "      <td>204.466667</td>\n",
       "      <td>7</td>\n",
       "      <td>0.975</td>\n",
       "    </tr>\n",
       "    <tr>\n",
       "      <th>53</th>\n",
       "      <td>Soybean (Small)</td>\n",
       "      <td>Multivariate</td>\n",
       "      <td>Classification</td>\n",
       "      <td>Categorical</td>\n",
       "      <td>47</td>\n",
       "      <td>35</td>\n",
       "      <td>1987</td>\n",
       "      <td>No</td>\n",
       "      <td>Life</td>\n",
       "      <td>209.466667</td>\n",
       "      <td>32</td>\n",
       "      <td>0.952</td>\n",
       "    </tr>\n",
       "    <tr>\n",
       "      <th>56</th>\n",
       "      <td>SPECT Heart</td>\n",
       "      <td>Multivariate</td>\n",
       "      <td>Classification</td>\n",
       "      <td>Categorical</td>\n",
       "      <td>267</td>\n",
       "      <td>22</td>\n",
       "      <td>2001</td>\n",
       "      <td>No</td>\n",
       "      <td>Life</td>\n",
       "      <td>218.200000</td>\n",
       "      <td>22</td>\n",
       "      <td>0.938</td>\n",
       "    </tr>\n",
       "    <tr>\n",
       "      <th>57</th>\n",
       "      <td>SPECTF Heart</td>\n",
       "      <td>Multivariate</td>\n",
       "      <td>Classification</td>\n",
       "      <td>Integer</td>\n",
       "      <td>267</td>\n",
       "      <td>44</td>\n",
       "      <td>2001</td>\n",
       "      <td>No</td>\n",
       "      <td>Life</td>\n",
       "      <td>225.800000</td>\n",
       "      <td>23</td>\n",
       "      <td>0.920</td>\n",
       "    </tr>\n",
       "  </tbody>\n",
       "</table>\n",
       "</div>"
      ],
      "text/plain": [
       "                                           Name                   DataTypes  \\\n",
       "16                                    Covertype               Multivariate    \n",
       "64                                          Zoo               Multivariate    \n",
       "29                                         Iris               Multivariate    \n",
       "34                                 Lymphography               Multivariate    \n",
       "36  Molecular Biology (Promoter Gene Sequences)  Sequential, Domain-Theory    \n",
       "20                                        Ecoli               Multivariate    \n",
       "74                          Acute Inflammations               Multivariate    \n",
       "53                              Soybean (Small)               Multivariate    \n",
       "56                                  SPECT Heart               Multivariate    \n",
       "57                                 SPECTF Heart               Multivariate    \n",
       "\n",
       "        DefaultTask         AttributeTypes  NumInstances NumAttributes  Year  \\\n",
       "16  Classification   Categorical, Integer         581012           54   1998   \n",
       "64  Classification   Categorical, Integer            101           17   1990   \n",
       "29  Classification                   Real            150            4   1988   \n",
       "34  Classification            Categorical            148           18   1988   \n",
       "36  Classification            Categorical            106           58   1990   \n",
       "20  Classification                   Real            336            8   1996   \n",
       "74  Classification   Categorical, Integer            120            6   2009   \n",
       "53  Classification            Categorical             47           35   1987   \n",
       "56  Classification            Categorical            267           22   2001   \n",
       "57  Classification                Integer            267           44   2001   \n",
       "\n",
       "   MissingValues  Area       Price  TopsisRank  Relevance  \n",
       "16            No  Life  381.266667           1      1.549  \n",
       "64            No  Life  158.533333          26      1.075  \n",
       "29            No  Life  168.466667          28      1.050  \n",
       "34            No  Life  169.666667          29      1.047  \n",
       "36            No  Life  186.533333          30      1.008  \n",
       "20            No  Life  194.266667          24      0.993  \n",
       "74            No  Life  204.466667           7      0.975  \n",
       "53            No  Life  209.466667          32      0.952  \n",
       "56            No  Life  218.200000          22      0.938  \n",
       "57            No  Life  225.800000          23      0.920  "
      ]
     },
     "execution_count": 20,
     "metadata": {},
     "output_type": "execute_result"
    }
   ],
   "source": [
    "ism_selected = selected_providers.sort_values(by='Relevance', ascending=False)[:10]\n",
    "ism_selected"
   ]
  },
  {
   "cell_type": "code",
   "execution_count": 21,
   "metadata": {},
   "outputs": [
    {
     "name": "stdout",
     "output_type": "stream",
     "text": [
      "\\begin{tabular}{lllrrlrr}\n",
      "\\toprule\n",
      "{} &                                         Name & NumAttributes &  NumInstances &  Year & MissingValues &       Price &  Relevance \\\\\n",
      "\\midrule\n",
      "16 &                                    Covertype &           54  &        581012 &  1998 &            No &  381.266667 &      1.549 \\\\\n",
      "64 &                                          Zoo &           17  &           101 &  1990 &            No &  158.533333 &      1.075 \\\\\n",
      "29 &                                         Iris &            4  &           150 &  1988 &            No &  168.466667 &      1.050 \\\\\n",
      "34 &                                 Lymphography &           18  &           148 &  1988 &            No &  169.666667 &      1.047 \\\\\n",
      "36 &  Molecular Biology (Promoter Gene Sequences) &           58  &           106 &  1990 &            No &  186.533333 &      1.008 \\\\\n",
      "20 &                                        Ecoli &            8  &           336 &  1996 &            No &  194.266667 &      0.993 \\\\\n",
      "74 &                          Acute Inflammations &            6  &           120 &  2009 &            No &  204.466667 &      0.975 \\\\\n",
      "53 &                              Soybean (Small) &           35  &            47 &  1987 &            No &  209.466667 &      0.952 \\\\\n",
      "56 &                                  SPECT Heart &           22  &           267 &  2001 &            No &  218.200000 &      0.938 \\\\\n",
      "57 &                                 SPECTF Heart &           44  &           267 &  2001 &            No &  225.800000 &      0.920 \\\\\n",
      "\\bottomrule\n",
      "\\end{tabular}\n",
      "\n"
     ]
    }
   ],
   "source": [
    "export_to_latex(ism_selected, relevance=True)"
   ]
  },
  {
   "cell_type": "markdown",
   "metadata": {},
   "source": [
    "#### Select pareto-front "
   ]
  },
  {
   "cell_type": "code",
   "execution_count": 22,
   "metadata": {},
   "outputs": [],
   "source": [
    "def identify_pareto(scores):\n",
    "    # Count number of items\n",
    "    population_size = scores.shape[0]\n",
    "    # Create a NumPy index for scores on the pareto front (zero indexed)\n",
    "    population_ids = np.arange(population_size)\n",
    "    # Create a starting list of items on the Pareto front\n",
    "    # All items start off as being labelled as on the Parteo front\n",
    "    pareto_front = np.ones(population_size, dtype=bool)\n",
    "    # Loop through each item. This will then be compared with all other items\n",
    "    for i in range(population_size):\n",
    "        # Loop through all other items\n",
    "        for j in range(population_size):\n",
    "            # Check if our 'i' pint is dominated by out 'j' point\n",
    "            if all(scores[j] >= scores[i]) and any(scores[j] > scores[i]):\n",
    "                # j dominates i. Label 'i' point as not on Pareto front\n",
    "                pareto_front[i] = 0\n",
    "                # Stop further comparisons with 'i' (no more comparisons needed)\n",
    "                break\n",
    "    # Return ids of scenarios on pareto front\n",
    "    return population_ids[pareto_front]"
   ]
  },
  {
   "cell_type": "code",
   "execution_count": 23,
   "metadata": {},
   "outputs": [],
   "source": [
    "pareto_columns = [columns_assessment_view[0], columns_assessment_view[-1]]\n",
    "pareto_criteria = [criteria[0], criteria[-1]]\n",
    "data_pareto_analysis = assessment_view[pareto_columns].loc[ism_selected.index].copy(deep=True)"
   ]
  },
  {
   "cell_type": "code",
   "execution_count": 24,
   "metadata": {},
   "outputs": [],
   "source": [
    "for i in range(len(pareto_criteria)):\n",
    "    if pareto_criteria[i] == MIN:\n",
    "        data_pareto_analysis[data_pareto_analysis.columns[i]] = 1/data_pareto_analysis[data_pareto_analysis.columns[i]] "
   ]
  },
  {
   "cell_type": "code",
   "execution_count": 25,
   "metadata": {},
   "outputs": [],
   "source": [
    "pareto_index = identify_pareto(data_pareto_analysis.values)"
   ]
  },
  {
   "cell_type": "code",
   "execution_count": 26,
   "metadata": {},
   "outputs": [
    {
     "data": {
      "text/html": [
       "<div>\n",
       "<style scoped>\n",
       "    .dataframe tbody tr th:only-of-type {\n",
       "        vertical-align: middle;\n",
       "    }\n",
       "\n",
       "    .dataframe tbody tr th {\n",
       "        vertical-align: top;\n",
       "    }\n",
       "\n",
       "    .dataframe thead th {\n",
       "        text-align: right;\n",
       "    }\n",
       "</style>\n",
       "<table border=\"1\" class=\"dataframe\">\n",
       "  <thead>\n",
       "    <tr style=\"text-align: right;\">\n",
       "      <th></th>\n",
       "      <th>Name</th>\n",
       "      <th>DataTypes</th>\n",
       "      <th>DefaultTask</th>\n",
       "      <th>AttributeTypes</th>\n",
       "      <th>NumInstances</th>\n",
       "      <th>NumAttributes</th>\n",
       "      <th>Year</th>\n",
       "      <th>MissingValues</th>\n",
       "      <th>Area</th>\n",
       "      <th>Price</th>\n",
       "      <th>TopsisRank</th>\n",
       "      <th>Relevance</th>\n",
       "    </tr>\n",
       "  </thead>\n",
       "  <tbody>\n",
       "    <tr>\n",
       "      <th>16</th>\n",
       "      <td>Covertype</td>\n",
       "      <td>Multivariate</td>\n",
       "      <td>Classification</td>\n",
       "      <td>Categorical, Integer</td>\n",
       "      <td>581012</td>\n",
       "      <td>54</td>\n",
       "      <td>1998</td>\n",
       "      <td>No</td>\n",
       "      <td>Life</td>\n",
       "      <td>381.266667</td>\n",
       "      <td>1</td>\n",
       "      <td>1.549</td>\n",
       "    </tr>\n",
       "    <tr>\n",
       "      <th>64</th>\n",
       "      <td>Zoo</td>\n",
       "      <td>Multivariate</td>\n",
       "      <td>Classification</td>\n",
       "      <td>Categorical, Integer</td>\n",
       "      <td>101</td>\n",
       "      <td>17</td>\n",
       "      <td>1990</td>\n",
       "      <td>No</td>\n",
       "      <td>Life</td>\n",
       "      <td>158.533333</td>\n",
       "      <td>26</td>\n",
       "      <td>1.075</td>\n",
       "    </tr>\n",
       "    <tr>\n",
       "      <th>29</th>\n",
       "      <td>Iris</td>\n",
       "      <td>Multivariate</td>\n",
       "      <td>Classification</td>\n",
       "      <td>Real</td>\n",
       "      <td>150</td>\n",
       "      <td>4</td>\n",
       "      <td>1988</td>\n",
       "      <td>No</td>\n",
       "      <td>Life</td>\n",
       "      <td>168.466667</td>\n",
       "      <td>28</td>\n",
       "      <td>1.050</td>\n",
       "    </tr>\n",
       "    <tr>\n",
       "      <th>20</th>\n",
       "      <td>Ecoli</td>\n",
       "      <td>Multivariate</td>\n",
       "      <td>Classification</td>\n",
       "      <td>Real</td>\n",
       "      <td>336</td>\n",
       "      <td>8</td>\n",
       "      <td>1996</td>\n",
       "      <td>No</td>\n",
       "      <td>Life</td>\n",
       "      <td>194.266667</td>\n",
       "      <td>24</td>\n",
       "      <td>0.993</td>\n",
       "    </tr>\n",
       "  </tbody>\n",
       "</table>\n",
       "</div>"
      ],
      "text/plain": [
       "         Name      DataTypes      DefaultTask         AttributeTypes  \\\n",
       "16  Covertype  Multivariate   Classification   Categorical, Integer    \n",
       "64        Zoo  Multivariate   Classification   Categorical, Integer    \n",
       "29       Iris  Multivariate   Classification                   Real    \n",
       "20      Ecoli  Multivariate   Classification                   Real    \n",
       "\n",
       "    NumInstances NumAttributes  Year MissingValues  Area       Price  \\\n",
       "16        581012           54   1998            No  Life  381.266667   \n",
       "64           101           17   1990            No  Life  158.533333   \n",
       "29           150            4   1988            No  Life  168.466667   \n",
       "20           336            8   1996            No  Life  194.266667   \n",
       "\n",
       "    TopsisRank  Relevance  \n",
       "16           1      1.549  \n",
       "64          26      1.075  \n",
       "29          28      1.050  \n",
       "20          24      0.993  "
      ]
     },
     "execution_count": 26,
     "metadata": {},
     "output_type": "execute_result"
    }
   ],
   "source": [
    "ism_pareto = ism_selected.iloc[pareto_index].sort_values(by='Relevance', ascending=False)\n",
    "ism_pareto"
   ]
  },
  {
   "cell_type": "markdown",
   "metadata": {},
   "source": [
    "#### Discriminating providers with SOM"
   ]
  },
  {
   "cell_type": "code",
   "execution_count": 27,
   "metadata": {},
   "outputs": [
    {
     "name": "stdout",
     "output_type": "stream",
     "text": [
      "Warning: the binary library cannot be imported. You cannot train maps, but you can load and analyze ones that you have already saved.\n",
      "If you installed Somoclu with pip on Windows, this typically means missing DLLs. Please refer to the documentation.\n"
     ]
    }
   ],
   "source": [
    "import somoclu"
   ]
  },
  {
   "cell_type": "code",
   "execution_count": 28,
   "metadata": {},
   "outputs": [
    {
     "name": "stdout",
     "output_type": "stream",
     "text": [
      "Warning: data was not float32. A 32-bit copy was made\n"
     ]
    },
    {
     "ename": "NameError",
     "evalue": "name 'wrap_train' is not defined",
     "output_type": "error",
     "traceback": [
      "\u001b[1;31m---------------------------------------------------------------------------\u001b[0m",
      "\u001b[1;31mNameError\u001b[0m                                 Traceback (most recent call last)",
      "\u001b[1;32m<timed eval>\u001b[0m in \u001b[0;36m<module>\u001b[1;34m\u001b[0m\n",
      "\u001b[1;32m~\\Python\\lib\\site-packages\\somoclu\\train.py\u001b[0m in \u001b[0;36mtrain\u001b[1;34m(self, data, epochs, radius0, radiusN, radiuscooling, scale0, scaleN, scalecooling)\u001b[0m\n\u001b[0;32m    220\u001b[0m         \u001b[0mself\u001b[0m\u001b[1;33m.\u001b[0m\u001b[0mumatrix\u001b[0m\u001b[1;33m.\u001b[0m\u001b[0mshape\u001b[0m \u001b[1;33m=\u001b[0m \u001b[1;33m(\u001b[0m\u001b[0mself\u001b[0m\u001b[1;33m.\u001b[0m\u001b[0m_n_rows\u001b[0m \u001b[1;33m*\u001b[0m \u001b[0mself\u001b[0m\u001b[1;33m.\u001b[0m\u001b[0m_n_columns\u001b[0m\u001b[1;33m,\u001b[0m \u001b[1;33m)\u001b[0m\u001b[1;33m\u001b[0m\u001b[1;33m\u001b[0m\u001b[0m\n\u001b[0;32m    221\u001b[0m         \u001b[0mself\u001b[0m\u001b[1;33m.\u001b[0m\u001b[0mbmus\u001b[0m\u001b[1;33m.\u001b[0m\u001b[0mshape\u001b[0m \u001b[1;33m=\u001b[0m \u001b[1;33m(\u001b[0m\u001b[0mself\u001b[0m\u001b[1;33m.\u001b[0m\u001b[0mn_vectors\u001b[0m \u001b[1;33m*\u001b[0m \u001b[1;36m2\u001b[0m\u001b[1;33m,\u001b[0m \u001b[1;33m)\u001b[0m\u001b[1;33m\u001b[0m\u001b[1;33m\u001b[0m\u001b[0m\n\u001b[1;32m--> 222\u001b[1;33m         wrap_train(np.ravel(self._data), epochs, self._n_columns, self._n_rows,\n\u001b[0m\u001b[0;32m    223\u001b[0m                    \u001b[0mself\u001b[0m\u001b[1;33m.\u001b[0m\u001b[0mn_dim\u001b[0m\u001b[1;33m,\u001b[0m \u001b[0mself\u001b[0m\u001b[1;33m.\u001b[0m\u001b[0mn_vectors\u001b[0m\u001b[1;33m,\u001b[0m \u001b[0mradius0\u001b[0m\u001b[1;33m,\u001b[0m \u001b[0mradiusN\u001b[0m\u001b[1;33m,\u001b[0m\u001b[1;33m\u001b[0m\u001b[1;33m\u001b[0m\u001b[0m\n\u001b[0;32m    224\u001b[0m                    \u001b[0mradiuscooling\u001b[0m\u001b[1;33m,\u001b[0m \u001b[0mscale0\u001b[0m\u001b[1;33m,\u001b[0m \u001b[0mscaleN\u001b[0m\u001b[1;33m,\u001b[0m \u001b[0mscalecooling\u001b[0m\u001b[1;33m,\u001b[0m\u001b[1;33m\u001b[0m\u001b[1;33m\u001b[0m\u001b[0m\n",
      "\u001b[1;31mNameError\u001b[0m: name 'wrap_train' is not defined"
     ]
    }
   ],
   "source": [
    "data = preprocessed_data.loc[selected_providers.index].copy(deep=True)\n",
    "del data['Name']\n",
    "\n",
    "data = np.apply_along_axis(lambda x: x/np.linalg.norm(x), 1, data)\n",
    "\n",
    "x_size = 8\n",
    "y_size = 4\n",
    "sigma = max(x_size, y_size)*0.2\n",
    "labels = [providers.iloc[i]['Name'] for i in range(providers.shape[0])]\n",
    "\n",
    "som = somoclu.Somoclu(n_columns=x_size, n_rows=y_size, compactsupport=False, initialization='pca')\n",
    "%time som.train(data=data, epochs=1000, radius0=sigma)"
   ]
  },
  {
   "cell_type": "code",
   "execution_count": 29,
   "metadata": {},
   "outputs": [
    {
     "ename": "IndexError",
     "evalue": "too many indices for array",
     "output_type": "error",
     "traceback": [
      "\u001b[1;31m---------------------------------------------------------------------------\u001b[0m",
      "\u001b[1;31mIndexError\u001b[0m                                Traceback (most recent call last)",
      "\u001b[1;32m<ipython-input-29-f5b9d9d2a33b>\u001b[0m in \u001b[0;36m<module>\u001b[1;34m\u001b[0m\n\u001b[1;32m----> 1\u001b[1;33m \u001b[0mfig\u001b[0m \u001b[1;33m=\u001b[0m \u001b[0msom\u001b[0m\u001b[1;33m.\u001b[0m\u001b[0mview_umatrix\u001b[0m\u001b[1;33m(\u001b[0m\u001b[0mbestmatches\u001b[0m\u001b[1;33m=\u001b[0m\u001b[1;32mTrue\u001b[0m\u001b[1;33m,\u001b[0m \u001b[0mlabels\u001b[0m\u001b[1;33m=\u001b[0m\u001b[1;33m[\u001b[0m\u001b[0mselected_providers\u001b[0m\u001b[1;33m.\u001b[0m\u001b[0mloc\u001b[0m\u001b[1;33m[\u001b[0m\u001b[0mi\u001b[0m\u001b[1;33m]\u001b[0m\u001b[1;33m[\u001b[0m\u001b[1;34m'Name'\u001b[0m\u001b[1;33m]\u001b[0m \u001b[1;32mif\u001b[0m \u001b[0mi\u001b[0m \u001b[1;32min\u001b[0m \u001b[0mism_pareto\u001b[0m\u001b[1;33m.\u001b[0m\u001b[0mindex\u001b[0m \u001b[1;32melse\u001b[0m \u001b[1;34m''\u001b[0m \u001b[1;32mfor\u001b[0m \u001b[0mi\u001b[0m \u001b[1;32min\u001b[0m \u001b[0mselected_providers\u001b[0m\u001b[1;33m.\u001b[0m\u001b[0mindex\u001b[0m\u001b[1;33m]\u001b[0m\u001b[1;33m,\u001b[0m \u001b[0mcolorbar\u001b[0m\u001b[1;33m=\u001b[0m\u001b[1;32mTrue\u001b[0m\u001b[1;33m,\u001b[0m \u001b[0mfigsize\u001b[0m\u001b[1;33m=\u001b[0m\u001b[1;33m(\u001b[0m\u001b[0mx_size\u001b[0m\u001b[1;33m*\u001b[0m\u001b[1;36m2\u001b[0m\u001b[1;33m,\u001b[0m \u001b[0my_size\u001b[0m\u001b[1;33m*\u001b[0m\u001b[1;36m2\u001b[0m\u001b[1;33m)\u001b[0m\u001b[1;33m)\u001b[0m\u001b[1;33m\u001b[0m\u001b[1;33m\u001b[0m\u001b[0m\n\u001b[0m",
      "\u001b[1;32m~\\Python\\lib\\site-packages\\somoclu\\train.py\u001b[0m in \u001b[0;36mview_umatrix\u001b[1;34m(self, figsize, colormap, colorbar, bestmatches, bestmatchcolors, labels, zoom, filename)\u001b[0m\n\u001b[0;32m    325\u001b[0m         return self._view_matrix(self.umatrix, figsize, colormap, colorbar,\n\u001b[0;32m    326\u001b[0m                                  \u001b[0mbestmatches\u001b[0m\u001b[1;33m,\u001b[0m \u001b[0mbestmatchcolors\u001b[0m\u001b[1;33m,\u001b[0m \u001b[0mlabels\u001b[0m\u001b[1;33m,\u001b[0m \u001b[0mzoom\u001b[0m\u001b[1;33m,\u001b[0m\u001b[1;33m\u001b[0m\u001b[1;33m\u001b[0m\u001b[0m\n\u001b[1;32m--> 327\u001b[1;33m                                  filename)\n\u001b[0m\u001b[0;32m    328\u001b[0m \u001b[1;33m\u001b[0m\u001b[0m\n\u001b[0;32m    329\u001b[0m     def view_activation_map(self, data_vector=None, data_index=None,\n",
      "\u001b[1;32m~\\Python\\lib\\site-packages\\somoclu\\train.py\u001b[0m in \u001b[0;36m_view_matrix\u001b[1;34m(self, matrix, figsize, colormap, colorbar, bestmatches, bestmatchcolors, labels, zoom, filename)\u001b[0m\n\u001b[0;32m    416\u001b[0m                 \u001b[0mbmu_coords\u001b[0m\u001b[1;33m[\u001b[0m\u001b[0mi\u001b[0m\u001b[1;33m]\u001b[0m \u001b[1;33m=\u001b[0m \u001b[0moffsets\u001b[0m\u001b[1;33m[\u001b[0m\u001b[0mcol\u001b[0m \u001b[1;33m*\u001b[0m \u001b[0mzoom\u001b[0m\u001b[1;33m[\u001b[0m\u001b[1;36m1\u001b[0m\u001b[1;33m]\u001b[0m\u001b[1;33m[\u001b[0m\u001b[1;36m1\u001b[0m\u001b[1;33m]\u001b[0m \u001b[1;33m+\u001b[0m \u001b[0mrow\u001b[0m\u001b[1;33m]\u001b[0m\u001b[1;33m\u001b[0m\u001b[1;33m\u001b[0m\u001b[0m\n\u001b[0;32m    417\u001b[0m         \u001b[1;32melse\u001b[0m\u001b[1;33m:\u001b[0m\u001b[1;33m\u001b[0m\u001b[1;33m\u001b[0m\u001b[0m\n\u001b[1;32m--> 418\u001b[1;33m             plt.imshow(matrix[zoom[0][0]:zoom[0][1], zoom[1][0]:zoom[1][1]],\n\u001b[0m\u001b[0;32m    419\u001b[0m                        aspect='auto', interpolation='bicubic')\n\u001b[0;32m    420\u001b[0m             \u001b[0mplt\u001b[0m\u001b[1;33m.\u001b[0m\u001b[0mset_cmap\u001b[0m\u001b[1;33m(\u001b[0m\u001b[0mcolormap\u001b[0m\u001b[1;33m)\u001b[0m\u001b[1;33m\u001b[0m\u001b[1;33m\u001b[0m\u001b[0m\n",
      "\u001b[1;31mIndexError\u001b[0m: too many indices for array"
     ]
    },
    {
     "data": {
      "text/plain": [
       "<Figure size 1152x576 with 0 Axes>"
      ]
     },
     "metadata": {},
     "output_type": "display_data"
    }
   ],
   "source": [
    "fig = som.view_umatrix(bestmatches=True, labels=[selected_providers.loc[i]['Name'] if i in ism_pareto.index else '' for i in selected_providers.index], colorbar=True, figsize=(x_size*2, y_size*2))"
   ]
  },
  {
   "cell_type": "code",
   "execution_count": null,
   "metadata": {},
   "outputs": [],
   "source": [
    "fig = som.view_umatrix(bestmatches=True, labels=selected_providers.index, colorbar=True, figsize=(x_size*2, y_size*2))"
   ]
  },
  {
   "cell_type": "raw",
   "metadata": {},
   "source": [
    "label_names = labels\n",
    "labels_map = dict()\n",
    "for p in range(len(som.bmus)):\n",
    "    position = tuple(som.bmus[p].tolist())\n",
    "    if not position in labels_map.keys():\n",
    "        labels_map[position] = []\n",
    "    labels_map[position] = labels_map[position] + [labels[p]]"
   ]
  },
  {
   "cell_type": "raw",
   "metadata": {},
   "source": [
    "import matplotlib.pyplot as plt\n",
    "from matplotlib.gridspec import GridSpec\n",
    "\n",
    "plt.figure(figsize=(x_size*1.5, y_size*1.5))\n",
    "plt.set_cmap('Dark2')\n",
    "the_grid = GridSpec(x_size, y_size)\n",
    "for p in som.bmus:\n",
    "    position = tuple(p.tolist())\n",
    "    labels_frac = [int(l in labels_map[position]) for l in labels]\n",
    "    #label_fracs = [labels_map[position][l] for l in label_names]\n",
    "    plt.subplot(the_grid[position[0], position[1]], aspect=1)\n",
    "    patches, texts = plt.pie(label_fracs)\n",
    "plt.legend(patches, label_names, bbox_to_anchor=(5.5, 1.5), ncol=3)\n",
    "#plt.savefig('som_car_pies.png')\n",
    "plt.show()"
   ]
  },
  {
   "cell_type": "code",
   "execution_count": null,
   "metadata": {},
   "outputs": [],
   "source": [
    "def get_neighborhood(centroid_2d_position, step, x_size, y_size):\n",
    "    search_space = [(centroid_2d_position[0], centroid_2d_position[1]),\n",
    "                    (centroid_2d_position[0], centroid_2d_position[1]-step), \n",
    "                    (centroid_2d_position[0]-step, centroid_2d_position[1]-step),\n",
    "                    (centroid_2d_position[0]-step, centroid_2d_position[1]),\n",
    "                    (centroid_2d_position[0]-step, centroid_2d_position[1]+step), \n",
    "                    (centroid_2d_position[0], centroid_2d_position[1]+step),\n",
    "                    (centroid_2d_position[0]+step, centroid_2d_position[1]+step),\n",
    "                    (centroid_2d_position[0]+step, centroid_2d_position[1]),\n",
    "                    (centroid_2d_position[0]+step, centroid_2d_position[1]-step)]\n",
    "\n",
    "    neighborhood = []\n",
    "    for region in search_space:\n",
    "        if region[0] in range(x_size) and region[1] in range(y_size):\n",
    "            neighborhood.append(list(region))\n",
    "\n",
    "    return neighborhood"
   ]
  },
  {
   "cell_type": "code",
   "execution_count": null,
   "metadata": {},
   "outputs": [],
   "source": [
    "similar = {}\n",
    "for j in range(ism_pareto.shape[0]):\n",
    "    similar[ism_pareto.index[j]] = [selected_providers.index[i] for i in range(selected_providers.shape[0]) if som.bmus[i].tolist() in get_neighborhood(som.bmus[j-1], 0, x_size, y_size)]"
   ]
  },
  {
   "cell_type": "code",
   "execution_count": null,
   "metadata": {},
   "outputs": [],
   "source": [
    "ids = set()\n",
    "for k,v in similar.items():\n",
    "    for e in v:\n",
    "        ids.add(e)\n",
    "ids = list(ids)"
   ]
  },
  {
   "cell_type": "code",
   "execution_count": null,
   "metadata": {},
   "outputs": [],
   "source": [
    "providers.loc[[i for i in ids if not i in ism_selected.index]]"
   ]
  },
  {
   "cell_type": "code",
   "execution_count": null,
   "metadata": {},
   "outputs": [],
   "source": [
    "similar"
   ]
  },
  {
   "cell_type": "code",
   "execution_count": null,
   "metadata": {},
   "outputs": [],
   "source": [
    "export_to_latex(selected_providers.loc[similar[20]], relevance=True)"
   ]
  },
  {
   "cell_type": "code",
   "execution_count": null,
   "metadata": {},
   "outputs": [],
   "source": [
    "x = []\n",
    "for v in similar.values():\n",
    "    x.extend(v)\n",
    "\n",
    "export_to_latex(selected_providers.loc[x], relevance=True)"
   ]
  },
  {
   "cell_type": "code",
   "execution_count": null,
   "metadata": {},
   "outputs": [],
   "source": []
  },
  {
   "cell_type": "markdown",
   "metadata": {},
   "source": [
    "### Collaborative Preferences"
   ]
  },
  {
   "cell_type": "code",
   "execution_count": null,
   "metadata": {},
   "outputs": [],
   "source": [
    "from decision.clause import *\n",
    "from decision.criterion import Criterion\n",
    "from decision.somselector import SomSelector\n",
    "from sada.decisionsada import DecisionSADA\n",
    "from datamanagement.dataaccessobject import Dataset"
   ]
  },
  {
   "cell_type": "code",
   "execution_count": null,
   "metadata": {},
   "outputs": [],
   "source": [
    "dataset = Dataset(selected_providers, preprocessed_data.loc[selected_providers.index])"
   ]
  },
  {
   "cell_type": "code",
   "execution_count": null,
   "metadata": {},
   "outputs": [],
   "source": [
    "sada = DecisionSADA(dataset)"
   ]
  },
  {
   "cell_type": "code",
   "execution_count": null,
   "metadata": {},
   "outputs": [],
   "source": [
    "def print_preferences(preferences):\n",
    "    for pref in preferences:\n",
    "        print(pref.to_string())\n",
    "\n",
    "class DecisionEntry(object):\n",
    "    def __init__(self, preferences, criteria, optimal_candidates, success):\n",
    "        self.preferences = preferences\n",
    "        self.criteria = criteria\n",
    "        self.optimal_candidates = optimal_candidates\n",
    "        self.success = success"
   ]
  },
  {
   "cell_type": "code",
   "execution_count": null,
   "metadata": {},
   "outputs": [],
   "source": [
    "ism_pareto"
   ]
  },
  {
   "cell_type": "code",
   "execution_count": null,
   "metadata": {},
   "outputs": [],
   "source": [
    "def build_historical_data(sada):\n",
    "    b_1 = DecisionEntry(preferences = [DiadicClause('Volkswagen', Operation.EQUALS, 1), DiadicClause('mpg', Operation.GREATER_THAN_EQUALS, 0.098)],\n",
    "                        criteria = [Criterion('price', maximize=False, weight=0.6), Criterion('mpg', maximize=True, weight=0.4)],\n",
    "                        optimal_candidates = None, success = True)\n",
    "    \n",
    "    b_2 = DecisionEntry(preferences = [DiadicClause('price', Operation.LESS_THAN_EQUALS, 0.231193), DiadicClause('Sporty', Operation.EQUALS, 1), DiadicClause('Origin', Operation.EQUALS, 0)],\n",
    "                        criteria = [Criterion('price', maximize=False, weight=0.6), Criterion('horsepower', maximize=True, weight=0.4)],\n",
    "                        optimal_candidates = None, success = True)\n",
    "\n",
    "    b_3 = DecisionEntry(preferences = [DiadicClause('driver_passenger', Operation.EQUALS, 1), DiadicClause('Front', Operation.EQUALS, 1)],\n",
    "                        criteria = [Criterion('price', maximize=False, weight=0.6), Criterion('passenger_capacity', maximize=True, weight=0.4)],\n",
    "                        optimal_candidates = None, success = 0)\n",
    "\n",
    "    b_4 = DecisionEntry(preferences = [DiadicClause('price', Operation.LESS_THAN_EQUALS, 0.01), DiadicClause('Small', Operation.EQUALS, 1)],\n",
    "                        criteria = [Criterion('price', maximize=False, weight=0.6), Criterion('mpg', maximize=True, weight=0.4)],\n",
    "                        optimal_candidates = None, success = 0)\n",
    "\n",
    "    b_5 = DecisionEntry(preferences = [DiadicClause('price', Operation.LESS_THAN_EQUALS, 0.03), DiadicClause('Small', Operation.EQUALS, 1)],\n",
    "                        criteria = [Criterion('length', maximize=False, weight=0.6), Criterion('mpg', maximize=True, weight=0.4)],\n",
    "                        optimal_candidates = None, success = 1)\n",
    "\n",
    "    b_6 = DecisionEntry(preferences = [DiadicClause('Rear', Operation.EQUALS, 1), DiadicClause('Sporty', Operation.EQUALS, 1), DiadicClause('passenger_capacity', Operation.EQUALS, 0)],\n",
    "                        criteria = [Criterion('RPM', maximize=True, weight=0.6), Criterion('horsepower', maximize=True, weight=0.4)],\n",
    "                        optimal_candidates = None, success = 1)\n",
    "\n",
    "    b_7 = DecisionEntry(preferences = [DiadicClause('Compact', Operation.EQUALS, 1), DiadicClause('passenger_capacity', Operation.GREATER_THAN_EQUALS, 0.5), DiadicClause('Rear', Operation.EQUALS, 1)],\n",
    "                        criteria = [Criterion('mpg', maximize=True, weight=0.6), Criterion('price', maximize=False, weight=0.4)],\n",
    "                        optimal_candidates = None, success = 0)\n",
    "\n",
    "    b_8 = DecisionEntry(preferences = [DiadicClause('luggage_capacity', Operation.GREATER_THAN_EQUALS, 0.875)],\n",
    "                        criteria = [Criterion('mpg', maximize=True, weight=0.6), Criterion('fuel_tank_capacity', maximize=True, weight=0.4)],\n",
    "                        optimal_candidates = None, success = 1)\n",
    "    \n",
    "    previous_decisions = [b_1, b_2, b_3, b_4, b_5, b_6, b_7, b_8]\n",
    "    \n",
    "    for b in previous_decisions:\n",
    "        selected, optimal = sada.get_recommendations(b.preferences, b.criteria)\n",
    "        b.optimal_candidates = optimal\n",
    "    \n",
    "    return previous_decisions"
   ]
  }
 ],
 "metadata": {
  "kernelspec": {
   "display_name": "Python 3",
   "language": "python",
   "name": "python3"
  },
  "language_info": {
   "codemirror_mode": {
    "name": "ipython",
    "version": 3
   },
   "file_extension": ".py",
   "mimetype": "text/x-python",
   "name": "python",
   "nbconvert_exporter": "python",
   "pygments_lexer": "ipython3",
   "version": "3.7.3"
  }
 },
 "nbformat": 4,
 "nbformat_minor": 4
}
