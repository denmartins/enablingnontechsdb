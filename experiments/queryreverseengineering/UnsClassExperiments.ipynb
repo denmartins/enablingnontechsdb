{
 "cells": [
  {
   "cell_type": "code",
   "execution_count": 101,
   "metadata": {},
   "outputs": [],
   "source": [
    "import pandas as pd\n",
    "import numpy as np\n",
    "import os\n",
    "import random\n",
    "import math\n",
    "\n",
    "from sklearn.model_selection import train_test_split\n",
    "from sklearn.metrics import precision_recall_fscore_support\n",
    "from sklearn.tree import DecisionTreeClassifier\n",
    "\n",
    "import matplotlib.pyplot as plt\n",
    "\n",
    "from minisom import MiniSom\n",
    "from gpdeap import GeneticProgrammingQBE"
   ]
  },
  {
   "cell_type": "code",
   "execution_count": 102,
   "metadata": {},
   "outputs": [],
   "source": [
    "original_data = pd.read_pickle(os.path.join('../datasets', 'car_original_dataset.pkl'))\n",
    "original_data.columns = [str.lower(col.replace('.', '_')) for col in original_data.columns]\n",
    "original_data['origin'] = original_data['origin'].map({0: False, 1: True})\n",
    "original_data['automatic_gearbox'] = original_data['automatic_gearbox'].map({0: False, 1: True})\n",
    "\n",
    "preprocessed_data = pd.read_pickle('..//datasets//1993CarsPrep.pkl')\n",
    "queries = [\"type == 'Sporty' and origin == 0\", \n",
    "    \"type != 'Sporty' and origin == 1\",\n",
    "    \"automatic_gearbox == 1 and horsepower >= 150\",\n",
    "    \"luggage_capacity >= 18 and passenger_capacity > 5\",\n",
    "    \"price <= 7000 and mpg >= 26 and automatic_gearbox == 0\",\n",
    "    \"manufacturer == 'Ford' or manufacturer == 'Chevrolet'\"]"
   ]
  },
  {
   "cell_type": "code",
   "execution_count": 105,
   "metadata": {},
   "outputs": [],
   "source": [
    "original_data = pd.read_pickle(os.path.join('../datasets', 'abalone_original.pkl'))\n",
    "preprocessed_data = pd.read_pickle(os.path.join('../datasets', 'abalone.pkl'))"
   ]
  },
  {
   "cell_type": "code",
   "execution_count": 106,
   "metadata": {},
   "outputs": [],
   "source": [
    "queries = ['height > 0.13 and rings >= 9', 'sex == \"I\" and diameter > 0.45 and length <= 0.53', 'rings > 9 or rings <= 7 and sex ==\"F\" and shuckedweight <= 0.08']"
   ]
  },
  {
   "cell_type": "code",
   "execution_count": 113,
   "metadata": {},
   "outputs": [],
   "source": [
    "data = preprocessed_data.values\n",
    "concept = original_data.query(queries[2]).index.to_list()\n",
    "labels = np.array([int(x in concept) for x in range(1, data.shape[0]+1)])\n",
    "\n",
    "X_train, X_test, y_train, y_test = train_test_split(data, labels, test_size=0.2, stratify=labels)"
   ]
  },
  {
   "cell_type": "code",
   "execution_count": 114,
   "metadata": {},
   "outputs": [
    {
     "data": {
      "text/plain": [
       "(0.6982968369829684, 0.6866028708133971, 0.6924004825090471)"
      ]
     },
     "execution_count": 114,
     "metadata": {},
     "output_type": "execute_result"
    }
   ],
   "source": [
    "dt = DecisionTreeClassifier()\n",
    "dt.fit(X_train, y_train)\n",
    "predicted = dt.predict(X_test)\n",
    "precision_recall_fscore_support(y_test, predicted, average='binary')[:3]"
   ]
  },
  {
   "cell_type": "code",
   "execution_count": 115,
   "metadata": {},
   "outputs": [],
   "source": [
    "gp = GeneticProgrammingQBE(preprocessed_data)"
   ]
  },
  {
   "cell_type": "code",
   "execution_count": null,
   "metadata": {},
   "outputs": [
    {
     "name": "stderr",
     "output_type": "stream",
     "text": [
      "C:\\Users\\d_mart04\\Python\\lib\\site-packages\\sklearn\\metrics\\classification.py:1143: UndefinedMetricWarning: Precision and F-score are ill-defined and being set to 0.0 due to no predicted samples.\n",
      "  'precision', 'predicted', average, warn_for)\n"
     ]
    },
    {
     "name": "stdout",
     "output_type": "stream",
     "text": [
      "   \t      \t              fitness              \t        size       \n",
      "   \t      \t-----------------------------------\t-------------------\n",
      "gen\tnevals\tavg     \tmax     \tmin\tavg    \tmax\tmin\n",
      "0  \t300   \t0.226581\t0.713174\t0  \t6.10667\t33 \t3  \n",
      "1  \t258   \t0.417365\t0.706498\t0  \t6.18   \t19 \t3  \n",
      "2  \t244   \t0.514645\t0.706498\t0  \t6.55   \t29 \t3  \n",
      "3  \t252   \t0.56591 \t0.706498\t0  \t7.03667\t23 \t3  \n",
      "4  \t263   \t0.537681\t0.706498\t0  \t7.66667\t25 \t3  \n",
      "5  \t264   \t0.546309\t0.706498\t0  \t7.58   \t32 \t3  \n",
      "6  \t253   \t0.550786\t0.706498\t0  \t7.28667\t22 \t3  \n",
      "7  \t250   \t0.58137 \t0.699259\t0  \t7.3    \t21 \t3  \n",
      "8  \t245   \t0.571007\t0.707363\t0  \t7.49   \t24 \t3  \n",
      "9  \t258   \t0.583479\t0.707363\t0  \t7.43667\t23 \t3  \n",
      "10 \t268   \t0.577776\t0.707363\t0  \t7.92667\t27 \t3  \n",
      "11 \t229   \t0.598824\t0.707363\t0  \t8.32333\t27 \t3  \n",
      "12 \t251   \t0.591557\t0.707363\t0  \t8.85667\t28 \t3  \n",
      "13 \t242   \t0.579827\t0.707363\t0  \t9.55667\t23 \t3  \n",
      "14 \t261   \t0.585893\t0.707363\t0  \t10.45  \t39 \t3  \n",
      "15 \t264   \t0.594077\t0.703554\t0  \t11.44  \t31 \t4  \n",
      "16 \t250   \t0.603835\t0.703554\t0  \t13.8533\t31 \t4  \n",
      "17 \t251   \t0.583864\t0.703554\t0  \t14.9767\t35 \t4  \n",
      "18 \t249   \t0.608675\t0.703889\t0  \t17.6967\t44 \t4  \n",
      "19 \t246   \t0.601992\t0.706567\t0  \t20.26  \t44 \t4  \n",
      "20 \t254   \t0.611616\t0.703721\t0  \t22.7467\t53 \t3  \n",
      "21 \t248   \t0.587615\t0.707153\t0  \t23.8   \t53 \t3  \n",
      "22 \t244   \t0.626965\t0.707153\t0  \t24.37  \t52 \t3  \n",
      "23 \t255   \t0.630175\t0.707153\t0  \t27.04  \t58 \t5  \n",
      "24 \t247   \t0.63911 \t0.707182\t0  \t28.7667\t61 \t3  \n",
      "25 \t253   \t0.613382\t0.707182\t0  \t31.08  \t61 \t5  \n",
      "26 \t251   \t0.597903\t0.707323\t0  \t33.4933\t58 \t3  \n",
      "27 \t236   \t0.592269\t0.707182\t0  \t35.7567\t63 \t5  \n",
      "28 \t252   \t0.6114  \t0.707182\t0  \t36.7767\t63 \t7  \n",
      "29 \t255   \t0.5863  \t0.707323\t0  \t38.13  \t67 \t3  \n",
      "30 \t252   \t0.582994\t0.707323\t0  \t39.7933\t66 \t5  \n",
      "31 \t267   \t0.612518\t0.707323\t0  \t40.2667\t76 \t5  \n",
      "32 \t241   \t0.590441\t0.707323\t0  \t41.1267\t79 \t5  \n",
      "33 \t259   \t0.561586\t0.736451\t0  \t42.2833\t79 \t3  \n",
      "34 \t251   \t0.614714\t0.733867\t0  \t42.2767\t79 \t11 \n",
      "35 \t254   \t0.574111\t0.733867\t0  \t44.2733\t81 \t3  \n",
      "36 \t256   \t0.58877 \t0.734062\t0  \t45.76  \t80 \t5  \n",
      "37 \t251   \t0.595938\t0.734062\t0  \t46.5867\t80 \t3  \n",
      "38 \t239   \t0.603277\t0.735779\t0  \t47.68  \t81 \t7  \n",
      "39 \t257   \t0.584571\t0.74723 \t0  \t49.04  \t76 \t8  \n",
      "40 \t256   \t0.579616\t0.736451\t0  \t48.5167\t78 \t7  \n",
      "41 \t261   \t0.60636 \t0.747615\t0  \t45.8967\t81 \t5  \n",
      "42 \t262   \t0.609022\t0.747615\t0  \t44.1967\t76 \t9  \n",
      "43 \t255   \t0.618097\t0.747615\t0  \t43.2433\t85 \t9  \n",
      "44 \t258   \t0.605914\t0.747934\t0  \t38.9933\t76 \t9  \n",
      "45 \t256   \t0.609249\t0.747934\t0  \t35.6867\t84 \t7  \n",
      "46 \t244   \t0.611225\t0.747934\t0  \t33.7367\t83 \t5  \n",
      "47 \t246   \t0.640888\t0.747934\t0  \t31.7033\t77 \t5  \n",
      "48 \t253   \t0.655807\t0.747934\t0  \t32.28  \t79 \t5  \n",
      "49 \t253   \t0.62512 \t0.747934\t0  \t33.8467\t79 \t9  \n",
      "50 \t256   \t0.622781\t0.748127\t0  \t34.0233\t92 \t7  \n",
      "51 \t252   \t0.663051\t0.748127\t0  \t35.17  \t92 \t8  \n",
      "52 \t260   \t0.637218\t0.74832 \t0  \t38.0433\t92 \t10 \n",
      "53 \t240   \t0.622382\t0.74832 \t0  \t39.4667\t92 \t10 \n",
      "54 \t247   \t0.659663\t0.74832 \t0  \t40.9   \t93 \t7  \n",
      "55 \t243   \t0.641296\t0.74832 \t0  \t43.4067\t100\t3  \n",
      "56 \t252   \t0.640658\t0.74832 \t0  \t45.8533\t91 \t3  \n",
      "57 \t267   \t0.647709\t0.74832 \t0  \t47.69  \t84 \t5  \n",
      "58 \t240   \t0.648622\t0.74832 \t0  \t47.05  \t84 \t3  \n",
      "59 \t246   \t0.644657\t0.74832 \t0  \t46.7933\t79 \t5  \n",
      "60 \t244   \t0.647356\t0.74832 \t0  \t48.06  \t80 \t13 \n",
      "61 \t260   \t0.648791\t0.74832 \t0  \t49.2767\t88 \t12 \n",
      "62 \t258   \t0.65511 \t0.74832 \t0  \t51.59  \t95 \t3  \n",
      "63 \t246   \t0.639499\t0.74832 \t0  \t54.9233\t101\t9  \n",
      "64 \t252   \t0.647289\t0.74832 \t0  \t55.9233\t105\t11 \n",
      "65 \t267   \t0.649571\t0.74832 \t0  \t56.9367\t105\t3  \n",
      "66 \t259   \t0.652099\t0.74832 \t0  \t57.46  \t105\t14 \n",
      "67 \t248   \t0.65569 \t0.74832 \t0  \t58.1833\t109\t7  \n",
      "68 \t267   \t0.632815\t0.74832 \t0  \t60.18  \t98 \t9  \n",
      "69 \t246   \t0.644837\t0.74832 \t0  \t62.2633\t100\t14 \n",
      "70 \t242   \t0.645549\t0.74832 \t0  \t67.2367\t111\t11 \n"
     ]
    }
   ],
   "source": [
    "gp.simple_search(population_size=300, crossover_rate=0.8, mutation_rate=0.2, num_generations=100, X_train=X_train, y_train=y_train, verbose=True)\n",
    "predicted = gp.predict(X_test)"
   ]
  },
  {
   "cell_type": "code",
   "execution_count": null,
   "metadata": {},
   "outputs": [],
   "source": [
    "predicted = gp.predict(X_test)"
   ]
  },
  {
   "cell_type": "code",
   "execution_count": null,
   "metadata": {},
   "outputs": [],
   "source": [
    "precision_recall_fscore_support(y_test, predicted, average='binary')[:3]"
   ]
  },
  {
   "cell_type": "code",
   "execution_count": 9,
   "metadata": {},
   "outputs": [
    {
     "name": "stdout",
     "output_type": "stream",
     "text": [
      "Training...\n",
      " [ 48258 / 48258 ] 100% - 669.14 it/s - 0:00:00 left  - quantization error: 0.3466223518554049\n",
      "\n",
      "...ready!\n"
     ]
    }
   ],
   "source": [
    "# Initialization and training\n",
    "som = MiniSom(28, 28, X_train.shape[1], sigma=3, learning_rate=0.5, neighborhood_function='gaussian')\n",
    "\n",
    "som.pca_weights_init(X_train)\n",
    "print(\"Training...\")\n",
    "som.train_batch(data, 2*len(X_train), verbose=True)  # random training\n",
    "print(\"\\n...ready!\")"
   ]
  },
  {
   "cell_type": "code",
   "execution_count": 10,
   "metadata": {},
   "outputs": [
    {
     "name": "stdout",
     "output_type": "stream",
     "text": [
      "24129\n",
      "72\n"
     ]
    }
   ],
   "source": [
    "print(len(y_train))\n",
    "print(sum(y_train))"
   ]
  },
  {
   "cell_type": "code",
   "execution_count": 12,
   "metadata": {},
   "outputs": [
    {
     "name": "stderr",
     "output_type": "stream",
     "text": [
      "C:\\Users\\d_mart04\\Python\\lib\\site-packages\\sklearn\\metrics\\classification.py:1143: UndefinedMetricWarning: Precision and F-score are ill-defined and being set to 0.0 due to no predicted samples.\n",
      "  'precision', 'predicted', average, warn_for)\n"
     ]
    },
    {
     "data": {
      "text/plain": [
       "(0.0, 0.0, 0.0)"
      ]
     },
     "execution_count": 12,
     "metadata": {},
     "output_type": "execute_result"
    }
   ],
   "source": [
    "def classify(som, data, class_assignments):\n",
    "    \"\"\"Classifies each sample in data in one of the classes definited\n",
    "    using the method labels_map.\n",
    "    Returns a list of the same length of data where the i-th element\n",
    "    is the class assigned to data[i].\n",
    "    \"\"\"\n",
    "    winmap = class_assignments\n",
    "    default_class = np.sum(list(winmap.values())).most_common()[0][0]\n",
    "    result = []\n",
    "    for d in data:\n",
    "        win_position = som.winner(d)\n",
    "        if win_position in winmap:\n",
    "            result.append(winmap[win_position].most_common()[0][0])\n",
    "        else:\n",
    "            result.append(default_class)\n",
    "    return result\n",
    "\n",
    "class_assignments = som.labels_map(X_train, y_train)\n",
    "predicted = classify(som, X_test, class_assignments)\n",
    "precision_recall_fscore_support(y_test, predicted, average='binary')[:3]"
   ]
  },
  {
   "cell_type": "code",
   "execution_count": 21,
   "metadata": {},
   "outputs": [],
   "source": [
    "from sklearn.utils import resample\n",
    "X = pd\n",
    "labels = np.array(labels)\n",
    "pos = data[labels == 1]\n",
    "unl = data[labels == 0]"
   ]
  },
  {
   "cell_type": "code",
   "execution_count": 23,
   "metadata": {},
   "outputs": [],
   "source": [
    "res = resample(pos,\n",
    "    replace=True, # sample with replacement\n",
    "    n_samples=len(unl), # match number in majority class\n",
    "    random_state=27) # reproducible results"
   ]
  },
  {
   "cell_type": "code",
   "execution_count": 27,
   "metadata": {},
   "outputs": [
    {
     "data": {
      "text/plain": [
       "array([[0.09589041, 0.33333333, 0.18063532, ..., 0.        , 0.47959184,\n",
       "        0.95      ],\n",
       "       [0.02739726, 0.33333333, 0.16916576, ..., 0.        , 0.13265306,\n",
       "        0.95      ],\n",
       "       [0.16438356, 0.83333333, 0.23272257, ..., 0.        , 0.39795918,\n",
       "        0.95      ],\n",
       "       ...,\n",
       "       [0.31506849, 0.66666667, 0.01328474, ..., 0.53696051, 0.34693878,\n",
       "        0.95      ],\n",
       "       [0.43835616, 0.33333333, 0.03577042, ..., 0.        , 0.39795918,\n",
       "        0.95      ],\n",
       "       [0.46575342, 0.33333333, 0.01826864, ..., 0.        , 0.60204082,\n",
       "        0.95      ]])"
      ]
     },
     "execution_count": 27,
     "metadata": {},
     "output_type": "execute_result"
    }
   ],
   "source": []
  },
  {
   "cell_type": "code",
   "execution_count": null,
   "metadata": {},
   "outputs": [],
   "source": []
  }
 ],
 "metadata": {
  "kernelspec": {
   "display_name": "Python 3",
   "language": "python",
   "name": "python3"
  },
  "language_info": {
   "codemirror_mode": {
    "name": "ipython",
    "version": 3
   },
   "file_extension": ".py",
   "mimetype": "text/x-python",
   "name": "python",
   "nbconvert_exporter": "python",
   "pygments_lexer": "ipython3",
   "version": "3.7.3"
  }
 },
 "nbformat": 4,
 "nbformat_minor": 2
}
