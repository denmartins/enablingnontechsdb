{
 "cells": [
  {
   "cell_type": "markdown",
   "metadata": {},
   "source": [
    "# Learning database queries via intelligent semiotic machines\n",
    "\n",
    "Publication information: Martins, D. M. L., Vossen, G., & de Lima Neto, F. B. (2017, November). Learning database queries via intelligent semiotic machines. In 2017 IEEE Latin American Conference on Computational Intelligence (LA-CCI) (pp. 1-6). IEEE.\n",
    "\n",
    "URL: https://ieeexplore.ieee.org/document/8285698\n",
    "\n",
    "Publication's BibTeX:"
   ]
  },
  {
   "cell_type": "raw",
   "metadata": {},
   "source": [
    "@INPROCEEDINGS{8285698,\n",
    "    author={D. M. L. {Martins} and G. {Vossen} and F. B. {de Lima Neto}},\n",
    "    booktitle={2017 IEEE Latin American Conference on Computational Intelligence (LA-CCI)},\n",
    "    title={Learning database queries via intelligent semiotic machines},\n",
    "    year={2017},\n",
    "    volume={},\n",
    "    number={},\n",
    "    pages={1-6},\n",
    "    keywords={Big Data;database management systems;information retrieval;learning (artificial intelligence);query languages;query processing;relational databases;SQL;SQL queries;database-specific knowledge;query language;database schema;intelligent semiotic machines;Big Data era;data-driven approaches;query criteria;hard constraints;information overload;Semiotics;Computational Intelligence techniques;tailored queries;data exploration;database search;data retrieval;database queries learning;information finding;Databases;Semiotics;Automobiles;Self-organizing feature maps;Neurons;Training;Electronic mail},\n",
    "    doi={10.1109/LA-CCI.2017.8285698},\n",
    "    ISSN={null},\n",
    "    month={Nov},\n",
    "}"
   ]
  },
  {
   "cell_type": "markdown",
   "metadata": {},
   "source": [
    "### Configuring notebook"
   ]
  },
  {
   "cell_type": "code",
   "execution_count": 2,
   "metadata": {},
   "outputs": [
    {
     "name": "stdout",
     "output_type": "stream",
     "text": [
      "C:\\Users\\d_mart04\\Documents\\CodeRepositoryGit\\enablingnontechsdb\\experiments\n"
     ]
    }
   ],
   "source": [
    "cd .."
   ]
  },
  {
   "cell_type": "code",
   "execution_count": 3,
   "metadata": {},
   "outputs": [
    {
     "name": "stdout",
     "output_type": "stream",
     "text": [
      "C:\\Users\\d_mart04\\Documents\\CodeRepositoryGit\\enablingnontechsdb\n"
     ]
    }
   ],
   "source": [
    "cd .."
   ]
  },
  {
   "cell_type": "code",
   "execution_count": 4,
   "metadata": {
    "collapsed": true
   },
   "outputs": [],
   "source": [
    "import sys, os\n",
    "sys.path.append('..\\\\sada')\n",
    "sys.path.append('..\\\\decision')\n",
    "sys.path.append('..\\\\qbe')"
   ]
  },
  {
   "cell_type": "code",
   "execution_count": 5,
   "metadata": {},
   "outputs": [],
   "source": [
    "from datamanagement.dataaccessobject import DataAccessObject, Dataset\n",
    "from decision.somselector import SomSelector\n",
    "from qbe.treeqbe import DecisionTreeQBE\n",
    "from sada.decisionsada import DecisionSADA\n",
    "from qbe import util\n",
    "import pandas as pd, pandasql as pdsql"
   ]
  },
  {
   "cell_type": "code",
   "execution_count": 6,
   "metadata": {},
   "outputs": [],
   "source": [
    "from sklearn.model_selection import train_test_split\n",
    "from sklearn.metrics import classification_report\n",
    "from sklearn.metrics import precision_recall_fscore_support"
   ]
  },
  {
   "cell_type": "markdown",
   "metadata": {},
   "source": [
    "### Loading car dataset"
   ]
  },
  {
   "cell_type": "code",
   "execution_count": 7,
   "metadata": {
    "collapsed": true
   },
   "outputs": [
    {
     "name": "stderr",
     "output_type": "stream",
     "text": [
      "C:\\Users\\d_mart04\\Documents\\CodeRepositoryGit\\enablingnontechsdb\\datamanagement\\dataaccessobject.py:11: FutureWarning: Method .as_matrix will be removed in a future version. Use .values instead.\n",
      "  self.data_matrix = preprocessed_data.as_matrix()\n"
     ]
    }
   ],
   "source": [
    "DAO = DataAccessObject()\n",
    "dataset = DAO.get_car_dataset()"
   ]
  },
  {
   "cell_type": "markdown",
   "metadata": {},
   "source": [
    "### Configuring SADA"
   ]
  },
  {
   "cell_type": "code",
   "execution_count": 8,
   "metadata": {},
   "outputs": [],
   "source": [
    "sada = DecisionSADA(dataset, selector=SomSelector(som_size=(10,10), num_iterations=1000))"
   ]
  },
  {
   "cell_type": "markdown",
   "metadata": {},
   "source": [
    "### Car dataset"
   ]
  },
  {
   "cell_type": "code",
   "execution_count": 9,
   "metadata": {
    "scrolled": true
   },
   "outputs": [
    {
     "data": {
      "text/html": [
       "<div>\n",
       "<style scoped>\n",
       "    .dataframe tbody tr th:only-of-type {\n",
       "        vertical-align: middle;\n",
       "    }\n",
       "\n",
       "    .dataframe tbody tr th {\n",
       "        vertical-align: top;\n",
       "    }\n",
       "\n",
       "    .dataframe thead th {\n",
       "        text-align: right;\n",
       "    }\n",
       "</style>\n",
       "<table border=\"1\" class=\"dataframe\">\n",
       "  <thead>\n",
       "    <tr style=\"text-align: right;\">\n",
       "      <th></th>\n",
       "      <th>make</th>\n",
       "      <th>manufacturer</th>\n",
       "      <th>type</th>\n",
       "      <th>price</th>\n",
       "      <th>mpg</th>\n",
       "      <th>num_of_cylinders</th>\n",
       "      <th>horsepower</th>\n",
       "      <th>fuel_tank_capacity</th>\n",
       "      <th>RPM</th>\n",
       "      <th>Wheelbase</th>\n",
       "      <th>...</th>\n",
       "      <th>Weight</th>\n",
       "      <th>automatic_gearbox</th>\n",
       "      <th>passenger_capacity</th>\n",
       "      <th>length</th>\n",
       "      <th>width</th>\n",
       "      <th>luggage_capacity</th>\n",
       "      <th>AirBags</th>\n",
       "      <th>DriveTrain</th>\n",
       "      <th>Origin</th>\n",
       "      <th>imagepath</th>\n",
       "    </tr>\n",
       "  </thead>\n",
       "  <tbody>\n",
       "    <tr>\n",
       "      <th>1</th>\n",
       "      <td>Acura Integra</td>\n",
       "      <td>Acura</td>\n",
       "      <td>Small</td>\n",
       "      <td>7950.0</td>\n",
       "      <td>28.0</td>\n",
       "      <td>4</td>\n",
       "      <td>140</td>\n",
       "      <td>13.2</td>\n",
       "      <td>6300</td>\n",
       "      <td>102</td>\n",
       "      <td>...</td>\n",
       "      <td>2705</td>\n",
       "      <td>0</td>\n",
       "      <td>5</td>\n",
       "      <td>177</td>\n",
       "      <td>68</td>\n",
       "      <td>11.0</td>\n",
       "      <td>None</td>\n",
       "      <td>Front</td>\n",
       "      <td>1</td>\n",
       "      <td>01acura_integra.jpg</td>\n",
       "    </tr>\n",
       "    <tr>\n",
       "      <th>2</th>\n",
       "      <td>Acura Legend</td>\n",
       "      <td>Acura</td>\n",
       "      <td>Midsize</td>\n",
       "      <td>16950.0</td>\n",
       "      <td>21.5</td>\n",
       "      <td>6</td>\n",
       "      <td>200</td>\n",
       "      <td>18.0</td>\n",
       "      <td>5500</td>\n",
       "      <td>115</td>\n",
       "      <td>...</td>\n",
       "      <td>3560</td>\n",
       "      <td>0</td>\n",
       "      <td>5</td>\n",
       "      <td>195</td>\n",
       "      <td>71</td>\n",
       "      <td>15.0</td>\n",
       "      <td>DriverAndPassenger</td>\n",
       "      <td>Front</td>\n",
       "      <td>1</td>\n",
       "      <td>02Acura_Legend.jpg</td>\n",
       "    </tr>\n",
       "    <tr>\n",
       "      <th>3</th>\n",
       "      <td>Audi 90</td>\n",
       "      <td>Audi</td>\n",
       "      <td>Compact</td>\n",
       "      <td>14550.0</td>\n",
       "      <td>23.0</td>\n",
       "      <td>6</td>\n",
       "      <td>172</td>\n",
       "      <td>16.9</td>\n",
       "      <td>5500</td>\n",
       "      <td>102</td>\n",
       "      <td>...</td>\n",
       "      <td>3375</td>\n",
       "      <td>0</td>\n",
       "      <td>5</td>\n",
       "      <td>180</td>\n",
       "      <td>67</td>\n",
       "      <td>14.0</td>\n",
       "      <td>DriverOnly</td>\n",
       "      <td>Front</td>\n",
       "      <td>1</td>\n",
       "      <td>03audi_100.jpg</td>\n",
       "    </tr>\n",
       "    <tr>\n",
       "      <th>4</th>\n",
       "      <td>Audi 100</td>\n",
       "      <td>Audi</td>\n",
       "      <td>Midsize</td>\n",
       "      <td>18850.0</td>\n",
       "      <td>22.5</td>\n",
       "      <td>6</td>\n",
       "      <td>172</td>\n",
       "      <td>21.1</td>\n",
       "      <td>5500</td>\n",
       "      <td>106</td>\n",
       "      <td>...</td>\n",
       "      <td>3405</td>\n",
       "      <td>0</td>\n",
       "      <td>6</td>\n",
       "      <td>193</td>\n",
       "      <td>70</td>\n",
       "      <td>17.0</td>\n",
       "      <td>DriverAndPassenger</td>\n",
       "      <td>Front</td>\n",
       "      <td>1</td>\n",
       "      <td>04audi_90.jpg</td>\n",
       "    </tr>\n",
       "    <tr>\n",
       "      <th>5</th>\n",
       "      <td>BMW 535i</td>\n",
       "      <td>BMW</td>\n",
       "      <td>Midsize</td>\n",
       "      <td>15000.0</td>\n",
       "      <td>26.0</td>\n",
       "      <td>4</td>\n",
       "      <td>208</td>\n",
       "      <td>21.1</td>\n",
       "      <td>5700</td>\n",
       "      <td>109</td>\n",
       "      <td>...</td>\n",
       "      <td>3640</td>\n",
       "      <td>0</td>\n",
       "      <td>4</td>\n",
       "      <td>186</td>\n",
       "      <td>69</td>\n",
       "      <td>13.0</td>\n",
       "      <td>DriverOnly</td>\n",
       "      <td>Rear</td>\n",
       "      <td>1</td>\n",
       "      <td>05bmw_535i.jpg</td>\n",
       "    </tr>\n",
       "  </tbody>\n",
       "</table>\n",
       "<p>5 rows × 21 columns</p>\n",
       "</div>"
      ],
      "text/plain": [
       "            make manufacturer     type    price   mpg  num_of_cylinders  \\\n",
       "1  Acura Integra        Acura    Small   7950.0  28.0                 4   \n",
       "2   Acura Legend        Acura  Midsize  16950.0  21.5                 6   \n",
       "3        Audi 90         Audi  Compact  14550.0  23.0                 6   \n",
       "4       Audi 100         Audi  Midsize  18850.0  22.5                 6   \n",
       "5       BMW 535i          BMW  Midsize  15000.0  26.0                 4   \n",
       "\n",
       "   horsepower  fuel_tank_capacity   RPM  Wheelbase  ...  Weight  \\\n",
       "1         140                13.2  6300        102  ...    2705   \n",
       "2         200                18.0  5500        115  ...    3560   \n",
       "3         172                16.9  5500        102  ...    3375   \n",
       "4         172                21.1  5500        106  ...    3405   \n",
       "5         208                21.1  5700        109  ...    3640   \n",
       "\n",
       "   automatic_gearbox  passenger_capacity  length  width  luggage_capacity  \\\n",
       "1                  0                   5     177     68              11.0   \n",
       "2                  0                   5     195     71              15.0   \n",
       "3                  0                   5     180     67              14.0   \n",
       "4                  0                   6     193     70              17.0   \n",
       "5                  0                   4     186     69              13.0   \n",
       "\n",
       "              AirBags DriveTrain Origin            imagepath  \n",
       "1                None      Front      1  01acura_integra.jpg  \n",
       "2  DriverAndPassenger      Front      1   02Acura_Legend.jpg  \n",
       "3          DriverOnly      Front      1       03audi_100.jpg  \n",
       "4  DriverAndPassenger      Front      1        04audi_90.jpg  \n",
       "5          DriverOnly       Rear      1       05bmw_535i.jpg  \n",
       "\n",
       "[5 rows x 21 columns]"
      ]
     },
     "execution_count": 9,
     "metadata": {},
     "output_type": "execute_result"
    }
   ],
   "source": [
    "dataset.original_data.head()"
   ]
  },
  {
   "cell_type": "code",
   "execution_count": 10,
   "metadata": {
    "scrolled": false
   },
   "outputs": [
    {
     "name": "stdout",
     "output_type": "stream",
     "text": [
      "Int64Index([14, 19, 28, 34, 35, 60, 72, 75], dtype='int64')\n",
      "[0, 0, 0, 0, 0, 0, 0, 0, 0, 0, 0, 0, 0, 1, 0, 0, 0, 0, 1, 0, 0, 0, 0, 0, 0, 0, 0, 1, 0, 0, 0, 0, 0, 1, 1, 0, 0, 0, 0, 0, 0, 0, 0, 0, 0, 0, 0, 0, 0, 0, 0, 0, 0, 0, 0, 0, 0, 0, 0, 1, 0, 0, 0, 0, 0, 0, 0, 0, 0, 0, 0, 1, 0, 0, 1, 0, 0, 0, 0, 0, 0, 0, 0, 0, 0, 0, 0, 0, 0, 0, 0, 0, 0]\n"
     ]
    }
   ],
   "source": [
    "concept = dataset.original_data.query('type==\"Sporty\" and Origin ==0')\n",
    "print(concept.index)\n",
    "y_test = [int(y in concept.index) for y in range(1, dataset.original_data.shape[0]+1)]\n",
    "print(y_test)"
   ]
  },
  {
   "cell_type": "markdown",
   "metadata": {},
   "source": [
    "### Select an example index to start the learning process"
   ]
  },
  {
   "cell_type": "code",
   "execution_count": 12,
   "metadata": {
    "scrolled": true
   },
   "outputs": [
    {
     "data": {
      "text/plain": [
       "make                        Ford Mustang\n",
       "manufacturer                        Ford\n",
       "type                              Sporty\n",
       "price                               7950\n",
       "mpg                                 25.5\n",
       "num_of_cylinders                       4\n",
       "horsepower                           105\n",
       "fuel_tank_capacity                  15.4\n",
       "RPM                                 4600\n",
       "Wheelbase                            101\n",
       "Rear.seat.room                        24\n",
       "Weight                              2850\n",
       "automatic_gearbox                      0\n",
       "passenger_capacity                     4\n",
       "length                               180\n",
       "width                                 68\n",
       "luggage_capacity                      12\n",
       "AirBags                       DriverOnly\n",
       "DriveTrain                          Rear\n",
       "Origin                                 0\n",
       "imagepath             34ford_mustang.jpg\n",
       "Name: 34, dtype: object"
      ]
     },
     "execution_count": 12,
     "metadata": {},
     "output_type": "execute_result"
    }
   ],
   "source": [
    "example_index = 33\n",
    "tuple_input = dataset.data_matrix[example_index].tolist()\n",
    "dataset.original_data.iloc[example_index]"
   ]
  },
  {
   "cell_type": "markdown",
   "metadata": {},
   "source": [
    "### Selected examples"
   ]
  },
  {
   "cell_type": "code",
   "execution_count": 13,
   "metadata": {},
   "outputs": [
    {
     "name": "stdout",
     "output_type": "stream",
     "text": [
      "[33, 27, 56, 59, 13]\n"
     ]
    }
   ],
   "source": [
    "selected_indexes = sada.select(query=tuple_input)\n",
    "print(selected_indexes)"
   ]
  },
  {
   "cell_type": "code",
   "execution_count": 15,
   "metadata": {},
   "outputs": [],
   "source": [
    "predicted = [int(i in selected_indexes) for i in range(dataset.original_data.shape[0])]"
   ]
  },
  {
   "cell_type": "code",
   "execution_count": 16,
   "metadata": {},
   "outputs": [
    {
     "data": {
      "text/plain": [
       "(0.8, 0.5, 0.6153846153846154, None)"
      ]
     },
     "execution_count": 16,
     "metadata": {},
     "output_type": "execute_result"
    }
   ],
   "source": [
    "precision_recall_fscore_support(y_test, predicted, average='binary')"
   ]
  },
  {
   "cell_type": "markdown",
   "metadata": {},
   "source": [
    "### Query learning phase"
   ]
  },
  {
   "cell_type": "code",
   "execution_count": 17,
   "metadata": {
    "scrolled": false
   },
   "outputs": [],
   "source": [
    "# Copying dataset to a dataframe\n",
    "dataframe = dataset.preprocessed_data.copy(deep=True)\n",
    "\n",
    "# Configure PandaSQL to query Pandas dataframe\n",
    "pysql = lambda q: pdsql.sqldf(q, globals())"
   ]
  },
  {
   "cell_type": "code",
   "execution_count": 18,
   "metadata": {},
   "outputs": [],
   "source": [
    "query_learner = DecisionTreeQBE(dataframe, selected_indexes)\n",
    "best_predicate = query_learner.search_best_predicate()"
   ]
  },
  {
   "cell_type": "code",
   "execution_count": 19,
   "metadata": {},
   "outputs": [
    {
     "name": "stdout",
     "output_type": "stream",
     "text": [
      "Query:  SELECT * FROM dataframe WHERE rear_seat_room > 0.14705882407724857 AND num_of_cylinders > 0.1875 AND Sporty > 0.5 AND RPM <= 0.37037037312984467 AND width <= 0.8055555522441864 OR rear_seat_room > 0.14705882407724857 AND num_of_cylinders <= 0.1875 OR rear_seat_room <= 0.14705882407724857\n",
      "---------------------------------\n",
      "Relevant & Actual:  5\n",
      "Recall:  1.0\n",
      "Specificity:  1.0\n",
      "Precision:  1.0\n",
      "F1-Score:  1.0\n",
      "False negative rate:  0.0\n",
      "False positive rate:  0.0\n",
      "---------------------------------\n"
     ]
    }
   ],
   "source": [
    "learned_view = util.get_view_from_predicate(best_predicate, dataframe, dataframe.iloc[selected_indexes], pysql)"
   ]
  },
  {
   "cell_type": "markdown",
   "metadata": {},
   "source": [
    "### Show retrieved data"
   ]
  },
  {
   "cell_type": "code",
   "execution_count": 20,
   "metadata": {},
   "outputs": [],
   "source": [
    "original_indexes = util.get_original_indexes_from_view(dataframe, learned_view)"
   ]
  },
  {
   "cell_type": "code",
   "execution_count": 23,
   "metadata": {},
   "outputs": [
    {
     "data": {
      "text/html": [
       "<div>\n",
       "<style scoped>\n",
       "    .dataframe tbody tr th:only-of-type {\n",
       "        vertical-align: middle;\n",
       "    }\n",
       "\n",
       "    .dataframe tbody tr th {\n",
       "        vertical-align: top;\n",
       "    }\n",
       "\n",
       "    .dataframe thead th {\n",
       "        text-align: right;\n",
       "    }\n",
       "</style>\n",
       "<table border=\"1\" class=\"dataframe\">\n",
       "  <thead>\n",
       "    <tr style=\"text-align: right;\">\n",
       "      <th></th>\n",
       "      <th>make</th>\n",
       "      <th>manufacturer</th>\n",
       "      <th>type</th>\n",
       "      <th>price</th>\n",
       "      <th>mpg</th>\n",
       "      <th>num_of_cylinders</th>\n",
       "      <th>horsepower</th>\n",
       "      <th>fuel_tank_capacity</th>\n",
       "      <th>RPM</th>\n",
       "      <th>Wheelbase</th>\n",
       "      <th>...</th>\n",
       "      <th>Weight</th>\n",
       "      <th>automatic_gearbox</th>\n",
       "      <th>passenger_capacity</th>\n",
       "      <th>length</th>\n",
       "      <th>width</th>\n",
       "      <th>luggage_capacity</th>\n",
       "      <th>AirBags</th>\n",
       "      <th>DriveTrain</th>\n",
       "      <th>Origin</th>\n",
       "      <th>imagepath</th>\n",
       "    </tr>\n",
       "  </thead>\n",
       "  <tbody>\n",
       "    <tr>\n",
       "      <th>14</th>\n",
       "      <td>Chevrolet Camaro</td>\n",
       "      <td>Chevrolet</td>\n",
       "      <td>Sporty</td>\n",
       "      <td>7550.0</td>\n",
       "      <td>23.5</td>\n",
       "      <td>6</td>\n",
       "      <td>160</td>\n",
       "      <td>15.5</td>\n",
       "      <td>4600</td>\n",
       "      <td>101</td>\n",
       "      <td>...</td>\n",
       "      <td>3240</td>\n",
       "      <td>0</td>\n",
       "      <td>4</td>\n",
       "      <td>193</td>\n",
       "      <td>74</td>\n",
       "      <td>13.000000</td>\n",
       "      <td>DriverAndPassenger</td>\n",
       "      <td>Rear</td>\n",
       "      <td>0</td>\n",
       "      <td>14chevrolet_camaro.jpg</td>\n",
       "    </tr>\n",
       "    <tr>\n",
       "      <th>28</th>\n",
       "      <td>Dodge Stealth</td>\n",
       "      <td>Dodge</td>\n",
       "      <td>Sporty</td>\n",
       "      <td>12900.0</td>\n",
       "      <td>21.0</td>\n",
       "      <td>6</td>\n",
       "      <td>300</td>\n",
       "      <td>19.8</td>\n",
       "      <td>6000</td>\n",
       "      <td>97</td>\n",
       "      <td>...</td>\n",
       "      <td>3805</td>\n",
       "      <td>0</td>\n",
       "      <td>4</td>\n",
       "      <td>180</td>\n",
       "      <td>72</td>\n",
       "      <td>11.000000</td>\n",
       "      <td>DriverOnly</td>\n",
       "      <td>4WD</td>\n",
       "      <td>0</td>\n",
       "      <td>28dodge_stealth.jpg</td>\n",
       "    </tr>\n",
       "    <tr>\n",
       "      <th>34</th>\n",
       "      <td>Ford Mustang</td>\n",
       "      <td>Ford</td>\n",
       "      <td>Sporty</td>\n",
       "      <td>7950.0</td>\n",
       "      <td>25.5</td>\n",
       "      <td>4</td>\n",
       "      <td>105</td>\n",
       "      <td>15.4</td>\n",
       "      <td>4600</td>\n",
       "      <td>101</td>\n",
       "      <td>...</td>\n",
       "      <td>2850</td>\n",
       "      <td>0</td>\n",
       "      <td>4</td>\n",
       "      <td>180</td>\n",
       "      <td>68</td>\n",
       "      <td>12.000000</td>\n",
       "      <td>DriverOnly</td>\n",
       "      <td>Rear</td>\n",
       "      <td>0</td>\n",
       "      <td>34ford_mustang.jpg</td>\n",
       "    </tr>\n",
       "    <tr>\n",
       "      <th>57</th>\n",
       "      <td>Mazda RX-7</td>\n",
       "      <td>Mazda</td>\n",
       "      <td>Sporty</td>\n",
       "      <td>16250.0</td>\n",
       "      <td>21.0</td>\n",
       "      <td>0</td>\n",
       "      <td>255</td>\n",
       "      <td>20.0</td>\n",
       "      <td>6500</td>\n",
       "      <td>96</td>\n",
       "      <td>...</td>\n",
       "      <td>2895</td>\n",
       "      <td>0</td>\n",
       "      <td>2</td>\n",
       "      <td>169</td>\n",
       "      <td>69</td>\n",
       "      <td>13.506216</td>\n",
       "      <td>DriverOnly</td>\n",
       "      <td>Rear</td>\n",
       "      <td>1</td>\n",
       "      <td>57mazda_rx7.jpg</td>\n",
       "    </tr>\n",
       "    <tr>\n",
       "      <th>60</th>\n",
       "      <td>Mercury Capri</td>\n",
       "      <td>Mercury</td>\n",
       "      <td>Sporty</td>\n",
       "      <td>7050.0</td>\n",
       "      <td>24.5</td>\n",
       "      <td>4</td>\n",
       "      <td>100</td>\n",
       "      <td>11.1</td>\n",
       "      <td>5750</td>\n",
       "      <td>95</td>\n",
       "      <td>...</td>\n",
       "      <td>2450</td>\n",
       "      <td>0</td>\n",
       "      <td>4</td>\n",
       "      <td>166</td>\n",
       "      <td>65</td>\n",
       "      <td>6.000000</td>\n",
       "      <td>DriverOnly</td>\n",
       "      <td>Front</td>\n",
       "      <td>0</td>\n",
       "      <td>60mercury_capri.jpg</td>\n",
       "    </tr>\n",
       "  </tbody>\n",
       "</table>\n",
       "<p>5 rows × 21 columns</p>\n",
       "</div>"
      ],
      "text/plain": [
       "                make manufacturer    type    price   mpg  num_of_cylinders  \\\n",
       "14  Chevrolet Camaro    Chevrolet  Sporty   7550.0  23.5                 6   \n",
       "28     Dodge Stealth        Dodge  Sporty  12900.0  21.0                 6   \n",
       "34      Ford Mustang         Ford  Sporty   7950.0  25.5                 4   \n",
       "57        Mazda RX-7        Mazda  Sporty  16250.0  21.0                 0   \n",
       "60     Mercury Capri      Mercury  Sporty   7050.0  24.5                 4   \n",
       "\n",
       "    horsepower  fuel_tank_capacity   RPM  Wheelbase  ...  Weight  \\\n",
       "14         160                15.5  4600        101  ...    3240   \n",
       "28         300                19.8  6000         97  ...    3805   \n",
       "34         105                15.4  4600        101  ...    2850   \n",
       "57         255                20.0  6500         96  ...    2895   \n",
       "60         100                11.1  5750         95  ...    2450   \n",
       "\n",
       "    automatic_gearbox  passenger_capacity  length  width  luggage_capacity  \\\n",
       "14                  0                   4     193     74         13.000000   \n",
       "28                  0                   4     180     72         11.000000   \n",
       "34                  0                   4     180     68         12.000000   \n",
       "57                  0                   2     169     69         13.506216   \n",
       "60                  0                   4     166     65          6.000000   \n",
       "\n",
       "               AirBags DriveTrain Origin               imagepath  \n",
       "14  DriverAndPassenger       Rear      0  14chevrolet_camaro.jpg  \n",
       "28          DriverOnly        4WD      0     28dodge_stealth.jpg  \n",
       "34          DriverOnly       Rear      0      34ford_mustang.jpg  \n",
       "57          DriverOnly       Rear      1         57mazda_rx7.jpg  \n",
       "60          DriverOnly      Front      0     60mercury_capri.jpg  \n",
       "\n",
       "[5 rows x 21 columns]"
      ]
     },
     "execution_count": 23,
     "metadata": {},
     "output_type": "execute_result"
    }
   ],
   "source": [
    "dataset.original_data.iloc[original_indexes].head()"
   ]
  },
  {
   "cell_type": "code",
   "execution_count": 24,
   "metadata": {
    "scrolled": false
   },
   "outputs": [],
   "source": [
    "queries = [\"type == 'Sporty' and Origin == 0\", \n",
    "    \"type != 'Sporty' and Origin == 1\",\n",
    "    \"automatic_gearbox == 1 and horsepower >= 150\",\n",
    "    \"luggage_capacity >= 18 and passenger_capacity > 5\",\n",
    "    \"price <= 7000 and mpg >= 26 and automatic_gearbox == 0\",\n",
    "    \"manufacturer == 'Ford' or manufacturer == 'Chevrolet'\"]"
   ]
  },
  {
   "cell_type": "code",
   "execution_count": 38,
   "metadata": {
    "scrolled": false
   },
   "outputs": [],
   "source": [
    "results = []\n",
    "for q in queries:\n",
    "    concept = dataset.original_data.query(q)\n",
    "    y_test = [int(y in concept.index) for y in range(1, dataset.original_data.shape[0]+1)]\n",
    "    sada = DecisionSADA(dataset, selector=SomSelector(som_size=(10,10), num_iterations=dataset.original_data.shape[0]*10))\n",
    "    for i in range(10):\n",
    "        example_index = random.choice(concept.index)\n",
    "        tuple_input = dataset.data_matrix[example_index-1].tolist()\n",
    "        selected_indexes = sada.select(query=tuple_input,  num_of_selected_candidates=len(concept))\n",
    "        predicted = [int(i in selected_indexes) for i in range(dataset.original_data.shape[0])]\n",
    "        res = [q, len(concept.index)] + list(precision_recall_fscore_support(y_test, predicted, average='binary'))[:3]\n",
    "        results.append(res)"
   ]
  },
  {
   "cell_type": "code",
   "execution_count": 39,
   "metadata": {},
   "outputs": [],
   "source": [
    "df = pd.DataFrame(results, columns=['query', 'concept size', 'precision', 'recall', 'f1score'])"
   ]
  },
  {
   "cell_type": "code",
   "execution_count": 40,
   "metadata": {},
   "outputs": [
    {
     "data": {
      "text/html": [
       "<div>\n",
       "<style scoped>\n",
       "    .dataframe tbody tr th:only-of-type {\n",
       "        vertical-align: middle;\n",
       "    }\n",
       "\n",
       "    .dataframe tbody tr th {\n",
       "        vertical-align: top;\n",
       "    }\n",
       "\n",
       "    .dataframe thead th {\n",
       "        text-align: right;\n",
       "    }\n",
       "</style>\n",
       "<table border=\"1\" class=\"dataframe\">\n",
       "  <thead>\n",
       "    <tr style=\"text-align: right;\">\n",
       "      <th></th>\n",
       "      <th></th>\n",
       "      <th>precision</th>\n",
       "      <th>recall</th>\n",
       "      <th>f1score</th>\n",
       "    </tr>\n",
       "    <tr>\n",
       "      <th>query</th>\n",
       "      <th>concept size</th>\n",
       "      <th></th>\n",
       "      <th></th>\n",
       "      <th></th>\n",
       "    </tr>\n",
       "  </thead>\n",
       "  <tbody>\n",
       "    <tr>\n",
       "      <th>price &lt;= 7000 and mpg &gt;= 26 and automatic_gearbox == 0</th>\n",
       "      <th>25</th>\n",
       "      <td>0.636000</td>\n",
       "      <td>0.636000</td>\n",
       "      <td>0.636000</td>\n",
       "    </tr>\n",
       "    <tr>\n",
       "      <th>type == 'Sporty' and Origin == 0</th>\n",
       "      <th>8</th>\n",
       "      <td>0.550000</td>\n",
       "      <td>0.550000</td>\n",
       "      <td>0.550000</td>\n",
       "    </tr>\n",
       "    <tr>\n",
       "      <th>automatic_gearbox == 1 and horsepower &gt;= 150</th>\n",
       "      <th>23</th>\n",
       "      <td>0.439130</td>\n",
       "      <td>0.439130</td>\n",
       "      <td>0.439130</td>\n",
       "    </tr>\n",
       "    <tr>\n",
       "      <th>type != 'Sporty' and Origin == 1</th>\n",
       "      <th>39</th>\n",
       "      <td>0.407692</td>\n",
       "      <td>0.407692</td>\n",
       "      <td>0.407692</td>\n",
       "    </tr>\n",
       "    <tr>\n",
       "      <th>luggage_capacity &gt;= 18 and passenger_capacity &gt; 5</th>\n",
       "      <th>9</th>\n",
       "      <td>0.366667</td>\n",
       "      <td>0.366667</td>\n",
       "      <td>0.366667</td>\n",
       "    </tr>\n",
       "    <tr>\n",
       "      <th>manufacturer == 'Ford' or manufacturer == 'Chevrolet'</th>\n",
       "      <th>16</th>\n",
       "      <td>0.268750</td>\n",
       "      <td>0.268750</td>\n",
       "      <td>0.268750</td>\n",
       "    </tr>\n",
       "  </tbody>\n",
       "</table>\n",
       "</div>"
      ],
      "text/plain": [
       "                                                                 precision  \\\n",
       "query                                              concept size              \n",
       "price <= 7000 and mpg >= 26 and automatic_gearb... 25             0.636000   \n",
       "type == 'Sporty' and Origin == 0                   8              0.550000   \n",
       "automatic_gearbox == 1 and horsepower >= 150       23             0.439130   \n",
       "type != 'Sporty' and Origin == 1                   39             0.407692   \n",
       "luggage_capacity >= 18 and passenger_capacity > 5  9              0.366667   \n",
       "manufacturer == 'Ford' or manufacturer == 'Chev... 16             0.268750   \n",
       "\n",
       "                                                                   recall  \\\n",
       "query                                              concept size             \n",
       "price <= 7000 and mpg >= 26 and automatic_gearb... 25            0.636000   \n",
       "type == 'Sporty' and Origin == 0                   8             0.550000   \n",
       "automatic_gearbox == 1 and horsepower >= 150       23            0.439130   \n",
       "type != 'Sporty' and Origin == 1                   39            0.407692   \n",
       "luggage_capacity >= 18 and passenger_capacity > 5  9             0.366667   \n",
       "manufacturer == 'Ford' or manufacturer == 'Chev... 16            0.268750   \n",
       "\n",
       "                                                                  f1score  \n",
       "query                                              concept size            \n",
       "price <= 7000 and mpg >= 26 and automatic_gearb... 25            0.636000  \n",
       "type == 'Sporty' and Origin == 0                   8             0.550000  \n",
       "automatic_gearbox == 1 and horsepower >= 150       23            0.439130  \n",
       "type != 'Sporty' and Origin == 1                   39            0.407692  \n",
       "luggage_capacity >= 18 and passenger_capacity > 5  9             0.366667  \n",
       "manufacturer == 'Ford' or manufacturer == 'Chev... 16            0.268750  "
      ]
     },
     "execution_count": 40,
     "metadata": {},
     "output_type": "execute_result"
    }
   ],
   "source": [
    "df.groupby(by=['query', 'concept size']).mean().sort_values(by='f1score', ascending=False)"
   ]
  },
  {
   "cell_type": "code",
   "execution_count": null,
   "metadata": {},
   "outputs": [],
   "source": []
  }
 ],
 "metadata": {
  "kernelspec": {
   "display_name": "Python 3",
   "language": "python",
   "name": "python3"
  },
  "language_info": {
   "codemirror_mode": {
    "name": "ipython",
    "version": 3
   },
   "file_extension": ".py",
   "mimetype": "text/x-python",
   "name": "python",
   "nbconvert_exporter": "python",
   "pygments_lexer": "ipython3",
   "version": "3.7.3"
  }
 },
 "nbformat": 4,
 "nbformat_minor": 2
}
