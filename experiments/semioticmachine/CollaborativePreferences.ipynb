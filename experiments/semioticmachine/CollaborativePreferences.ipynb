{
 "cells": [
  {
   "cell_type": "markdown",
   "metadata": {
    "deletable": true,
    "editable": true
   },
   "source": [
    "# Exploiting Collaborative Preferences\n",
    "\n",
    "Publication information: Martins, D. M. L., Vossen, G., & Maleszka, M. (2018, October). Supporting Online Data Purchase by Preference Recommendation. In 2018 IEEE International Conference on Systems, Man, and Cybernetics (SMC) (pp. 3703-3708). IEEE.\n",
    "\n",
    "URL: https://ieeexplore.ieee.org/document/8616624\n",
    "\n",
    "Publication's BibTeX:\n",
    "```\n",
    "@INPROCEEDINGS{8616624,\n",
    "    author={D. M. L. {Martins} and G. {Vossen} and M. {Maleszka}},\n",
    "    booktitle={2018 IEEE International Conference on Systems, Man, and Cybernetics (SMC)},\n",
    "    title={Supporting Online Data Purchase by Preference Recommendation},\n",
    "    year={2018},\n",
    "    volume={},\n",
    "    number={},\n",
    "    pages={3703-3708},\n",
    "    keywords={commerce;data handling;decision making;electronic commerce;purchasing;recommender systems;online data purchase;data-driven decision-making;organizations;personal requirements;alternative solutions;traditional data commerce;data marketplaces;novice buyers;intelligent decision support approach;preference recommendation strategy;useful data offerings;Semiotics;Neurons;Decision making;Self-organizing feature maps;Data models;Organizations},\n",
    "    doi={10.1109/SMC.2018.00627},\n",
    "    ISSN={1062-922X},\n",
    "    month={Oct},\n",
    "}\n",
    "```"
   ]
  },
  {
   "cell_type": "markdown",
   "metadata": {
    "deletable": true,
    "editable": true
   },
   "source": [
    "### Configuring notebook"
   ]
  },
  {
   "cell_type": "code",
   "execution_count": null,
   "metadata": {
    "collapsed": false,
    "deletable": true,
    "editable": true
   },
   "outputs": [],
   "source": [
    "cd .."
   ]
  },
  {
   "cell_type": "code",
   "execution_count": null,
   "metadata": {
    "collapsed": false,
    "deletable": true,
    "editable": true
   },
   "outputs": [],
   "source": [
    "cd .."
   ]
  },
  {
   "cell_type": "code",
   "execution_count": null,
   "metadata": {
    "collapsed": true,
    "deletable": true,
    "editable": true
   },
   "outputs": [],
   "source": [
    "import sys, os\n",
    "sys.path.append('..\\\\sada')\n",
    "sys.path.append('..\\\\decision')"
   ]
  },
  {
   "cell_type": "code",
   "execution_count": null,
   "metadata": {
    "collapsed": true,
    "deletable": true,
    "editable": true
   },
   "outputs": [],
   "source": [
    "import pandas as pd\n",
    "from datamanagement.dataaccessobject import DataAccessObject, Dataset\n",
    "from decision.clause import *\n",
    "from decision.criterion import Criterion\n",
    "from decision.somselector import SomSelector\n",
    "from sada.decisionsada import DecisionSADA"
   ]
  },
  {
   "cell_type": "markdown",
   "metadata": {
    "deletable": true,
    "editable": true
   },
   "source": [
    "### Loading car dataset"
   ]
  },
  {
   "cell_type": "code",
   "execution_count": null,
   "metadata": {
    "collapsed": true,
    "deletable": true,
    "editable": true
   },
   "outputs": [],
   "source": [
    "DAO = DataAccessObject()"
   ]
  },
  {
   "cell_type": "code",
   "execution_count": null,
   "metadata": {
    "collapsed": true,
    "deletable": true,
    "editable": true
   },
   "outputs": [],
   "source": [
    "dataset = DAO.get_car_dataset()"
   ]
  },
  {
   "cell_type": "code",
   "execution_count": null,
   "metadata": {
    "collapsed": false,
    "deletable": true,
    "editable": true
   },
   "outputs": [],
   "source": [
    "dataset.preprocessed_data.columns"
   ]
  },
  {
   "cell_type": "markdown",
   "metadata": {
    "deletable": true,
    "editable": true
   },
   "source": [
    "### Creating SADA"
   ]
  },
  {
   "cell_type": "code",
   "execution_count": null,
   "metadata": {
    "deletable": true,
    "editable": true
   },
   "outputs": [],
   "source": [
    "sada = DecisionSADA(dataset)"
   ]
  },
  {
   "cell_type": "markdown",
   "metadata": {
    "deletable": true,
    "editable": true
   },
   "source": [
    "### Creating the decision database"
   ]
  },
  {
   "cell_type": "code",
   "execution_count": null,
   "metadata": {
    "collapsed": true,
    "deletable": true,
    "editable": true
   },
   "outputs": [],
   "source": [
    "def print_preferences(preferences):\n",
    "    for pref in preferences:\n",
    "        print(pref.to_string())\n",
    "\n",
    "class DecisionEntry(object):\n",
    "    def __init__(self, preferences, criteria, optimal_candidates, success):\n",
    "        self.preferences = preferences\n",
    "        self.criteria = criteria\n",
    "        self.optimal_candidates = optimal_candidates\n",
    "        self.success = success\n",
    "    \n",
    "def build_historical_data(sada):\n",
    "    b_1 = DecisionEntry(preferences = [DiadicClause('Volkswagen', Operation.EQUALS, 1), DiadicClause('mpg', Operation.GREATER_THAN_EQUALS, 0.098)],\n",
    "                        criteria = [Criterion('price', maximize=False, weight=0.6), Criterion('mpg', maximize=True, weight=0.4)],\n",
    "                        optimal_candidates = None, success = True)\n",
    "    \n",
    "    b_2 = DecisionEntry(preferences = [DiadicClause('price', Operation.LESS_THAN_EQUALS, 0.231193), DiadicClause('Sporty', Operation.EQUALS, 1), DiadicClause('Origin', Operation.EQUALS, 0)],\n",
    "                        criteria = [Criterion('price', maximize=False, weight=0.6), Criterion('horsepower', maximize=True, weight=0.4)],\n",
    "                        optimal_candidates = None, success = True)\n",
    "\n",
    "    b_3 = DecisionEntry(preferences = [DiadicClause('driver_passenger', Operation.EQUALS, 1), DiadicClause('Front', Operation.EQUALS, 1)],\n",
    "                        criteria = [Criterion('price', maximize=False, weight=0.6), Criterion('passenger_capacity', maximize=True, weight=0.4)],\n",
    "                        optimal_candidates = None, success = 0)\n",
    "\n",
    "    b_4 = DecisionEntry(preferences = [DiadicClause('price', Operation.LESS_THAN_EQUALS, 0.01), DiadicClause('Small', Operation.EQUALS, 1)],\n",
    "                        criteria = [Criterion('price', maximize=False, weight=0.6), Criterion('mpg', maximize=True, weight=0.4)],\n",
    "                        optimal_candidates = None, success = 0)\n",
    "\n",
    "    b_5 = DecisionEntry(preferences = [DiadicClause('price', Operation.LESS_THAN_EQUALS, 0.03), DiadicClause('Small', Operation.EQUALS, 1)],\n",
    "                        criteria = [Criterion('length', maximize=False, weight=0.6), Criterion('mpg', maximize=True, weight=0.4)],\n",
    "                        optimal_candidates = None, success = 1)\n",
    "\n",
    "    b_6 = DecisionEntry(preferences = [DiadicClause('Rear', Operation.EQUALS, 1), DiadicClause('Sporty', Operation.EQUALS, 1), DiadicClause('passenger_capacity', Operation.EQUALS, 0)],\n",
    "                        criteria = [Criterion('RPM', maximize=True, weight=0.6), Criterion('horsepower', maximize=True, weight=0.4)],\n",
    "                        optimal_candidates = None, success = 1)\n",
    "\n",
    "    b_7 = DecisionEntry(preferences = [DiadicClause('Compact', Operation.EQUALS, 1), DiadicClause('passenger_capacity', Operation.GREATER_THAN_EQUALS, 0.5), DiadicClause('Rear', Operation.EQUALS, 1)],\n",
    "                        criteria = [Criterion('mpg', maximize=True, weight=0.6), Criterion('price', maximize=False, weight=0.4)],\n",
    "                        optimal_candidates = None, success = 0)\n",
    "\n",
    "    b_8 = DecisionEntry(preferences = [DiadicClause('luggage_capacity', Operation.GREATER_THAN_EQUALS, 0.875)],\n",
    "                        criteria = [Criterion('mpg', maximize=True, weight=0.6), Criterion('fuel_tank_capacity', maximize=True, weight=0.4)],\n",
    "                        optimal_candidates = None, success = 1)\n",
    "    \n",
    "    previous_decisions = [b_1, b_2, b_3, b_4, b_5, b_6, b_7, b_8]\n",
    "    \n",
    "    for b in previous_decisions:\n",
    "        selected, optimal = sada.get_recommendations(b.preferences, b.criteria)\n",
    "        b.optimal_candidates = optimal\n",
    "    \n",
    "    return previous_decisions"
   ]
  },
  {
   "cell_type": "code",
   "execution_count": null,
   "metadata": {
    "collapsed": false,
    "deletable": true,
    "editable": true
   },
   "outputs": [],
   "source": [
    "previous_decisions = build_historical_data(sada)"
   ]
  },
  {
   "cell_type": "markdown",
   "metadata": {
    "deletable": true,
    "editable": true
   },
   "source": [
    "### Current buyer"
   ]
  },
  {
   "cell_type": "code",
   "execution_count": null,
   "metadata": {
    "collapsed": true,
    "deletable": true,
    "editable": true
   },
   "outputs": [],
   "source": [
    "#preferences=[DiadicClause('price', Operation.LESS_THAN_EQUALS, 0.08), #6000\n",
    "#        DiadicClause('horsepower', Operation.GREATER_THAN_EQUALS, 0.4)] #150\n",
    "\n",
    "#criteria = [Criterion('price', maximize=False, weight=0.6),\n",
    "#            Criterion('horsepower', maximize=True, weight=0.4)]\n",
    "\n",
    "preferences=[DiadicClause('Compact', Operation.EQUALS, 0), DiadicClause('Origin', Operation.EQUALS, 0), DiadicClause('price', Operation.LESS_THAN_EQUALS, 0.08), DiadicClause('mpg', Operation.LESS_THAN_EQUALS, 0.41)]\n",
    "\n",
    "criteria = [Criterion('mpg', maximize=True, weight=0.5), Criterion('price', maximize=False, weight=0.5)]\n",
    "\n",
    "\n",
    "current_buyer = DecisionEntry(preferences=preferences, criteria=criteria, \n",
    "                              optimal_candidates=[], success=False)"
   ]
  },
  {
   "cell_type": "markdown",
   "metadata": {
    "deletable": true,
    "editable": true
   },
   "source": [
    "### Select and evaluate cantidates"
   ]
  },
  {
   "cell_type": "code",
   "execution_count": null,
   "metadata": {
    "collapsed": false,
    "deletable": true,
    "editable": true
   },
   "outputs": [],
   "source": [
    "selected, current_buyer.optimal_candidates = sada.get_recommendations(current_buyer.preferences, current_buyer.criteria)"
   ]
  },
  {
   "cell_type": "code",
   "execution_count": null,
   "metadata": {
    "collapsed": false,
    "deletable": true,
    "editable": true
   },
   "outputs": [],
   "source": [
    "selected"
   ]
  },
  {
   "cell_type": "code",
   "execution_count": null,
   "metadata": {
    "collapsed": false,
    "deletable": true,
    "editable": true
   },
   "outputs": [],
   "source": [
    "current_buyer.optimal_candidates[['make', 'type', 'price', 'horsepower', 'mpg']]"
   ]
  },
  {
   "cell_type": "markdown",
   "metadata": {
    "deletable": true,
    "editable": true
   },
   "source": [
    "### Finding the most similar buyers from the decision database"
   ]
  },
  {
   "cell_type": "code",
   "execution_count": null,
   "metadata": {
    "collapsed": true,
    "deletable": true,
    "editable": true
   },
   "outputs": [],
   "source": [
    "def create_som_vector(buyer, vector_size):\n",
    "    vector = []\n",
    "    for i in range(vector_size):\n",
    "        if len(buyer.optimal_candidates) > i:\n",
    "            vector.append(int(buyer.optimal_candidates.index[i]))\n",
    "        else:\n",
    "            vector.append(-1)\n",
    "    return vector\n",
    "\n",
    "def create_som_dataset(previous_decisions, vector_size):\n",
    "    som_data = []\n",
    "    for p in previous_decisions:\n",
    "        vector = create_som_vector(p, vector_size)\n",
    "        som_data.append(vector)\n",
    "\n",
    "    som_dataset = Dataset(som_data, pd.DataFrame(som_data))\n",
    "    return som_dataset\n",
    "\n",
    "def get_jaccard_most_similar(previous_decisions, current_buyer):\n",
    "    current_optimal = set(current_buyer.optimal_candidates['make'].values)\n",
    "    history = {}\n",
    "    for i in range(len(previous_decisions)):\n",
    "        history[i] = set(previous_decisions[i].optimal_candidates['make'])\n",
    "    similarity = []\n",
    "    for k,v in history.items():\n",
    "        jaccard = len(current_optimal & v)/len(current_optimal | v)\n",
    "        similarity.append(jaccard)\n",
    "    \n",
    "    most_similar = similarity.index(max(similarity))\n",
    "    complementary_candidates = history[most_similar] - (current_optimal & history[most_similar])\n",
    "    return most_similar, complementary_candidates"
   ]
  },
  {
   "cell_type": "code",
   "execution_count": null,
   "metadata": {
    "collapsed": true,
    "deletable": true,
    "editable": true
   },
   "outputs": [],
   "source": [
    "som_selector = SomSelector(som_size=(3, 3), num_iterations=1000)"
   ]
  },
  {
   "cell_type": "code",
   "execution_count": null,
   "metadata": {
    "collapsed": true,
    "deletable": true,
    "editable": true
   },
   "outputs": [],
   "source": [
    "current_buyer_vector = create_som_vector(current_buyer, 5)\n",
    "som_dataset = create_som_dataset(previous_decisions, 5)"
   ]
  },
  {
   "cell_type": "code",
   "execution_count": null,
   "metadata": {
    "collapsed": true,
    "deletable": true,
    "editable": true
   },
   "outputs": [],
   "source": [
    "similar_indices = som_selector.select(current_buyer_vector, som_dataset, num_selected_items=3)"
   ]
  },
  {
   "cell_type": "code",
   "execution_count": null,
   "metadata": {
    "collapsed": true,
    "deletable": true,
    "editable": true
   },
   "outputs": [],
   "source": [
    "most_similar_decisions = [previous_decisions[i] for i in similar_indices]"
   ]
  },
  {
   "cell_type": "markdown",
   "metadata": {
    "deletable": true,
    "editable": true
   },
   "source": [
    "### Creating reject preference short-term memory"
   ]
  },
  {
   "cell_type": "code",
   "execution_count": null,
   "metadata": {
    "deletable": true,
    "editable": true
   },
   "outputs": [],
   "source": [
    "rejected_preferences = []"
   ]
  },
  {
   "cell_type": "markdown",
   "metadata": {
    "deletable": true,
    "editable": true
   },
   "source": [
    "### Calculating preference weights"
   ]
  },
  {
   "cell_type": "code",
   "execution_count": null,
   "metadata": {},
   "outputs": [],
   "source": [
    "tau_increasing_factor = 1"
   ]
  },
  {
   "cell_type": "code",
   "execution_count": null,
   "metadata": {},
   "outputs": [],
   "source": [
    "all_preferences = []"
   ]
  },
  {
   "cell_type": "code",
   "execution_count": null,
   "metadata": {},
   "outputs": [],
   "source": [
    "for dec in most_similar_decisions:\n",
    "    for pref in dec.preferences:\n",
    "        if not pref in all_preferences:\n",
    "            weight = 0\n",
    "            if (not pref in current_buyer.preferences) and (not pref in rejected_preferences) and dec.success:\n",
    "                weight += tau_increasing_factor\n",
    "            entry = (pref, weight)\n",
    "            all_preferences.append(entry)"
   ]
  },
  {
   "cell_type": "code",
   "execution_count": null,
   "metadata": {},
   "outputs": [],
   "source": [
    "# Sort preferences\n",
    "all_preferences = [pref for pref in sorted(all_preferences, key=lambda pref: pref[1], reverse=True)]"
   ]
  },
  {
   "cell_type": "code",
   "execution_count": null,
   "metadata": {},
   "outputs": [],
   "source": [
    "relevant_preferences = [pref[0] for pref in all_preferences if pref[1] > 0]\n",
    "print_preferences(relevant_preferences)"
   ]
  },
  {
   "cell_type": "code",
   "execution_count": null,
   "metadata": {},
   "outputs": [],
   "source": [
    "print_preferences(current_buyer.preferences)"
   ]
  },
  {
   "cell_type": "markdown",
   "metadata": {},
   "source": [
    "### Recommend the preference with highest weight that generates a list of diverse optimal offers"
   ]
  },
  {
   "cell_type": "code",
   "execution_count": null,
   "metadata": {},
   "outputs": [],
   "source": [
    "recommended_preferences = []"
   ]
  },
  {
   "cell_type": "code",
   "execution_count": null,
   "metadata": {},
   "outputs": [],
   "source": [
    "for pref in relevant_preferences:\n",
    "    if pref in recommended_preferences:\n",
    "        continue\n",
    "    else:\n",
    "        extended_preferences = [pref]\n",
    "        extended_preferences.extend(current_buyer.preferences)\n",
    "        sel, opt = sada.get_recommendations(query=extended_preferences, criteria=current_buyer.criteria)\n",
    "        A = set(current_buyer.optimal_candidates.index.tolist())\n",
    "        B = set(opt.index.tolist())\n",
    "        if A != B: # Check wheater the preference produces a change into the optimal candidates retrieved by SADA\n",
    "            recommended_preferences.append(pref)\n",
    "        #if set(current_buyer.optimal_candidates.index.tolist()) != set(opt.index.tolist()):\n",
    "            #recommended_preferences.append(pref)"
   ]
  },
  {
   "cell_type": "code",
   "execution_count": null,
   "metadata": {},
   "outputs": [],
   "source": [
    "print_preferences(recommended_preferences)"
   ]
  },
  {
   "cell_type": "markdown",
   "metadata": {},
   "source": [
    "### Update buyer preferences"
   ]
  },
  {
   "cell_type": "code",
   "execution_count": null,
   "metadata": {},
   "outputs": [],
   "source": [
    "current_buyer.preferences.append(recommended_preferences[0])"
   ]
  },
  {
   "cell_type": "code",
   "execution_count": null,
   "metadata": {},
   "outputs": [],
   "source": [
    "selected_recommended, optimal_recommended = sada.get_recommendations(query=current_buyer.preferences, criteria=current_buyer.criteria)"
   ]
  },
  {
   "cell_type": "code",
   "execution_count": null,
   "metadata": {},
   "outputs": [],
   "source": [
    "selected_recommended"
   ]
  },
  {
   "cell_type": "code",
   "execution_count": null,
   "metadata": {},
   "outputs": [],
   "source": [
    "optimal_recommended[['make', 'type', 'price', 'horsepower', 'mpg']]"
   ]
  },
  {
   "cell_type": "code",
   "execution_count": null,
   "metadata": {},
   "outputs": [],
   "source": []
  }
 ],
 "metadata": {
  "kernelspec": {
   "display_name": "Python 3",
   "language": "python",
   "name": "python3"
  },
  "language_info": {
   "codemirror_mode": {
    "name": "ipython",
    "version": 3
   },
   "file_extension": ".py",
   "mimetype": "text/x-python",
   "name": "python",
   "nbconvert_exporter": "python",
   "pygments_lexer": "ipython3",
   "version": "3.7.3"
  }
 },
 "nbformat": 4,
 "nbformat_minor": 2
}
