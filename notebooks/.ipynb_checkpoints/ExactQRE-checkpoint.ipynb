{
 "cells": [
  {
   "cell_type": "markdown",
   "metadata": {},
   "source": [
    "### Configuration"
   ]
  },
  {
   "cell_type": "code",
   "execution_count": 1,
   "metadata": {},
   "outputs": [
    {
     "name": "stdout",
     "output_type": "stream",
     "text": [
      "Populating the interactive namespace from numpy and matplotlib\n"
     ]
    }
   ],
   "source": [
    "%pylab inline"
   ]
  },
  {
   "cell_type": "code",
   "execution_count": 2,
   "metadata": {},
   "outputs": [
    {
     "name": "stdout",
     "output_type": "stream",
     "text": [
      "C:\\Users\\d_mart04\\Google Drive\\Doutorado\\gitworkspace\\phd-query-synthesis\\PhDCoding\n"
     ]
    }
   ],
   "source": [
    "cd .."
   ]
  },
  {
   "cell_type": "code",
   "execution_count": 6,
   "metadata": {},
   "outputs": [],
   "source": [
    "import sys, os\n",
    "sys.path.append('..\\\\PhDCoding\\\\oldqre')"
   ]
  },
  {
   "cell_type": "code",
   "execution_count": 8,
   "metadata": {},
   "outputs": [],
   "source": [
    "import pandas as pd, random\n",
    "import matplotlib.pyplot as plt\n",
    "from sklearn import datasets\n",
    "from oldqre.fitnessfunction import InOutFitnessFunction\n",
    "from oldqre.gaqre import GAQRE"
   ]
  },
  {
   "cell_type": "markdown",
   "metadata": {},
   "source": [
    "### Datasets"
   ]
  },
  {
   "cell_type": "code",
   "execution_count": 9,
   "metadata": {},
   "outputs": [],
   "source": [
    "def simple_dataset():\n",
    "    input_table = pd.DataFrame(data=[[1, 2, 3, 4], [1, 1, 5, 4], [1, 1, 1, 1]], columns=['A', 'B', 'C', 'D'])\n",
    "    output_table = input_table.query('B == 1')[['A', 'D']]\n",
    "    input_table = input_table.astype('float64')\n",
    "    return input_table, output_table"
   ]
  },
  {
   "cell_type": "code",
   "execution_count": 10,
   "metadata": {},
   "outputs": [],
   "source": [
    "def iris():\n",
    "    import numpy as np\n",
    "    iris = datasets.load_iris()\n",
    "    input_table = pd.DataFrame(data= np.c_[iris['data'], iris['target']], columns= ['seplength', 'sepwidth', 'petlength', 'petwidth', 'target'])\n",
    "    output_table = input_table.query(\"target == 2\")[['petwidth']]\n",
    "    del input_table['target']\n",
    "    return input_table, output_table"
   ]
  },
  {
   "cell_type": "code",
   "execution_count": 11,
   "metadata": {},
   "outputs": [],
   "source": [
    "cardataset = pd.read_pickle(os.path.join('datasets', 'car_original_dataset.pkl'))\n",
    "del cardataset['imagepath']"
   ]
  },
  {
   "cell_type": "code",
   "execution_count": 12,
   "metadata": {},
   "outputs": [],
   "source": [
    "def american_sportive_cars():\n",
    "    input_table = cardataset\n",
    "    output_table = input_table.query(\"make == 'Chevrolet Camaro' or make == 'Ford Mustang'\")[['make','manufacturer', 'type', 'price']]\n",
    "    return input_table, output_table"
   ]
  },
  {
   "cell_type": "code",
   "execution_count": 13,
   "metadata": {},
   "outputs": [],
   "source": [
    "def small_cheap_cars():\n",
    "    input_table = cardataset\n",
    "    output_table = input_table.query(\"type == 'Small' & price < 5000\")[['make', 'manufacturer', 'type']]\n",
    "    return input_table, output_table"
   ]
  },
  {
   "cell_type": "markdown",
   "metadata": {},
   "source": [
    "### Running QRE algorithm"
   ]
  },
  {
   "cell_type": "code",
   "execution_count": 14,
   "metadata": {},
   "outputs": [],
   "source": [
    "input_table, output_table = american_sportive_cars()"
   ]
  },
  {
   "cell_type": "code",
   "execution_count": 15,
   "metadata": {},
   "outputs": [],
   "source": [
    "fitness_function = InOutFitnessFunction(default_value=0.01, cut_value=2)"
   ]
  },
  {
   "cell_type": "code",
   "execution_count": 16,
   "metadata": {},
   "outputs": [],
   "source": [
    "qre = None\n",
    "if output_table.shape[0] > 0:\n",
    "    qre = GAQRE(input_table, output_table, fitness_function, \n",
    "                population_size=100, min_individual_size=1, \n",
    "                max_individual_size=10, elite_size=50, \n",
    "                crossover_rate=0.8, mutation_rate=0.3)\n",
    "else:\n",
    "    raise Exception('Empty output table')"
   ]
  },
  {
   "cell_type": "code",
   "execution_count": 17,
   "metadata": {},
   "outputs": [
    {
     "name": "stdout",
     "output_type": "stream",
     "text": [
      "Iteration: 1, Best Fitness: 1.148\n",
      "Iteration: 2, Best Fitness: 1.148\n",
      "Iteration: 3, Best Fitness: 1.148\n",
      "Iteration: 4, Best Fitness: 1.222\n",
      "Iteration: 5, Best Fitness: 1.222\n",
      "Iteration: 6, Best Fitness: 1.364\n",
      "Iteration: 7, Best Fitness: 1.308\n",
      "Iteration: 8, Best Fitness: 1.308\n",
      "Iteration: 9, Best Fitness: 1.400\n",
      "Iteration: 10, Best Fitness: 1.400\n",
      "Iteration: 11, Best Fitness: 1.500\n",
      "Iteration: 12, Best Fitness: 1.500\n",
      "Iteration: 13, Best Fitness: 1.571\n",
      "Iteration: 14, Best Fitness: 1.800\n",
      "Iteration: 15, Best Fitness: 1.800\n",
      "Iteration: 16, Best Fitness: 1.800\n",
      "Iteration: 17, Best Fitness: 1.800\n",
      "Iteration: 18, Best Fitness: 1.800\n",
      "Iteration: 19, Best Fitness: 1.800\n",
      "Iteration: 20, Best Fitness: 1.800\n",
      "Iteration: 21, Best Fitness: 1.800\n",
      "Iteration: 22, Best Fitness: 1.800\n",
      "Iteration: 23, Best Fitness: 1.800\n",
      "Iteration: 24, Best Fitness: 1.800\n",
      "Iteration: 25, Best Fitness: 1.800\n",
      "Iteration: 26, Best Fitness: 1.800\n",
      "Iteration: 27, Best Fitness: 1.800\n",
      "Iteration: 28, Best Fitness: 1.800\n",
      "Iteration: 29, Best Fitness: 1.800\n",
      "Iteration: 30, Best Fitness: 1.800\n",
      "Iteration: 31, Best Fitness: 1.800\n",
      "Iteration: 32, Best Fitness: 1.800\n",
      "Iteration: 33, Best Fitness: 1.800\n",
      "Iteration: 34, Best Fitness: 1.800\n",
      "Iteration: 35, Best Fitness: 1.800\n",
      "Iteration: 36, Best Fitness: 2.000\n",
      "------------------------\n",
      "Solution FOUND\n",
      "------------------------\n",
      "14    Chevrolet Camaro\n",
      "34        Ford Mustang\n",
      "Name: make, dtype: object\n",
      "[selection: price < 8850.0, selection: Wheelbase == 101, selection: RPM < 5700, selection: price > luggage_capacity, selection: Weight > 2440, selection: length < 201, selection: horsepower > 92, selection: luggage_capacity < 14.0, selection: Weight > 2785]\n"
     ]
    }
   ],
   "source": [
    "result = qre.search(50, verbose=True)\n",
    "print(result.data['make'])\n",
    "print(result.path)"
   ]
  },
  {
   "cell_type": "markdown",
   "metadata": {},
   "source": [
    "### Results"
   ]
  },
  {
   "cell_type": "code",
   "execution_count": 18,
   "metadata": {},
   "outputs": [
    {
     "data": {
      "image/png": "[encoded data removed]",
      "text/plain": [
       "<Figure size 432x288 with 1 Axes>"
      ]
     },
     "metadata": {
      "needs_background": "light"
     },
     "output_type": "display_data"
    }
   ],
   "source": [
    "axes = plt.gca()\n",
    "axes.set_ylim([0,3])\n",
    "axes.set_xlim([0,len(qre.progress)+1])\n",
    "plt.plot(qre.progress)\n",
    "plt.ylabel('Error')\n",
    "plt.xlabel('Generation')\n",
    "plt.show()"
   ]
  },
  {
   "cell_type": "code",
   "execution_count": null,
   "metadata": {},
   "outputs": [],
   "source": []
  }
 ],
 "metadata": {
  "kernelspec": {
   "display_name": "Python 3",
   "language": "python",
   "name": "python3"
  },
  "language_info": {
   "codemirror_mode": {
    "name": "ipython",
    "version": 3
   },
   "file_extension": ".py",
   "mimetype": "text/x-python",
   "name": "python",
   "nbconvert_exporter": "python",
   "pygments_lexer": "ipython3",
   "version": "3.7.3"
  }
 },
 "nbformat": 4,
 "nbformat_minor": 2
}
