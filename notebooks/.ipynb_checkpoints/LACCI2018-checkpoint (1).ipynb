{
 "cells": [
  {
   "cell_type": "code",
   "execution_count": 1,
   "metadata": {
    "collapsed": false,
    "deletable": true,
    "editable": true
   },
   "outputs": [
    {
     "name": "stdout",
     "output_type": "stream",
     "text": [
      "D:\\Google Drive\\Doutorado\\CodeRepository\\phd-query-synthesis-git-lab\\PhDCoding\n"
     ]
    }
   ],
   "source": [
    "cd .."
   ]
  },
  {
   "cell_type": "code",
   "execution_count": 2,
   "metadata": {
    "collapsed": true,
    "deletable": true,
    "editable": true
   },
   "outputs": [],
   "source": [
    "import sys, os\n",
    "sys.path.append('..\\\\PhDCoding\\\\qbe')"
   ]
  },
  {
   "cell_type": "code",
   "execution_count": 3,
   "metadata": {
    "collapsed": true,
    "deletable": true,
    "editable": true
   },
   "outputs": [],
   "source": [
    "import random\n",
    "import numpy as np, pandas as pd, pandasql as pdsql, sklearn.datasets as ds\n",
    "import util\n",
    "from qbe.greedyqbe import GreedySearchQBE\n",
    "from qbe.fitfunction import FitnessFunction\n",
    "from qbe.geneticqbe import GeneticProgrammingQBE\n",
    "from qbe.astarqbe import AstarQBE\n",
    "from qbe.treeqbe import DecisionTreeQBE"
   ]
  },
  {
   "cell_type": "code",
   "execution_count": 4,
   "metadata": {
    "collapsed": true
   },
   "outputs": [],
   "source": [
    "def get_results(predicate, dataframe, desired_set, undesired_set):\n",
    "    best_data_view = pysql(\"SELECT * FROM dataframe WHERE \" + predicate)\n",
    "    actual_set = util.convert_nparray_to_set(best_data_view)\n",
    "    recall = util.get_recall(actual_set, desired_set)\n",
    "    specificity = util.get_specificity(actual_set, desired_set, undesired_set)\n",
    "    length = 1 + predicate.split().count(\"AND\") + predicate.split().count(\"OR\")\n",
    "    return {'Recall': recall, 'Specificity': specificity, 'Length': length, 'Query': predicate}"
   ]
  },
  {
   "cell_type": "code",
   "execution_count": 5,
   "metadata": {
    "collapsed": true
   },
   "outputs": [],
   "source": [
    "def write_file_results(entry, filename):\n",
    "    with open('C:\\\\Users\\\\d_mart04.WIWI\\\\Downloads\\\\' + filename, 'a') as rfile:\n",
    "        rfile.write('{0};{1};{2};{3}'.format(entry['Recall'], entry['Specificity'], entry['Length'], entry['Query']))\n",
    "        rfile.write('\\n')"
   ]
  },
  {
   "cell_type": "code",
   "execution_count": 6,
   "metadata": {
    "collapsed": true
   },
   "outputs": [],
   "source": [
    "# Loading the Iris dataset https://archive.ics.uci.edu/ml/datasets/iris\n",
    "iris = ds.load_iris()\n",
    "\n",
    "dataframe = pd.DataFrame(data= np.c_[iris['data'], iris['target']], columns= iris['feature_names'] + ['target'])\n",
    "\n",
    "dataframe.columns = [\"sepal_len\", \"sepal_wid\", \"petal_len\", \"petal_wid\", \"target\"]\n",
    "\n",
    "# Configure PandaSQL to query Pandas dataframe\n",
    "pysql = lambda q: pdsql.sqldf(q, globals())"
   ]
  },
  {
   "cell_type": "markdown",
   "metadata": {},
   "source": [
    "### Experiment 1: Discovering unknown queries"
   ]
  },
  {
   "cell_type": "code",
   "execution_count": 6,
   "metadata": {
    "collapsed": true
   },
   "outputs": [],
   "source": [
    "def unknown_queries_discovery(dataframe, tuples_count):\n",
    "    filename = '_unkq_selectivity_{0}.txt'.format(tuples_count)\n",
    "    \n",
    "    size_desired_set = random.randint(1, tuples_count)\n",
    "    indices = [random.randint(0, dataframe.shape[0]-1) for x in range(size_desired_set)]\n",
    "    desired_output = dataframe.loc[indices]\n",
    "\n",
    "    total_set = util.convert_nparray_to_set(dataframe)\n",
    "    desired_set = util.convert_nparray_to_set(desired_output)\n",
    "    undesired_set = total_set - desired_set    \n",
    "    fitness_function = FitnessFunction(desired_set, undesired_set, pysql)\n",
    "\n",
    "    greedy_search = GreedySearchQBE(fitness_function, dataframe)\n",
    "    best_greedy = greedy_search.search_best_predicate(max_iterations=100, threshold=0.001)\n",
    "    greedy = get_results(best_greedy, dataframe, desired_set, undesired_set)\n",
    "\n",
    "    write_file_results(greedy, 'greedy' + filename)\n",
    "\n",
    "    decision_tree = DecisionTreeQBE(dataframe, indices)\n",
    "    best_tree = decision_tree.search_best_predicate()\n",
    "    tree = get_results(best_tree, dataframe, desired_set, undesired_set)\n",
    "\n",
    "    write_file_results(tree, 'tree' + filename)\n",
    "\n",
    "    genetic_programming = GeneticProgrammingQBE(dataframe, fitness_function)\n",
    "    best_genetic = genetic_programming.simple_search(population_size=200, crossover_rate=0.90, \n",
    "                                                            mutation_rate=0.20, num_generations=100, \n",
    "                                                            max_gen_without_gain=30, verbose=False)\n",
    "    gp = get_results(best_genetic, dataframe, desired_set, undesired_set)\n",
    "\n",
    "    write_file_results(gp, 'gp' + filename)"
   ]
  },
  {
   "cell_type": "code",
   "execution_count": 10,
   "metadata": {
    "collapsed": true
   },
   "outputs": [
    {
     "ename": "KeyboardInterrupt",
     "evalue": "",
     "output_type": "error",
     "traceback": [
      "\u001b[1;31m---------------------------------------------------------------------------\u001b[0m",
      "\u001b[1;31mKeyboardInterrupt\u001b[0m                         Traceback (most recent call last)",
      "\u001b[1;32m<ipython-input-10-cf7e1436b71e>\u001b[0m in \u001b[0;36m<module>\u001b[1;34m()\u001b[0m\n\u001b[0;32m      2\u001b[0m     \u001b[1;31m#unknonw_queries_discovery(dataframe, tuples_count=1)\u001b[0m\u001b[1;33m\u001b[0m\u001b[1;33m\u001b[0m\u001b[0m\n\u001b[0;32m      3\u001b[0m     \u001b[1;31m#unknonw_queries_discovery(dataframe, tuples_count=15)\u001b[0m\u001b[1;33m\u001b[0m\u001b[1;33m\u001b[0m\u001b[0m\n\u001b[1;32m----> 4\u001b[1;33m     \u001b[0munknonw_queries_discovery\u001b[0m\u001b[1;33m(\u001b[0m\u001b[0mdataframe\u001b[0m\u001b[1;33m,\u001b[0m \u001b[0mtuples_count\u001b[0m\u001b[1;33m=\u001b[0m\u001b[1;36m50\u001b[0m\u001b[1;33m)\u001b[0m\u001b[1;33m\u001b[0m\u001b[0m\n\u001b[0m\u001b[0;32m      5\u001b[0m     \u001b[1;31m#unknonw_queries_discovery(dataframe, tuples_count=100)\u001b[0m\u001b[1;33m\u001b[0m\u001b[1;33m\u001b[0m\u001b[0m\n\u001b[0;32m      6\u001b[0m \u001b[1;33m\u001b[0m\u001b[0m\n",
      "\u001b[1;32m<ipython-input-7-21e4fe5f9251>\u001b[0m in \u001b[0;36munknonw_queries_discovery\u001b[1;34m(dataframe, tuples_count)\u001b[0m\n\u001b[0;32m     26\u001b[0m     best_genetic = genetic_programming.simple_search(population_size=200, crossover_rate=0.90, \n\u001b[0;32m     27\u001b[0m                                                             \u001b[0mmutation_rate\u001b[0m\u001b[1;33m=\u001b[0m\u001b[1;36m0.20\u001b[0m\u001b[1;33m,\u001b[0m \u001b[0mnum_generations\u001b[0m\u001b[1;33m=\u001b[0m\u001b[1;36m100\u001b[0m\u001b[1;33m,\u001b[0m\u001b[1;33m\u001b[0m\u001b[0m\n\u001b[1;32m---> 28\u001b[1;33m                                                             max_gen_without_gain=30, verbose=False)\n\u001b[0m\u001b[0;32m     29\u001b[0m     \u001b[0mgp\u001b[0m \u001b[1;33m=\u001b[0m \u001b[0mget_results\u001b[0m\u001b[1;33m(\u001b[0m\u001b[0mbest_genetic\u001b[0m\u001b[1;33m,\u001b[0m \u001b[0mdataframe\u001b[0m\u001b[1;33m,\u001b[0m \u001b[0mdesired_set\u001b[0m\u001b[1;33m,\u001b[0m \u001b[0mundesired_set\u001b[0m\u001b[1;33m)\u001b[0m\u001b[1;33m\u001b[0m\u001b[0m\n\u001b[0;32m     30\u001b[0m \u001b[1;33m\u001b[0m\u001b[0m\n",
      "\u001b[1;32mD:\\Google Drive\\Doutorado\\CodeRepository\\phd-query-synthesis-git-lab\\PhDCoding\\qbe\\geneticqbe.py\u001b[0m in \u001b[0;36msimple_search\u001b[1;34m(self, population_size, crossover_rate, mutation_rate, num_generations, max_gen_without_gain, verbose)\u001b[0m\n\u001b[0;32m     81\u001b[0m         \u001b[0mhof\u001b[0m \u001b[1;33m=\u001b[0m \u001b[0mtools\u001b[0m\u001b[1;33m.\u001b[0m\u001b[0mHallOfFame\u001b[0m\u001b[1;33m(\u001b[0m\u001b[1;36m1\u001b[0m\u001b[1;33m)\u001b[0m\u001b[1;33m\u001b[0m\u001b[0m\n\u001b[0;32m     82\u001b[0m         pop, log = algorithms.eaSimple(pop, self.toolbox, crossover_rate, mutation_rate, num_generations, \n\u001b[1;32m---> 83\u001b[1;33m                                         stats=stats, halloffame=hof, verbose=verbose)\n\u001b[0m\u001b[0;32m     84\u001b[0m \u001b[1;33m\u001b[0m\u001b[0m\n\u001b[0;32m     85\u001b[0m         \u001b[1;32mreturn\u001b[0m \u001b[0mutil\u001b[0m\u001b[1;33m.\u001b[0m\u001b[0mgenetic_2_predicate\u001b[0m\u001b[1;33m(\u001b[0m\u001b[0mhof\u001b[0m\u001b[1;33m[\u001b[0m\u001b[1;36m0\u001b[0m\u001b[1;33m]\u001b[0m\u001b[1;33m)\u001b[0m\u001b[1;33m\u001b[0m\u001b[0m\n",
      "\u001b[1;32mC:\\Anaconda3\\lib\\site-packages\\deap\\algorithms.py\u001b[0m in \u001b[0;36meaSimple\u001b[1;34m(population, toolbox, cxpb, mutpb, ngen, stats, halloffame, verbose)\u001b[0m\n\u001b[0;32m    168\u001b[0m         \u001b[0minvalid_ind\u001b[0m \u001b[1;33m=\u001b[0m \u001b[1;33m[\u001b[0m\u001b[0mind\u001b[0m \u001b[1;32mfor\u001b[0m \u001b[0mind\u001b[0m \u001b[1;32min\u001b[0m \u001b[0moffspring\u001b[0m \u001b[1;32mif\u001b[0m \u001b[1;32mnot\u001b[0m \u001b[0mind\u001b[0m\u001b[1;33m.\u001b[0m\u001b[0mfitness\u001b[0m\u001b[1;33m.\u001b[0m\u001b[0mvalid\u001b[0m\u001b[1;33m]\u001b[0m\u001b[1;33m\u001b[0m\u001b[0m\n\u001b[0;32m    169\u001b[0m         \u001b[0mfitnesses\u001b[0m \u001b[1;33m=\u001b[0m \u001b[0mtoolbox\u001b[0m\u001b[1;33m.\u001b[0m\u001b[0mmap\u001b[0m\u001b[1;33m(\u001b[0m\u001b[0mtoolbox\u001b[0m\u001b[1;33m.\u001b[0m\u001b[0mevaluate\u001b[0m\u001b[1;33m,\u001b[0m \u001b[0minvalid_ind\u001b[0m\u001b[1;33m)\u001b[0m\u001b[1;33m\u001b[0m\u001b[0m\n\u001b[1;32m--> 170\u001b[1;33m         \u001b[1;32mfor\u001b[0m \u001b[0mind\u001b[0m\u001b[1;33m,\u001b[0m \u001b[0mfit\u001b[0m \u001b[1;32min\u001b[0m \u001b[0mzip\u001b[0m\u001b[1;33m(\u001b[0m\u001b[0minvalid_ind\u001b[0m\u001b[1;33m,\u001b[0m \u001b[0mfitnesses\u001b[0m\u001b[1;33m)\u001b[0m\u001b[1;33m:\u001b[0m\u001b[1;33m\u001b[0m\u001b[0m\n\u001b[0m\u001b[0;32m    171\u001b[0m             \u001b[0mind\u001b[0m\u001b[1;33m.\u001b[0m\u001b[0mfitness\u001b[0m\u001b[1;33m.\u001b[0m\u001b[0mvalues\u001b[0m \u001b[1;33m=\u001b[0m \u001b[0mfit\u001b[0m\u001b[1;33m\u001b[0m\u001b[0m\n\u001b[0;32m    172\u001b[0m \u001b[1;33m\u001b[0m\u001b[0m\n",
      "\u001b[1;32mD:\\Google Drive\\Doutorado\\CodeRepository\\phd-query-synthesis-git-lab\\PhDCoding\\qbe\\fitfunction.py\u001b[0m in \u001b[0;36mcalculate_genetic_fitness\u001b[1;34m(self, genetic_solution)\u001b[0m\n\u001b[0;32m      9\u001b[0m     \u001b[1;32mdef\u001b[0m \u001b[0mcalculate_genetic_fitness\u001b[0m\u001b[1;33m(\u001b[0m\u001b[0mself\u001b[0m\u001b[1;33m,\u001b[0m \u001b[0mgenetic_solution\u001b[0m\u001b[1;33m)\u001b[0m\u001b[1;33m:\u001b[0m\u001b[1;33m\u001b[0m\u001b[0m\n\u001b[0;32m     10\u001b[0m         \u001b[0mquery\u001b[0m \u001b[1;33m=\u001b[0m \u001b[0mutil\u001b[0m\u001b[1;33m.\u001b[0m\u001b[0mclassification_rule_2_sql\u001b[0m\u001b[1;33m(\u001b[0m\u001b[0mutil\u001b[0m\u001b[1;33m.\u001b[0m\u001b[0mgenetic_2_predicate\u001b[0m\u001b[1;33m(\u001b[0m\u001b[0mgenetic_solution\u001b[0m\u001b[1;33m)\u001b[0m\u001b[1;33m)\u001b[0m\u001b[1;33m\u001b[0m\u001b[0m\n\u001b[1;32m---> 11\u001b[1;33m         \u001b[1;32mreturn\u001b[0m \u001b[0mself\u001b[0m\u001b[1;33m.\u001b[0m\u001b[0mbase_calculate\u001b[0m\u001b[1;33m(\u001b[0m\u001b[0mquery\u001b[0m\u001b[1;33m)\u001b[0m\u001b[1;33m,\u001b[0m\u001b[1;33m\u001b[0m\u001b[0m\n\u001b[0m\u001b[0;32m     12\u001b[0m \u001b[1;33m\u001b[0m\u001b[0m\n\u001b[0;32m     13\u001b[0m     \u001b[1;32mdef\u001b[0m \u001b[0mmoop_calculate_genetic_fitness\u001b[0m\u001b[1;33m(\u001b[0m\u001b[0mself\u001b[0m\u001b[1;33m,\u001b[0m \u001b[0mgenetic_solution\u001b[0m\u001b[1;33m)\u001b[0m\u001b[1;33m:\u001b[0m\u001b[1;33m\u001b[0m\u001b[0m\n",
      "\u001b[1;32mD:\\Google Drive\\Doutorado\\CodeRepository\\phd-query-synthesis-git-lab\\PhDCoding\\qbe\\fitfunction.py\u001b[0m in \u001b[0;36mbase_calculate\u001b[1;34m(self, query, multi_objective)\u001b[0m\n\u001b[0;32m     21\u001b[0m     \u001b[1;32mdef\u001b[0m \u001b[0mbase_calculate\u001b[0m\u001b[1;33m(\u001b[0m\u001b[0mself\u001b[0m\u001b[1;33m,\u001b[0m \u001b[0mquery\u001b[0m\u001b[1;33m,\u001b[0m \u001b[0mmulti_objective\u001b[0m\u001b[1;33m=\u001b[0m\u001b[1;32mFalse\u001b[0m\u001b[1;33m)\u001b[0m\u001b[1;33m:\u001b[0m\u001b[1;33m\u001b[0m\u001b[0m\n\u001b[0;32m     22\u001b[0m         \u001b[1;32mtry\u001b[0m\u001b[1;33m:\u001b[0m\u001b[1;33m\u001b[0m\u001b[0m\n\u001b[1;32m---> 23\u001b[1;33m             \u001b[0mactual_output\u001b[0m \u001b[1;33m=\u001b[0m \u001b[0mself\u001b[0m\u001b[1;33m.\u001b[0m\u001b[0mpysql\u001b[0m\u001b[1;33m(\u001b[0m\u001b[0mquery\u001b[0m\u001b[1;33m)\u001b[0m\u001b[1;33m\u001b[0m\u001b[0m\n\u001b[0m\u001b[0;32m     24\u001b[0m             \u001b[0mactual_set\u001b[0m \u001b[1;33m=\u001b[0m \u001b[0mutil\u001b[0m\u001b[1;33m.\u001b[0m\u001b[0mconvert_nparray_to_set\u001b[0m\u001b[1;33m(\u001b[0m\u001b[0mactual_output\u001b[0m\u001b[1;33m)\u001b[0m\u001b[1;33m\u001b[0m\u001b[0m\n\u001b[0;32m     25\u001b[0m         \u001b[1;32mexcept\u001b[0m \u001b[0mpdsql\u001b[0m\u001b[1;33m.\u001b[0m\u001b[0mPandaSQLException\u001b[0m\u001b[1;33m:\u001b[0m \u001b[1;31m# not valid SQL query\u001b[0m\u001b[1;33m\u001b[0m\u001b[0m\n",
      "\u001b[1;32m<ipython-input-6-201ea5980e33>\u001b[0m in \u001b[0;36m<lambda>\u001b[1;34m(q)\u001b[0m\n\u001b[0;32m      7\u001b[0m \u001b[1;33m\u001b[0m\u001b[0m\n\u001b[0;32m      8\u001b[0m \u001b[1;31m# Configure PandaSQL to query Pandas dataframe\u001b[0m\u001b[1;33m\u001b[0m\u001b[1;33m\u001b[0m\u001b[0m\n\u001b[1;32m----> 9\u001b[1;33m \u001b[0mpysql\u001b[0m \u001b[1;33m=\u001b[0m \u001b[1;32mlambda\u001b[0m \u001b[0mq\u001b[0m\u001b[1;33m:\u001b[0m \u001b[0mpdsql\u001b[0m\u001b[1;33m.\u001b[0m\u001b[0msqldf\u001b[0m\u001b[1;33m(\u001b[0m\u001b[0mq\u001b[0m\u001b[1;33m,\u001b[0m \u001b[0mglobals\u001b[0m\u001b[1;33m(\u001b[0m\u001b[1;33m)\u001b[0m\u001b[1;33m)\u001b[0m\u001b[1;33m\u001b[0m\u001b[0m\n\u001b[0m",
      "\u001b[1;32mC:\\Anaconda3\\lib\\site-packages\\pandasql\\sqldf.py\u001b[0m in \u001b[0;36msqldf\u001b[1;34m(query, env, db_uri)\u001b[0m\n\u001b[0;32m    154\u001b[0m     \u001b[1;33m>>\u001b[0m\u001b[1;33m>\u001b[0m \u001b[0msqldf\u001b[0m\u001b[1;33m(\u001b[0m\u001b[1;34m\"select avg(x) from df;\"\u001b[0m\u001b[1;33m,\u001b[0m \u001b[0mlocals\u001b[0m\u001b[1;33m(\u001b[0m\u001b[1;33m)\u001b[0m\u001b[1;33m)\u001b[0m\u001b[1;33m\u001b[0m\u001b[0m\n\u001b[0;32m    155\u001b[0m     \"\"\"\n\u001b[1;32m--> 156\u001b[1;33m     \u001b[1;32mreturn\u001b[0m \u001b[0mPandaSQL\u001b[0m\u001b[1;33m(\u001b[0m\u001b[0mdb_uri\u001b[0m\u001b[1;33m)\u001b[0m\u001b[1;33m(\u001b[0m\u001b[0mquery\u001b[0m\u001b[1;33m,\u001b[0m \u001b[0menv\u001b[0m\u001b[1;33m)\u001b[0m\u001b[1;33m\u001b[0m\u001b[0m\n\u001b[0m",
      "\u001b[1;32mC:\\Anaconda3\\lib\\site-packages\\pandasql\\sqldf.py\u001b[0m in \u001b[0;36m__call__\u001b[1;34m(self, query, env)\u001b[0m\n\u001b[0;32m     56\u001b[0m                     \u001b[1;32mcontinue\u001b[0m\u001b[1;33m\u001b[0m\u001b[0m\n\u001b[0;32m     57\u001b[0m                 \u001b[0mself\u001b[0m\u001b[1;33m.\u001b[0m\u001b[0mloaded_tables\u001b[0m\u001b[1;33m.\u001b[0m\u001b[0madd\u001b[0m\u001b[1;33m(\u001b[0m\u001b[0mtable_name\u001b[0m\u001b[1;33m)\u001b[0m\u001b[1;33m\u001b[0m\u001b[0m\n\u001b[1;32m---> 58\u001b[1;33m                 \u001b[0mwrite_table\u001b[0m\u001b[1;33m(\u001b[0m\u001b[0menv\u001b[0m\u001b[1;33m[\u001b[0m\u001b[0mtable_name\u001b[0m\u001b[1;33m]\u001b[0m\u001b[1;33m,\u001b[0m \u001b[0mtable_name\u001b[0m\u001b[1;33m,\u001b[0m \u001b[0mconn\u001b[0m\u001b[1;33m)\u001b[0m\u001b[1;33m\u001b[0m\u001b[0m\n\u001b[0m\u001b[0;32m     59\u001b[0m \u001b[1;33m\u001b[0m\u001b[0m\n\u001b[0;32m     60\u001b[0m             \u001b[1;32mtry\u001b[0m\u001b[1;33m:\u001b[0m\u001b[1;33m\u001b[0m\u001b[0m\n",
      "\u001b[1;32mC:\\Anaconda3\\lib\\site-packages\\pandasql\\sqldf.py\u001b[0m in \u001b[0;36mwrite_table\u001b[1;34m(df, tablename, conn)\u001b[0m\n\u001b[0;32m    119\u001b[0m                        message='The provided table name \\'%s\\' is not found exactly as such in the database' % tablename)\n\u001b[0;32m    120\u001b[0m         to_sql(df, name=tablename, con=conn,\n\u001b[1;32m--> 121\u001b[1;33m                index=not any(name is None for name in df.index.names))  # load index into db if all levels are named\n\u001b[0m\u001b[0;32m    122\u001b[0m \u001b[1;33m\u001b[0m\u001b[0m\n\u001b[0;32m    123\u001b[0m \u001b[1;33m\u001b[0m\u001b[0m\n",
      "\u001b[1;32mC:\\Anaconda3\\lib\\site-packages\\pandas\\io\\sql.py\u001b[0m in \u001b[0;36mto_sql\u001b[1;34m(frame, name, con, flavor, schema, if_exists, index, index_label, chunksize, dtype)\u001b[0m\n\u001b[0;32m    471\u001b[0m     pandas_sql.to_sql(frame, name, if_exists=if_exists, index=index,\n\u001b[0;32m    472\u001b[0m                       \u001b[0mindex_label\u001b[0m\u001b[1;33m=\u001b[0m\u001b[0mindex_label\u001b[0m\u001b[1;33m,\u001b[0m \u001b[0mschema\u001b[0m\u001b[1;33m=\u001b[0m\u001b[0mschema\u001b[0m\u001b[1;33m,\u001b[0m\u001b[1;33m\u001b[0m\u001b[0m\n\u001b[1;32m--> 473\u001b[1;33m                       chunksize=chunksize, dtype=dtype)\n\u001b[0m\u001b[0;32m    474\u001b[0m \u001b[1;33m\u001b[0m\u001b[0m\n\u001b[0;32m    475\u001b[0m \u001b[1;33m\u001b[0m\u001b[0m\n",
      "\u001b[1;32mC:\\Anaconda3\\lib\\site-packages\\pandas\\io\\sql.py\u001b[0m in \u001b[0;36mto_sql\u001b[1;34m(self, frame, name, if_exists, index, index_label, schema, chunksize, dtype)\u001b[0m\n\u001b[0;32m   1153\u001b[0m                          \u001b[0mif_exists\u001b[0m\u001b[1;33m=\u001b[0m\u001b[0mif_exists\u001b[0m\u001b[1;33m,\u001b[0m \u001b[0mindex_label\u001b[0m\u001b[1;33m=\u001b[0m\u001b[0mindex_label\u001b[0m\u001b[1;33m,\u001b[0m\u001b[1;33m\u001b[0m\u001b[0m\n\u001b[0;32m   1154\u001b[0m                          schema=schema, dtype=dtype)\n\u001b[1;32m-> 1155\u001b[1;33m         \u001b[0mtable\u001b[0m\u001b[1;33m.\u001b[0m\u001b[0mcreate\u001b[0m\u001b[1;33m(\u001b[0m\u001b[1;33m)\u001b[0m\u001b[1;33m\u001b[0m\u001b[0m\n\u001b[0m\u001b[0;32m   1156\u001b[0m         \u001b[0mtable\u001b[0m\u001b[1;33m.\u001b[0m\u001b[0minsert\u001b[0m\u001b[1;33m(\u001b[0m\u001b[0mchunksize\u001b[0m\u001b[1;33m)\u001b[0m\u001b[1;33m\u001b[0m\u001b[0m\n\u001b[0;32m   1157\u001b[0m         \u001b[1;32mif\u001b[0m \u001b[1;33m(\u001b[0m\u001b[1;32mnot\u001b[0m \u001b[0mname\u001b[0m\u001b[1;33m.\u001b[0m\u001b[0misdigit\u001b[0m\u001b[1;33m(\u001b[0m\u001b[1;33m)\u001b[0m \u001b[1;32mand\u001b[0m \u001b[1;32mnot\u001b[0m \u001b[0mname\u001b[0m\u001b[1;33m.\u001b[0m\u001b[0mislower\u001b[0m\u001b[1;33m(\u001b[0m\u001b[1;33m)\u001b[0m\u001b[1;33m)\u001b[0m\u001b[1;33m:\u001b[0m\u001b[1;33m\u001b[0m\u001b[0m\n",
      "\u001b[1;32mC:\\Anaconda3\\lib\\site-packages\\pandas\\io\\sql.py\u001b[0m in \u001b[0;36mcreate\u001b[1;34m(self)\u001b[0m\n\u001b[0;32m    588\u001b[0m \u001b[1;33m\u001b[0m\u001b[0m\n\u001b[0;32m    589\u001b[0m     \u001b[1;32mdef\u001b[0m \u001b[0mcreate\u001b[0m\u001b[1;33m(\u001b[0m\u001b[0mself\u001b[0m\u001b[1;33m)\u001b[0m\u001b[1;33m:\u001b[0m\u001b[1;33m\u001b[0m\u001b[0m\n\u001b[1;32m--> 590\u001b[1;33m         \u001b[1;32mif\u001b[0m \u001b[0mself\u001b[0m\u001b[1;33m.\u001b[0m\u001b[0mexists\u001b[0m\u001b[1;33m(\u001b[0m\u001b[1;33m)\u001b[0m\u001b[1;33m:\u001b[0m\u001b[1;33m\u001b[0m\u001b[0m\n\u001b[0m\u001b[0;32m    591\u001b[0m             \u001b[1;32mif\u001b[0m \u001b[0mself\u001b[0m\u001b[1;33m.\u001b[0m\u001b[0mif_exists\u001b[0m \u001b[1;33m==\u001b[0m \u001b[1;34m'fail'\u001b[0m\u001b[1;33m:\u001b[0m\u001b[1;33m\u001b[0m\u001b[0m\n\u001b[0;32m    592\u001b[0m                 \u001b[1;32mraise\u001b[0m \u001b[0mValueError\u001b[0m\u001b[1;33m(\u001b[0m\u001b[1;34m\"Table '%s' already exists.\"\u001b[0m \u001b[1;33m%\u001b[0m \u001b[0mself\u001b[0m\u001b[1;33m.\u001b[0m\u001b[0mname\u001b[0m\u001b[1;33m)\u001b[0m\u001b[1;33m\u001b[0m\u001b[0m\n",
      "\u001b[1;32mC:\\Anaconda3\\lib\\site-packages\\pandas\\io\\sql.py\u001b[0m in \u001b[0;36mexists\u001b[1;34m(self)\u001b[0m\n\u001b[0;32m    576\u001b[0m \u001b[1;33m\u001b[0m\u001b[0m\n\u001b[0;32m    577\u001b[0m     \u001b[1;32mdef\u001b[0m \u001b[0mexists\u001b[0m\u001b[1;33m(\u001b[0m\u001b[0mself\u001b[0m\u001b[1;33m)\u001b[0m\u001b[1;33m:\u001b[0m\u001b[1;33m\u001b[0m\u001b[0m\n\u001b[1;32m--> 578\u001b[1;33m         \u001b[1;32mreturn\u001b[0m \u001b[0mself\u001b[0m\u001b[1;33m.\u001b[0m\u001b[0mpd_sql\u001b[0m\u001b[1;33m.\u001b[0m\u001b[0mhas_table\u001b[0m\u001b[1;33m(\u001b[0m\u001b[0mself\u001b[0m\u001b[1;33m.\u001b[0m\u001b[0mname\u001b[0m\u001b[1;33m,\u001b[0m \u001b[0mself\u001b[0m\u001b[1;33m.\u001b[0m\u001b[0mschema\u001b[0m\u001b[1;33m)\u001b[0m\u001b[1;33m\u001b[0m\u001b[0m\n\u001b[0m\u001b[0;32m    579\u001b[0m \u001b[1;33m\u001b[0m\u001b[0m\n\u001b[0;32m    580\u001b[0m     \u001b[1;32mdef\u001b[0m \u001b[0msql_schema\u001b[0m\u001b[1;33m(\u001b[0m\u001b[0mself\u001b[0m\u001b[1;33m)\u001b[0m\u001b[1;33m:\u001b[0m\u001b[1;33m\u001b[0m\u001b[0m\n",
      "\u001b[1;32mC:\\Anaconda3\\lib\\site-packages\\pandas\\io\\sql.py\u001b[0m in \u001b[0;36mhas_table\u001b[1;34m(self, name, schema)\u001b[0m\n\u001b[0;32m   1181\u001b[0m             \u001b[0mself\u001b[0m\u001b[1;33m.\u001b[0m\u001b[0mconnectable\u001b[0m\u001b[1;33m.\u001b[0m\u001b[0mdialect\u001b[0m\u001b[1;33m.\u001b[0m\u001b[0mhas_table\u001b[0m\u001b[1;33m,\u001b[0m\u001b[1;33m\u001b[0m\u001b[0m\n\u001b[0;32m   1182\u001b[0m             \u001b[0mname\u001b[0m\u001b[1;33m,\u001b[0m\u001b[1;33m\u001b[0m\u001b[0m\n\u001b[1;32m-> 1183\u001b[1;33m             \u001b[0mschema\u001b[0m \u001b[1;32mor\u001b[0m \u001b[0mself\u001b[0m\u001b[1;33m.\u001b[0m\u001b[0mmeta\u001b[0m\u001b[1;33m.\u001b[0m\u001b[0mschema\u001b[0m\u001b[1;33m,\u001b[0m\u001b[1;33m\u001b[0m\u001b[0m\n\u001b[0m\u001b[0;32m   1184\u001b[0m         )\n\u001b[0;32m   1185\u001b[0m \u001b[1;33m\u001b[0m\u001b[0m\n",
      "\u001b[1;32mC:\\Anaconda3\\lib\\site-packages\\sqlalchemy\\engine\\base.py\u001b[0m in \u001b[0;36mrun_callable\u001b[1;34m(self, callable_, *args, **kwargs)\u001b[0m\n\u001b[0;32m   1475\u001b[0m \u001b[1;33m\u001b[0m\u001b[0m\n\u001b[0;32m   1476\u001b[0m         \"\"\"\n\u001b[1;32m-> 1477\u001b[1;33m         \u001b[1;32mreturn\u001b[0m \u001b[0mcallable_\u001b[0m\u001b[1;33m(\u001b[0m\u001b[0mself\u001b[0m\u001b[1;33m,\u001b[0m \u001b[1;33m*\u001b[0m\u001b[0margs\u001b[0m\u001b[1;33m,\u001b[0m \u001b[1;33m**\u001b[0m\u001b[0mkwargs\u001b[0m\u001b[1;33m)\u001b[0m\u001b[1;33m\u001b[0m\u001b[0m\n\u001b[0m\u001b[0;32m   1478\u001b[0m \u001b[1;33m\u001b[0m\u001b[0m\n\u001b[0;32m   1479\u001b[0m     \u001b[1;32mdef\u001b[0m \u001b[0m_run_visitor\u001b[0m\u001b[1;33m(\u001b[0m\u001b[0mself\u001b[0m\u001b[1;33m,\u001b[0m \u001b[0mvisitorcallable\u001b[0m\u001b[1;33m,\u001b[0m \u001b[0melement\u001b[0m\u001b[1;33m,\u001b[0m \u001b[1;33m**\u001b[0m\u001b[0mkwargs\u001b[0m\u001b[1;33m)\u001b[0m\u001b[1;33m:\u001b[0m\u001b[1;33m\u001b[0m\u001b[0m\n",
      "\u001b[1;32mC:\\Anaconda3\\lib\\site-packages\\sqlalchemy\\dialects\\sqlite\\base.py\u001b[0m in \u001b[0;36mhas_table\u001b[1;34m(self, connection, table_name, schema)\u001b[0m\n\u001b[0;32m   1137\u001b[0m     \u001b[1;32mdef\u001b[0m \u001b[0mhas_table\u001b[0m\u001b[1;33m(\u001b[0m\u001b[0mself\u001b[0m\u001b[1;33m,\u001b[0m \u001b[0mconnection\u001b[0m\u001b[1;33m,\u001b[0m \u001b[0mtable_name\u001b[0m\u001b[1;33m,\u001b[0m \u001b[0mschema\u001b[0m\u001b[1;33m=\u001b[0m\u001b[1;32mNone\u001b[0m\u001b[1;33m)\u001b[0m\u001b[1;33m:\u001b[0m\u001b[1;33m\u001b[0m\u001b[0m\n\u001b[0;32m   1138\u001b[0m         info = self._get_table_pragma(\n\u001b[1;32m-> 1139\u001b[1;33m             connection, \"table_info\", table_name, schema=schema)\n\u001b[0m\u001b[0;32m   1140\u001b[0m         \u001b[1;32mreturn\u001b[0m \u001b[0mbool\u001b[0m\u001b[1;33m(\u001b[0m\u001b[0minfo\u001b[0m\u001b[1;33m)\u001b[0m\u001b[1;33m\u001b[0m\u001b[0m\n\u001b[0;32m   1141\u001b[0m \u001b[1;33m\u001b[0m\u001b[0m\n",
      "\u001b[1;32mC:\\Anaconda3\\lib\\site-packages\\sqlalchemy\\dialects\\sqlite\\base.py\u001b[0m in \u001b[0;36m_get_table_pragma\u001b[1;34m(self, connection, pragma, table_name, schema)\u001b[0m\n\u001b[0;32m   1478\u001b[0m         \u001b[0mqtable\u001b[0m \u001b[1;33m=\u001b[0m \u001b[0mquote\u001b[0m\u001b[1;33m(\u001b[0m\u001b[0mtable_name\u001b[0m\u001b[1;33m)\u001b[0m\u001b[1;33m\u001b[0m\u001b[0m\n\u001b[0;32m   1479\u001b[0m         \u001b[0mstatement\u001b[0m \u001b[1;33m=\u001b[0m \u001b[1;34m\"%s%s(%s)\"\u001b[0m \u001b[1;33m%\u001b[0m \u001b[1;33m(\u001b[0m\u001b[0mstatement\u001b[0m\u001b[1;33m,\u001b[0m \u001b[0mpragma\u001b[0m\u001b[1;33m,\u001b[0m \u001b[0mqtable\u001b[0m\u001b[1;33m)\u001b[0m\u001b[1;33m\u001b[0m\u001b[0m\n\u001b[1;32m-> 1480\u001b[1;33m         \u001b[0mcursor\u001b[0m \u001b[1;33m=\u001b[0m \u001b[0mconnection\u001b[0m\u001b[1;33m.\u001b[0m\u001b[0mexecute\u001b[0m\u001b[1;33m(\u001b[0m\u001b[0mstatement\u001b[0m\u001b[1;33m)\u001b[0m\u001b[1;33m\u001b[0m\u001b[0m\n\u001b[0m\u001b[0;32m   1481\u001b[0m         \u001b[1;32mif\u001b[0m \u001b[1;32mnot\u001b[0m \u001b[0mcursor\u001b[0m\u001b[1;33m.\u001b[0m\u001b[0m_soft_closed\u001b[0m\u001b[1;33m:\u001b[0m\u001b[1;33m\u001b[0m\u001b[0m\n\u001b[0;32m   1482\u001b[0m             \u001b[1;31m# work around SQLite issue whereby cursor.description\u001b[0m\u001b[1;33m\u001b[0m\u001b[1;33m\u001b[0m\u001b[0m\n",
      "\u001b[1;32mC:\\Anaconda3\\lib\\site-packages\\sqlalchemy\\engine\\base.py\u001b[0m in \u001b[0;36mexecute\u001b[1;34m(self, object, *multiparams, **params)\u001b[0m\n\u001b[0;32m    904\u001b[0m         \"\"\"\n\u001b[0;32m    905\u001b[0m         \u001b[1;32mif\u001b[0m \u001b[0misinstance\u001b[0m\u001b[1;33m(\u001b[0m\u001b[0mobject\u001b[0m\u001b[1;33m,\u001b[0m \u001b[0mutil\u001b[0m\u001b[1;33m.\u001b[0m\u001b[0mstring_types\u001b[0m\u001b[1;33m[\u001b[0m\u001b[1;36m0\u001b[0m\u001b[1;33m]\u001b[0m\u001b[1;33m)\u001b[0m\u001b[1;33m:\u001b[0m\u001b[1;33m\u001b[0m\u001b[0m\n\u001b[1;32m--> 906\u001b[1;33m             \u001b[1;32mreturn\u001b[0m \u001b[0mself\u001b[0m\u001b[1;33m.\u001b[0m\u001b[0m_execute_text\u001b[0m\u001b[1;33m(\u001b[0m\u001b[0mobject\u001b[0m\u001b[1;33m,\u001b[0m \u001b[0mmultiparams\u001b[0m\u001b[1;33m,\u001b[0m \u001b[0mparams\u001b[0m\u001b[1;33m)\u001b[0m\u001b[1;33m\u001b[0m\u001b[0m\n\u001b[0m\u001b[0;32m    907\u001b[0m         \u001b[1;32mtry\u001b[0m\u001b[1;33m:\u001b[0m\u001b[1;33m\u001b[0m\u001b[0m\n\u001b[0;32m    908\u001b[0m             \u001b[0mmeth\u001b[0m \u001b[1;33m=\u001b[0m \u001b[0mobject\u001b[0m\u001b[1;33m.\u001b[0m\u001b[0m_execute_on_connection\u001b[0m\u001b[1;33m\u001b[0m\u001b[0m\n",
      "\u001b[1;32mC:\\Anaconda3\\lib\\site-packages\\sqlalchemy\\engine\\base.py\u001b[0m in \u001b[0;36m_execute_text\u001b[1;34m(self, statement, multiparams, params)\u001b[0m\n\u001b[0;32m   1052\u001b[0m             \u001b[0mstatement\u001b[0m\u001b[1;33m,\u001b[0m\u001b[1;33m\u001b[0m\u001b[0m\n\u001b[0;32m   1053\u001b[0m             \u001b[0mparameters\u001b[0m\u001b[1;33m,\u001b[0m\u001b[1;33m\u001b[0m\u001b[0m\n\u001b[1;32m-> 1054\u001b[1;33m             \u001b[0mstatement\u001b[0m\u001b[1;33m,\u001b[0m \u001b[0mparameters\u001b[0m\u001b[1;33m\u001b[0m\u001b[0m\n\u001b[0m\u001b[0;32m   1055\u001b[0m         )\n\u001b[0;32m   1056\u001b[0m         \u001b[1;32mif\u001b[0m \u001b[0mself\u001b[0m\u001b[1;33m.\u001b[0m\u001b[0m_has_events\u001b[0m \u001b[1;32mor\u001b[0m \u001b[0mself\u001b[0m\u001b[1;33m.\u001b[0m\u001b[0mengine\u001b[0m\u001b[1;33m.\u001b[0m\u001b[0m_has_events\u001b[0m\u001b[1;33m:\u001b[0m\u001b[1;33m\u001b[0m\u001b[0m\n",
      "\u001b[1;32mC:\\Anaconda3\\lib\\site-packages\\sqlalchemy\\engine\\base.py\u001b[0m in \u001b[0;36m_execute_context\u001b[1;34m(self, dialect, constructor, statement, parameters, *args)\u001b[0m\n\u001b[0;32m   1137\u001b[0m                         \u001b[0mstatement\u001b[0m\u001b[1;33m,\u001b[0m\u001b[1;33m\u001b[0m\u001b[0m\n\u001b[0;32m   1138\u001b[0m                         \u001b[0mparameters\u001b[0m\u001b[1;33m,\u001b[0m\u001b[1;33m\u001b[0m\u001b[0m\n\u001b[1;32m-> 1139\u001b[1;33m                         context)\n\u001b[0m\u001b[0;32m   1140\u001b[0m         \u001b[1;32mexcept\u001b[0m \u001b[0mException\u001b[0m \u001b[1;32mas\u001b[0m \u001b[0me\u001b[0m\u001b[1;33m:\u001b[0m\u001b[1;33m\u001b[0m\u001b[0m\n\u001b[0;32m   1141\u001b[0m             self._handle_dbapi_exception(\n",
      "\u001b[1;32mC:\\Anaconda3\\lib\\site-packages\\sqlalchemy\\engine\\default.py\u001b[0m in \u001b[0;36mdo_execute\u001b[1;34m(self, cursor, statement, parameters, context)\u001b[0m\n\u001b[0;32m    448\u001b[0m \u001b[1;33m\u001b[0m\u001b[0m\n\u001b[0;32m    449\u001b[0m     \u001b[1;32mdef\u001b[0m \u001b[0mdo_execute\u001b[0m\u001b[1;33m(\u001b[0m\u001b[0mself\u001b[0m\u001b[1;33m,\u001b[0m \u001b[0mcursor\u001b[0m\u001b[1;33m,\u001b[0m \u001b[0mstatement\u001b[0m\u001b[1;33m,\u001b[0m \u001b[0mparameters\u001b[0m\u001b[1;33m,\u001b[0m \u001b[0mcontext\u001b[0m\u001b[1;33m=\u001b[0m\u001b[1;32mNone\u001b[0m\u001b[1;33m)\u001b[0m\u001b[1;33m:\u001b[0m\u001b[1;33m\u001b[0m\u001b[0m\n\u001b[1;32m--> 450\u001b[1;33m         \u001b[0mcursor\u001b[0m\u001b[1;33m.\u001b[0m\u001b[0mexecute\u001b[0m\u001b[1;33m(\u001b[0m\u001b[0mstatement\u001b[0m\u001b[1;33m,\u001b[0m \u001b[0mparameters\u001b[0m\u001b[1;33m)\u001b[0m\u001b[1;33m\u001b[0m\u001b[0m\n\u001b[0m\u001b[0;32m    451\u001b[0m \u001b[1;33m\u001b[0m\u001b[0m\n\u001b[0;32m    452\u001b[0m     \u001b[1;32mdef\u001b[0m \u001b[0mdo_execute_no_params\u001b[0m\u001b[1;33m(\u001b[0m\u001b[0mself\u001b[0m\u001b[1;33m,\u001b[0m \u001b[0mcursor\u001b[0m\u001b[1;33m,\u001b[0m \u001b[0mstatement\u001b[0m\u001b[1;33m,\u001b[0m \u001b[0mcontext\u001b[0m\u001b[1;33m=\u001b[0m\u001b[1;32mNone\u001b[0m\u001b[1;33m)\u001b[0m\u001b[1;33m:\u001b[0m\u001b[1;33m\u001b[0m\u001b[0m\n",
      "\u001b[1;31mKeyboardInterrupt\u001b[0m: "
     ]
    }
   ],
   "source": [
    "for experiment in range(10):\n",
    "    unknown_queries_discovery(dataframe, tuples_count=1)\n",
    "    unknown_queries_discovery(dataframe, tuples_count=15)\n",
    "    unknown_queries_discovery(dataframe, tuples_count=50)\n",
    "    unknown_queries_discovery(dataframe, tuples_count=100)\n",
    "    \n",
    "print('Finished')    "
   ]
  },
  {
   "cell_type": "markdown",
   "metadata": {},
   "source": [
    "### Experiment 2: Discovering alternative queries"
   ]
  },
  {
   "cell_type": "code",
   "execution_count": 7,
   "metadata": {
    "collapsed": true
   },
   "outputs": [],
   "source": [
    "def alternative_query_discovery(dataframe, index_list):\n",
    "    selectivity = len(index_list)\n",
    "    filename = '_altq_selectivity_{0}.txt'.format(selectivity)\n",
    "\n",
    "    desired_output = dataframe.loc[index_list]\n",
    "    total_set = util.convert_nparray_to_set(dataframe)\n",
    "    desired_set = util.convert_nparray_to_set(desired_output)\n",
    "    undesired_set = total_set - desired_set\n",
    "\n",
    "    fitness_function = FitnessFunction(desired_set, undesired_set, pysql)\n",
    "    \n",
    "    #algorithm = GreedySearchQBE(fitness_function, dataframe)\n",
    "    #best_predicate = algorithm.search_best_predicate(max_iterations=100, threshold=0.001)\n",
    "    #results = get_results(best_predicate, dataframe, desired_set, undesired_set)\n",
    "    \n",
    "    #write_file_results(results, 'greedy' + filename)\n",
    "\n",
    "    #algorithm = DecisionTreeQBE(dataframe, index_list)\n",
    "    #best_predicate = algorithm.search_best_predicate()\n",
    "    #results = get_results(best_predicate, dataframe, desired_set, undesired_set)\n",
    "\n",
    "    #write_file_results(results, 'tree' + filename)\n",
    "\n",
    "    algorithm = GeneticProgrammingQBE(dataframe, fitness_function)\n",
    "    best_predicate = algorithm.simple_search(population_size=200, crossover_rate=0.80, \n",
    "                                                            mutation_rate=0.20, num_generations=100, \n",
    "                                                            max_gen_without_gain=20, verbose=False)\n",
    "    results = get_results(best_predicate, dataframe, desired_set, undesired_set)\n",
    "    \n",
    "    write_file_results(results, 'gp' + filename)"
   ]
  },
  {
   "cell_type": "code",
   "execution_count": 8,
   "metadata": {},
   "outputs": [],
   "source": [
    "original_queries = [\"SELECT * FROM dataframe WHERE petal_len >= 4.0 AND petal_wid = 1.8 AND target = 1\",\n",
    "                    \"SELECT * FROM dataframe WHERE sepal_len > 6.5 AND petal_wid >= 1.3 AND petal_wid <= 1.9\",\n",
    "                    \"SELECT * FROM dataframe WHERE sepal_wid <> 3.0 AND petal_len <> 1.4\"]"
   ]
  },
  {
   "cell_type": "code",
   "execution_count": 9,
   "metadata": {},
   "outputs": [
    {
     "name": "stdout",
     "output_type": "stream",
     "text": [
      "Finished\n"
     ]
    }
   ],
   "source": [
    "for query in original_queries:\n",
    "    view = pysql(query)\n",
    "    indices = util.get_original_indexes_from_view(dataframe, view)\n",
    "            \n",
    "    for i in range(10):\n",
    "        alternative_query_discovery(dataframe, indices)\n",
    "\n",
    "print('Finished')"
   ]
  },
  {
   "cell_type": "markdown",
   "metadata": {},
   "source": [
    "### Experiment 3: Classification Rule"
   ]
  },
  {
   "cell_type": "code",
   "execution_count": null,
   "metadata": {},
   "outputs": [],
   "source": [
    "def discover_without_target_class(dataframe, index_list):\n",
    "    selectivity = len(index_list)\n",
    "    filename = '_altq_selectivity_100_15.txt'\n",
    "\n",
    "    desired_output = dataframe.loc[index_list]\n",
    "    total_set = util.convert_nparray_to_set(dataframe)\n",
    "    desired_set = util.convert_nparray_to_set(desired_output)\n",
    "    undesired_set = total_set - desired_set\n",
    "\n",
    "    fitness_function = FitnessFunction(desired_set, undesired_set, pysql)\n",
    "    \n",
    "    algorithm = GreedySearchQBE(fitness_function, dataframe)\n",
    "    best_predicate = algorithm.search_best_predicate(max_iterations=100, threshold=0.001)\n",
    "    results = get_results(best_predicate, dataframe, desired_set, undesired_set)\n",
    "    \n",
    "    write_file_results(results, 'greedy' + filename)\n",
    "    \n",
    "    algorithm = DecisionTreeQBE(dataframe, index_list)\n",
    "    best_predicate = algorithm.search_best_predicate()\n",
    "    results = get_results(best_predicate, dataframe, desired_set, undesired_set)\n",
    "\n",
    "    write_file_results(results, 'tree' + filename)\n",
    "\n",
    "    algorithm = GeneticProgrammingQBE(dataframe, fitness_function)\n",
    "    best_predicate = algorithm.simple_search(population_size=200, crossover_rate=0.80, \n",
    "                                                            mutation_rate=0.20, num_generations=100, \n",
    "                                                            max_gen_without_gain=20, verbose=False)\n",
    "    results = get_results(best_predicate, dataframe, desired_set, undesired_set)\n",
    "\n",
    "    write_file_results(results, 'gp' + filename)"
   ]
  },
  {
   "cell_type": "code",
   "execution_count": null,
   "metadata": {},
   "outputs": [],
   "source": [
    "dataframe = pd.DataFrame(data= iris['data'], columns= iris['feature_names'])\n",
    "\n",
    "dataframe.columns = [\"sepal_len\", \"sepal_wid\", \"petal_len\", \"petal_wid\"]\n",
    "\n",
    "# Configure PandaSQL to query Pandas dataframe\n",
    "pysql = lambda q: pdsql.sqldf(q, globals())\n",
    "\n",
    "indices = [x for x in range(100, 150)]\n",
    "[discover_without_target_class(dataframe, indices) for i in range(10)]"
   ]
  },
  {
   "cell_type": "code",
   "execution_count": null,
   "metadata": {},
   "outputs": [],
   "source": [
    "view = pysql(\"SELECT * FROM dataframe\")\n",
    "view"
   ]
  },
  {
   "cell_type": "markdown",
   "metadata": {},
   "source": [
    "### Experiment CAR dataset"
   ]
  },
  {
   "cell_type": "code",
   "execution_count": 7,
   "metadata": {},
   "outputs": [],
   "source": [
    "from datamanagement.dataaccessobject import DataAccessObject, Dataset"
   ]
  },
  {
   "cell_type": "code",
   "execution_count": 8,
   "metadata": {},
   "outputs": [],
   "source": [
    "DAO = DataAccessObject()\n",
    "dataset = DAO.get_car_dataset()"
   ]
  },
  {
   "cell_type": "code",
   "execution_count": 9,
   "metadata": {},
   "outputs": [],
   "source": [
    "dataframe = dataset.preprocessed_data\n",
    "dataframe.columns = ['Price', 'MPG', 'NumOfCylinders', 'horsepower', 'FuelTankCapacity',\n",
    "       'RPM', 'Wheelbase', 'RearSeatRoom', 'Weight', 'AutomaticGearbox',\n",
    "       'PassengerCapacity', 'length', 'width', 'LuggageCapacity', 'Origin',\n",
    "       'Compact', 'Large', 'Midsize', 'Small', 'Sporty', 'Van', 'Acura',\n",
    "       'Audi', 'BMW', 'Buick', 'Cadillac', 'Chevrolet', 'Chrysler', 'Dodge',\n",
    "       'Eagle', 'Ford', 'Geo', 'Honda', 'Hyundai', 'Infiniti', 'Lexus',\n",
    "       'Lincoln', 'Mazda', 'MercedesBenz', 'Mercury', 'Mitsubishi', 'Nissan',\n",
    "       'Oldsmobile', 'Plymouth', 'Pontiac', 'Saab', 'Saturn', 'Subaru',\n",
    "       'Suzuki', 'Toyota', 'Volkswagen', 'Volvo', '4WD', 'Front', 'Rear',\n",
    "       'DriverPassenger', 'DriverOnly', 'NoAirBags']\n",
    "\n",
    "# Configure PandaSQL to query Pandas dataframe\n",
    "pysql = lambda q: pdsql.sqldf(q, globals())"
   ]
  },
  {
   "cell_type": "code",
   "execution_count": 10,
   "metadata": {},
   "outputs": [
    {
     "name": "stdout",
     "output_type": "stream",
     "text": [
      "------------------------------\n",
      "Iteration \t Best fitness\n",
      "1 \t\t 51.6854\n",
      "2 \t\t 35.9551\n",
      "3 \t\t 24.7191\n",
      "4 \t\t 16.8539\n",
      "5 \t\t 12.3596\n",
      "6 \t\t 8.9888\n",
      "7 \t\t 6.7416\n",
      "8 \t\t 4.4944\n",
      "9 \t\t 2.2472\n",
      "10 \t\t 1.1236\n",
      "11 \t\t 0.0000\n",
      "-------- Search ended --------\n",
      "------------------------------\n",
      "Iteration \t Best fitness\n",
      "1 \t\t 87.6712\n",
      "2 \t\t 76.7123\n",
      "3 \t\t 65.7534\n",
      "4 \t\t 57.5342\n",
      "5 \t\t 50.6849\n",
      "6 \t\t 45.2055\n",
      "7 \t\t 41.0959\n",
      "8 \t\t 36.9863\n",
      "9 \t\t 32.8767\n",
      "10 \t\t 28.7671\n",
      "11 \t\t 24.6575\n",
      "12 \t\t 20.5479\n",
      "13 \t\t 17.8082\n",
      "14 \t\t 15.0685\n",
      "15 \t\t 12.3288\n",
      "16 \t\t 9.5890\n",
      "17 \t\t 8.2192\n",
      "18 \t\t 6.8493\n",
      "19 \t\t 5.4795\n",
      "20 \t\t 4.1096\n",
      "21 \t\t 2.7397\n",
      "22 \t\t 1.3699\n",
      "23 \t\t 0.0000\n",
      "-------- Search ended --------\n",
      "------------------------------\n",
      "Iteration \t Best fitness\n",
      "1 \t\t 47.1264\n",
      "2 \t\t 25.2874\n",
      "3 \t\t 14.9425\n",
      "4 \t\t 10.3448\n",
      "5 \t\t 6.8966\n",
      "6 \t\t 3.4483\n",
      "7 \t\t 1.1494\n",
      "8 \t\t 0.0000\n",
      "-------- Search ended --------\n",
      "------------------------------\n",
      "Iteration \t Best fitness\n",
      "1 \t\t 60.9195\n",
      "2 \t\t 48.2759\n",
      "3 \t\t 36.7816\n",
      "4 \t\t 27.5862\n",
      "5 \t\t 20.6897\n",
      "6 \t\t 16.0920\n",
      "7 \t\t 12.6437\n",
      "8 \t\t 10.3448\n",
      "9 \t\t 8.0460\n",
      "10 \t\t 5.7471\n",
      "11 \t\t 3.4483\n",
      "12 \t\t 2.2989\n",
      "13 \t\t 1.1494\n",
      "14 \t\t 0.0000\n",
      "-------- Search ended --------\n",
      "------------------------------\n",
      "Iteration \t Best fitness\n",
      "1 \t\t 83.3333\n",
      "2 \t\t 71.7949\n",
      "3 \t\t 61.5385\n",
      "4 \t\t 52.5641\n",
      "5 \t\t 44.8718\n",
      "6 \t\t 38.4615\n",
      "7 \t\t 32.0513\n",
      "8 \t\t 26.9231\n",
      "9 \t\t 23.0769\n",
      "10 \t\t 20.5128\n",
      "11 \t\t 17.9487\n",
      "12 \t\t 15.3846\n",
      "13 \t\t 12.8205\n",
      "14 \t\t 11.5385\n",
      "15 \t\t 10.2564\n",
      "16 \t\t 8.9744\n",
      "17 \t\t 7.6923\n",
      "18 \t\t 6.4103\n",
      "19 \t\t 5.1282\n",
      "20 \t\t 3.8462\n",
      "21 \t\t 2.5641\n",
      "22 \t\t 1.2821\n",
      "23 \t\t 0.0000\n",
      "-------- Search ended --------\n",
      "------------------------------\n",
      "Iteration \t Best fitness\n",
      "1 \t\t 80.8219\n",
      "2 \t\t 69.8630\n",
      "3 \t\t 58.9041\n",
      "4 \t\t 49.3151\n",
      "5 \t\t 42.4658\n",
      "6 \t\t 38.3562\n",
      "7 \t\t 34.2466\n",
      "8 \t\t 30.1370\n",
      "9 \t\t 26.0274\n",
      "10 \t\t 23.2877\n",
      "11 \t\t 20.5479\n",
      "12 \t\t 17.8082\n",
      "13 \t\t 15.0685\n",
      "14 \t\t 12.3288\n",
      "15 \t\t 10.9589\n",
      "16 \t\t 9.5890\n",
      "17 \t\t 8.2192\n",
      "18 \t\t 6.8493\n",
      "19 \t\t 5.4795\n",
      "20 \t\t 4.1096\n",
      "21 \t\t 2.7397\n",
      "22 \t\t 1.3699\n",
      "23 \t\t 0.0000\n",
      "-------- Search ended --------\n",
      "------------------------------\n",
      "Iteration \t Best fitness\n",
      "1 \t\t 76.3158\n",
      "2 \t\t 67.1053\n",
      "3 \t\t 57.8947\n",
      "4 \t\t 51.3158\n",
      "5 \t\t 46.0526\n",
      "6 \t\t 40.7895\n",
      "7 \t\t 35.5263\n",
      "8 \t\t 31.5789\n",
      "9 \t\t 27.6316\n",
      "10 \t\t 23.6842\n",
      "11 \t\t 21.0526\n",
      "12 \t\t 18.4211\n",
      "13 \t\t 15.7895\n",
      "14 \t\t 13.1579\n",
      "15 \t\t 11.8421\n",
      "16 \t\t 10.5263\n",
      "17 \t\t 9.2105\n",
      "18 \t\t 7.8947\n",
      "19 \t\t 6.5789\n",
      "20 \t\t 5.2632\n",
      "21 \t\t 3.9474\n",
      "22 \t\t 2.6316\n",
      "23 \t\t 1.3158\n",
      "24 \t\t 0.0000\n",
      "-------- Search ended --------\n",
      "------------------------------\n",
      "Iteration \t Best fitness\n",
      "1 \t\t 61.6279\n",
      "2 \t\t 50.0000\n",
      "3 \t\t 41.8605\n",
      "4 \t\t 33.7209\n",
      "5 \t\t 26.7442\n",
      "6 \t\t 20.9302\n",
      "7 \t\t 16.2791\n",
      "8 \t\t 12.7907\n",
      "9 \t\t 9.3023\n",
      "10 \t\t 6.9767\n",
      "11 \t\t 4.6512\n",
      "12 \t\t 3.4884\n",
      "13 \t\t 2.3256\n",
      "14 \t\t 1.1628\n",
      "15 \t\t 0.0000\n",
      "-------- Search ended --------\n",
      "------------------------------\n",
      "Iteration \t Best fitness\n",
      "1 \t\t 70.0000\n",
      "2 \t\t 60.0000\n",
      "3 \t\t 51.4286\n",
      "4 \t\t 44.2857\n",
      "5 \t\t 38.5714\n",
      "6 \t\t 35.7143\n",
      "7 \t\t 32.8571\n",
      "8 \t\t 30.0000\n",
      "9 \t\t 27.1429\n",
      "10 \t\t 24.2857\n",
      "11 \t\t 21.4286\n",
      "12 \t\t 20.0000\n",
      "13 \t\t 18.5714\n",
      "14 \t\t 17.1429\n",
      "15 \t\t 15.7143\n",
      "16 \t\t 14.2857\n",
      "17 \t\t 12.8571\n",
      "18 \t\t 11.4286\n",
      "19 \t\t 10.0000\n",
      "20 \t\t 8.5714\n",
      "21 \t\t 7.1429\n",
      "22 \t\t 5.7143\n",
      "23 \t\t 4.2857\n",
      "24 \t\t 2.8571\n",
      "25 \t\t 1.4286\n",
      "26 \t\t 0.0000\n",
      "-------- Search ended --------\n",
      "------------------------------\n",
      "Iteration \t Best fitness\n",
      "1 \t\t 59.7403\n",
      "2 \t\t 49.3506\n",
      "3 \t\t 41.5584\n",
      "4 \t\t 33.7662\n",
      "5 \t\t 28.5714\n",
      "6 \t\t 23.3766\n",
      "7 \t\t 19.4805\n",
      "8 \t\t 16.8831\n",
      "9 \t\t 14.2857\n",
      "10 \t\t 11.6883\n",
      "11 \t\t 9.0909\n",
      "12 \t\t 6.4935\n",
      "13 \t\t 5.1948\n",
      "14 \t\t 3.8961\n",
      "15 \t\t 2.5974\n",
      "16 \t\t 1.2987\n",
      "17 \t\t 0.0000\n",
      "-------- Search ended --------\n",
      "Finished\n"
     ]
    }
   ],
   "source": [
    "[unknown_queries_discovery(dataframe, tuples_count=25) for x in range(10)]\n",
    "print('Finished')"
   ]
  },
  {
   "cell_type": "code",
   "execution_count": null,
   "metadata": {},
   "outputs": [],
   "source": []
  }
 ],
 "metadata": {
  "kernelspec": {
   "display_name": "Python 3",
   "language": "python",
   "name": "python3"
  },
  "language_info": {
   "codemirror_mode": {
    "name": "ipython",
    "version": 3
   },
   "file_extension": ".py",
   "mimetype": "text/x-python",
   "name": "python",
   "nbconvert_exporter": "python",
   "pygments_lexer": "ipython3",
   "version": "3.6.2"
  }
 },
 "nbformat": 4,
 "nbformat_minor": 2
}
